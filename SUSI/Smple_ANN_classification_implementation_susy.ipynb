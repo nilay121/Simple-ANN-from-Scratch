{
  "cells": [
    {
      "cell_type": "code",
      "execution_count": 1,
      "metadata": {
        "id": "s8mI9RYeCLmn"
      },
      "outputs": [],
      "source": [
        "#Real one"
      ]
    },
    {
      "cell_type": "code",
      "execution_count": 2,
      "metadata": {
        "id": "cn9WtVxwx-oa"
      },
      "outputs": [],
      "source": [
        "import pandas as pd\n",
        "import numpy as np\n",
        "from sklearn.preprocessing import MinMaxScaler\n",
        "import seaborn as sns\n",
        "import matplotlib.pyplot as plt\n",
        "from sklearn.ensemble import RandomForestClassifier\n",
        "from sklearn.model_selection import train_test_split\n",
        "from sklearn.metrics import confusion_matrix\n",
        "from sklearn.metrics import classification_report\n",
        "from sklearn.metrics import roc_auc_score\n",
        "from sklearn.metrics import f1_score"
      ]
    },
    {
      "cell_type": "code",
      "execution_count": 3,
      "metadata": {
        "colab": {
          "base_uri": "https://localhost:8080/"
        },
        "id": "k8McddfECfL6",
        "outputId": "460ee264-fef2-43ee-c7af-36234ce61622"
      },
      "outputs": [
        {
          "output_type": "stream",
          "name": "stdout",
          "text": [
            "Drive already mounted at /content/drive; to attempt to forcibly remount, call drive.mount(\"/content/drive\", force_remount=True).\n"
          ]
        }
      ],
      "source": [
        "from google.colab import drive\n",
        "drive.mount('/content/drive')"
      ]
    },
    {
      "cell_type": "code",
      "execution_count": 4,
      "metadata": {
        "id": "6SUnbQtwyRRr"
      },
      "outputs": [],
      "source": [
        "class ANN:\n",
        "    def __init__(self,epochs,lr,b1,b2):\n",
        "        self.epochs=epochs\n",
        "        self.lr=lr\n",
        "        self.weight_collector={}\n",
        "        self.loss_history=[]\n",
        "        self.smoothing=1e-15\n",
        "        self.alpha=1e-5\n",
        "        self.w1=[]\n",
        "        self.w2=[]\n",
        "        self.w3=[]\n",
        "        self.best_weights=[None,None,None]\n",
        "        self.b1=b1 # some constant value\n",
        "        self.b2=b2\n",
        "        self.loss_thresold=float(\"inf\")\n",
        "\n",
        "    def fit(self,X_train,y_train):\n",
        "        itr_numb=X_train.shape[0]\n",
        "        #initializing weights using he normal \n",
        "        self.w1=np.random.randn(3)*np.sqrt(2/1)\n",
        "        print(self.w1)\n",
        "        #Node 2 initialization\n",
        "        self.w2=np.random.randn(3)*np.sqrt(2/3)\n",
        "        print(self.w2)\n",
        "\n",
        "        #Node 3 initialization \n",
        "        self.w3=np.random.randn(2)*np.sqrt(2/2)\n",
        "        print(self.w3)\n",
        "\n",
        "\n",
        "        \n",
        "        # Weight adjustments\n",
        "        for k in range(0,self.epochs):\n",
        "            loss_sum=0\n",
        "            for i in range(0,itr_numb):\n",
        "                #Node 1\n",
        "                # multiplying weights with input \n",
        "                x_vec = X_train[i]\n",
        "                node1_out = np.dot(x_vec,self.w1)+self.b1\n",
        "                if node1_out<0:\n",
        "                  node1_out = self.alpha*(node1_out)\n",
        "                else:\n",
        "                  node1_out = max(0,node1_out) # relu\n",
        "\n",
        "                #Node 2\n",
        "                x_vec = X_train[i]\n",
        "                node2_out = np.dot(x_vec,self.w2)+self.b1\n",
        "                if node2_out<0:\n",
        "                  node2_out = self.alpha*(node2_out)\n",
        "                else:\n",
        "                  node2_out = max(0,node2_out) # relu\n",
        "\n",
        "                #Node 3\n",
        "\n",
        "                #Output layer\n",
        "\n",
        "                out_layer = [node1_out,node2_out]\n",
        "\n",
        "                # multiplying weights with input \n",
        "                x_vec = X_train[i]\n",
        "                out_node = np.dot(out_layer,self.w3)+self.b2\n",
        "                y_out=(1/(1+np.exp(-out_node)))\n",
        "\n",
        "                #Loss/Cost function and weight updation\n",
        "\n",
        "                # for node 1\n",
        "                slope1 = -(((y_train.iloc[i]/(y_out+self.smoothing))*(1/pow((1+np.exp(-out_node)),2))*np.exp(-out_node)*(self.w3[0]*X_train[i][0]))-\n",
        "                                          ((1-y_train.iloc[i])/(1-y_out+self.smoothing))*(1/pow((1+np.exp(out_node)),2))*np.exp(out_node)*\n",
        "                           (self.w3[0]*X_train[i][0]))\n",
        "                self.w1[0] = self.w1[0]-(self.lr*slope1)\n",
        "\n",
        "                slope2 = -(((y_train.iloc[i]/(y_out+self.smoothing))*(1/pow((1+np.exp(-out_node)),2))*np.exp(-out_node)*(self.w3[0]*X_train[i][1]))-\n",
        "                                          ((1-y_train.iloc[i])/(1-y_out+self.smoothing))*(1/pow((1+np.exp(out_node)),2))*np.exp(out_node)*(self.w3[0]*X_train[i][1]))\n",
        "                self.w1[1] = self.w1[1]-(self.lr*slope2)\n",
        "\n",
        "                slope3 = -(((y_train.iloc[i]/(y_out+self.smoothing))*(1/pow((1+np.exp(-out_node)),2))*np.exp(-out_node)*(self.w3[0]*X_train[i][2]))-\n",
        "                                          ((1-y_train.iloc[i])/(1-y_out+self.smoothing))*(1/pow((1+np.exp(out_node)),2))*np.exp(out_node)*(self.w3[0]*X_train[i][2]))\n",
        "                self.w1[1] = self.w1[1]-(self.lr*slope3)\n",
        "\n",
        "                # for node 2\n",
        "                slope4 = -(((y_train.iloc[i]/(y_out+self.smoothing))*(1/pow((1+np.exp(-out_node)),2))*np.exp(-out_node)*(self.w3[1]*X_train[i][0]))-\n",
        "                                          ((1-y_train.iloc[i])/(1-y_out+self.smoothing))*(1/pow((1+np.exp(out_node)),2))*np.exp(out_node)*(self.w3[1]*X_train[i][0]))\n",
        "                self.w2[0] = self.w2[0]-(self.lr*slope4)\n",
        "\n",
        "                slope5 = -(((y_train.iloc[i]/(y_out+self.smoothing))*(1/pow((1+np.exp(-out_node)),2))*np.exp(-out_node)*(self.w3[1]*X_train[i][1]))-\n",
        "                                          ((1-y_train.iloc[i])/(1-y_out+self.smoothing))*(1/pow((1+np.exp(out_node)),2))*np.exp(out_node)*(self.w3[1]*X_train[i][1]))\n",
        "                self.w2[1] = self.w2[1]-(self.lr*slope5)\n",
        "\n",
        "                slope6 = -(((y_train.iloc[i]/(y_out+self.smoothing))*(1/pow((1+np.exp(-out_node)),2))*np.exp(-out_node)*(self.w3[1]*X_train[i][2]))-\n",
        "                                          ((1-y_train.iloc[i])/(1-y_out+self.smoothing))*(1/pow((1+np.exp(out_node)),2))*np.exp(out_node)*(self.w3[1]*X_train[i][2]))\n",
        "                self.w2[1] = self.w2[1]-(self.lr*slope6)\n",
        "\n",
        "                #for output node \n",
        "\n",
        "                slope7 = -(((y_train.iloc[i]/(y_out+self.smoothing))*(1/pow((1+np.exp(-out_node)),2))*np.exp(-out_node)*(node1_out)-\n",
        "                                          ((1-y_train.iloc[i])/(1-y_out+self.smoothing))*(1/pow((1+np.exp(out_node)),2))*np.exp(out_node)*(node1_out)))\n",
        "                self.w3[0] = self.w3[0]-(self.lr*slope7)\n",
        "\n",
        "                slope8 = -(((y_train.iloc[i]/(y_out+self.smoothing))*(1/pow((1+np.exp(-out_node)),2))*np.exp(-out_node)*(node2_out)-\n",
        "                                          ((1-y_train.iloc[i])/(1-y_out+self.smoothing))*(1/pow((1+np.exp(out_node)),2))*np.exp(out_node)*(node2_out))) \n",
        "                self.w3[1] = self.w3[1]-(self.lr*slope8)\n",
        "\n",
        "                #Updating the biases\n",
        "                slope_bias1 = -(((y_train.iloc[i]/(y_out+self.smoothing))*\n",
        "                                 (1/pow((1+np.exp(-out_node)),2))*np.exp(-out_node)*(self.w3[0]+self.w3[1])-\n",
        "                                          ((1-y_train.iloc[i])/(1-y_out+self.smoothing))*\n",
        "                                 (1/pow((1+np.exp(out_node)),2))*np.exp(out_node)*(self.w3[0]+self.w3[1]))) \n",
        "                self.b1 = self.b1-(self.lr*slope_bias1)\n",
        "                \n",
        "                slope_bias2 = -(((y_train.iloc[i]/(y_out+self.smoothing))*\n",
        "                                 (1/pow((1+np.exp(-out_node)),2))*np.exp(-out_node)*(self.w3[0]*(node1_out)\n",
        "                                 +self.w3[1]*(node2_out))-((1-y_train.iloc[i])/(1-y_out+self.smoothing))*\n",
        "                                 (1/pow((1+np.exp(out_node)),2))*np.exp(out_node)*(self.w3[0]*(node1_out)\n",
        "                                 +self.w3[1]*(node2_out)))) \n",
        "                self.b2 = self.b2-(self.lr*slope_bias2)\n",
        "\n",
        "                ##Kepping the best weights\n",
        "                loss_sum+=(y_train.iloc[i]*np.log(y_out+self.smoothing))+(\n",
        "                    (1-y_train.iloc[i])*np.log(1-y_out+self.smoothing))\n",
        "            \n",
        "            final_loss = (-loss_sum/itr_numb)\n",
        "            self.loss_history.append(final_loss)\n",
        "            #check\n",
        "            print(\"************************* epoch \",k,\" **************************\")\n",
        "            print(\"##########################################################\")\n",
        "            print(\"w1\",self.w1)\n",
        "            print(\"w2\",self.w2)\n",
        "            print(\"w3\",self.w3)\n",
        "            print(\"b1\",self.b1)\n",
        "            print(\"b2\",self.b2)\n",
        "            print(node1_out)\n",
        "            print(node2_out)\n",
        "            print(y_out)\n",
        "            print(\"current loss is :- \",final_loss)\n",
        "            if (self.loss_history[k]<self.loss_thresold):\n",
        "              self.loss_thresold=self.loss_history[k]\n",
        "              self.best_weights[0]=self.w1\n",
        "              self.best_weights[1]=self.w2\n",
        "              self.best_weights[2]=self.w3\n",
        "\n",
        "    def predict(self,X_test):\n",
        "      #test data\n",
        "      itr_numb=X_test.shape[0]\n",
        "      predictions=[]\n",
        "      for i in range(0,itr_numb):\n",
        "        #Node 1\n",
        "        # multiplying weights with input \n",
        "        x_vec = X_test[i]\n",
        "        node1_out = np.dot(x_vec,self.w1)+self.b1\n",
        "\n",
        "        #Node 2\n",
        "        x_vec = X_test[i]\n",
        "        node2_out = np.dot(x_vec,self.w2)+self.b1\n",
        "\n",
        "        #Node 3\n",
        "\n",
        "        #Output layer\n",
        "\n",
        "        out_layer = [node1_out,node2_out]\n",
        "\n",
        "        # multiplying weights with input \n",
        "        x_vec = X_test[i]\n",
        "        out_node = np.dot(out_layer,self.w3)+self.b2\n",
        "        y_out=(1/(1+np.exp(-out_node)))\n",
        "        predictions.append(y_out)\n",
        "      return predictions\n",
        "\n",
        "    def train_loss_plot(self):\n",
        "        plt.plot(self.loss_history)\n",
        "        plt.xlabel(\"Epoch number\")\n",
        "        plt.ylabel(\"loss\")\n",
        "        plt.show()\n",
        "    def test_report(self,y_test,predictions):\n",
        "      conf_matrix = confusion_matrix(y_test,predictions)\n",
        "      sns.heatmap(data=conf_matrix,annot=True,fmt='d')\n",
        "      plt.xlabel(\"Predicted\")\n",
        "      plt.ylabel(\"Actual\")\n",
        "      print(classification_report(y_test,predictions))"
      ]
    },
    {
      "cell_type": "markdown",
      "metadata": {
        "id": "PFwdz2C1z_SC"
      },
      "source": [
        "# Data Preparation"
      ]
    },
    {
      "cell_type": "code",
      "execution_count": 5,
      "metadata": {
        "id": "1QWpACAoz_Va"
      },
      "outputs": [],
      "source": [
        "df=pd.read_csv(\"/content/drive/MyDrive/Colab Notebooks/SUSY/susycomplete.csv\")"
      ]
    },
    {
      "cell_type": "code",
      "execution_count": 6,
      "metadata": {
        "colab": {
          "base_uri": "https://localhost:8080/",
          "height": 242
        },
        "id": "0_-C2G8YB5IL",
        "outputId": "84776722-997e-406d-b5e6-faef465c86e2"
      },
      "outputs": [
        {
          "output_type": "execute_result",
          "data": {
            "text/html": [
              "\n",
              "  <div id=\"df-4a1f3eaa-3785-45d5-aad8-d701b537793a\">\n",
              "    <div class=\"colab-df-container\">\n",
              "      <div>\n",
              "<style scoped>\n",
              "    .dataframe tbody tr th:only-of-type {\n",
              "        vertical-align: middle;\n",
              "    }\n",
              "\n",
              "    .dataframe tbody tr th {\n",
              "        vertical-align: top;\n",
              "    }\n",
              "\n",
              "    .dataframe thead th {\n",
              "        text-align: right;\n",
              "    }\n",
              "</style>\n",
              "<table border=\"1\" class=\"dataframe\">\n",
              "  <thead>\n",
              "    <tr style=\"text-align: right;\">\n",
              "      <th></th>\n",
              "      <th>target</th>\n",
              "      <th>lepton 1 pT</th>\n",
              "      <th>lepton 1 eta</th>\n",
              "      <th>lepton 1 phi</th>\n",
              "      <th>lepton 2 pT</th>\n",
              "      <th>lepton 2 eta</th>\n",
              "      <th>lepton 2 phi</th>\n",
              "      <th>missing energy magnitude</th>\n",
              "      <th>missing energy phi</th>\n",
              "      <th>MET_rel</th>\n",
              "      <th>axial MET</th>\n",
              "      <th>M_R</th>\n",
              "      <th>M_TR_2</th>\n",
              "      <th>R</th>\n",
              "      <th>MT2</th>\n",
              "      <th>S_R</th>\n",
              "      <th>M_Delta_R</th>\n",
              "      <th>dPhi_r_b</th>\n",
              "      <th>cos(theta_r1)</th>\n",
              "    </tr>\n",
              "  </thead>\n",
              "  <tbody>\n",
              "    <tr>\n",
              "      <th>0</th>\n",
              "      <td>0.0</td>\n",
              "      <td>0.972861</td>\n",
              "      <td>0.653855</td>\n",
              "      <td>1.176225</td>\n",
              "      <td>1.157156</td>\n",
              "      <td>-1.739873</td>\n",
              "      <td>-0.874309</td>\n",
              "      <td>0.567765</td>\n",
              "      <td>-0.175000</td>\n",
              "      <td>0.810061</td>\n",
              "      <td>-0.252552</td>\n",
              "      <td>1.921887</td>\n",
              "      <td>0.889637</td>\n",
              "      <td>0.410772</td>\n",
              "      <td>1.145621</td>\n",
              "      <td>1.932632</td>\n",
              "      <td>0.994464</td>\n",
              "      <td>1.367815</td>\n",
              "      <td>0.040714</td>\n",
              "    </tr>\n",
              "    <tr>\n",
              "      <th>1</th>\n",
              "      <td>1.0</td>\n",
              "      <td>1.667973</td>\n",
              "      <td>0.064191</td>\n",
              "      <td>-1.225171</td>\n",
              "      <td>0.506102</td>\n",
              "      <td>-0.338939</td>\n",
              "      <td>1.672543</td>\n",
              "      <td>3.475464</td>\n",
              "      <td>-1.219136</td>\n",
              "      <td>0.012955</td>\n",
              "      <td>3.775174</td>\n",
              "      <td>1.045977</td>\n",
              "      <td>0.568051</td>\n",
              "      <td>0.481928</td>\n",
              "      <td>0.000000</td>\n",
              "      <td>0.448410</td>\n",
              "      <td>0.205356</td>\n",
              "      <td>1.321893</td>\n",
              "      <td>0.377584</td>\n",
              "    </tr>\n",
              "    <tr>\n",
              "      <th>2</th>\n",
              "      <td>1.0</td>\n",
              "      <td>0.444840</td>\n",
              "      <td>-0.134298</td>\n",
              "      <td>-0.709972</td>\n",
              "      <td>0.451719</td>\n",
              "      <td>-1.613871</td>\n",
              "      <td>-0.768661</td>\n",
              "      <td>1.219918</td>\n",
              "      <td>0.504026</td>\n",
              "      <td>1.831248</td>\n",
              "      <td>-0.431385</td>\n",
              "      <td>0.526283</td>\n",
              "      <td>0.941514</td>\n",
              "      <td>1.587535</td>\n",
              "      <td>2.024308</td>\n",
              "      <td>0.603498</td>\n",
              "      <td>1.562374</td>\n",
              "      <td>1.135454</td>\n",
              "      <td>0.180910</td>\n",
              "    </tr>\n",
              "  </tbody>\n",
              "</table>\n",
              "</div>\n",
              "      <button class=\"colab-df-convert\" onclick=\"convertToInteractive('df-4a1f3eaa-3785-45d5-aad8-d701b537793a')\"\n",
              "              title=\"Convert this dataframe to an interactive table.\"\n",
              "              style=\"display:none;\">\n",
              "        \n",
              "  <svg xmlns=\"http://www.w3.org/2000/svg\" height=\"24px\"viewBox=\"0 0 24 24\"\n",
              "       width=\"24px\">\n",
              "    <path d=\"M0 0h24v24H0V0z\" fill=\"none\"/>\n",
              "    <path d=\"M18.56 5.44l.94 2.06.94-2.06 2.06-.94-2.06-.94-.94-2.06-.94 2.06-2.06.94zm-11 1L8.5 8.5l.94-2.06 2.06-.94-2.06-.94L8.5 2.5l-.94 2.06-2.06.94zm10 10l.94 2.06.94-2.06 2.06-.94-2.06-.94-.94-2.06-.94 2.06-2.06.94z\"/><path d=\"M17.41 7.96l-1.37-1.37c-.4-.4-.92-.59-1.43-.59-.52 0-1.04.2-1.43.59L10.3 9.45l-7.72 7.72c-.78.78-.78 2.05 0 2.83L4 21.41c.39.39.9.59 1.41.59.51 0 1.02-.2 1.41-.59l7.78-7.78 2.81-2.81c.8-.78.8-2.07 0-2.86zM5.41 20L4 18.59l7.72-7.72 1.47 1.35L5.41 20z\"/>\n",
              "  </svg>\n",
              "      </button>\n",
              "      \n",
              "  <style>\n",
              "    .colab-df-container {\n",
              "      display:flex;\n",
              "      flex-wrap:wrap;\n",
              "      gap: 12px;\n",
              "    }\n",
              "\n",
              "    .colab-df-convert {\n",
              "      background-color: #E8F0FE;\n",
              "      border: none;\n",
              "      border-radius: 50%;\n",
              "      cursor: pointer;\n",
              "      display: none;\n",
              "      fill: #1967D2;\n",
              "      height: 32px;\n",
              "      padding: 0 0 0 0;\n",
              "      width: 32px;\n",
              "    }\n",
              "\n",
              "    .colab-df-convert:hover {\n",
              "      background-color: #E2EBFA;\n",
              "      box-shadow: 0px 1px 2px rgba(60, 64, 67, 0.3), 0px 1px 3px 1px rgba(60, 64, 67, 0.15);\n",
              "      fill: #174EA6;\n",
              "    }\n",
              "\n",
              "    [theme=dark] .colab-df-convert {\n",
              "      background-color: #3B4455;\n",
              "      fill: #D2E3FC;\n",
              "    }\n",
              "\n",
              "    [theme=dark] .colab-df-convert:hover {\n",
              "      background-color: #434B5C;\n",
              "      box-shadow: 0px 1px 3px 1px rgba(0, 0, 0, 0.15);\n",
              "      filter: drop-shadow(0px 1px 2px rgba(0, 0, 0, 0.3));\n",
              "      fill: #FFFFFF;\n",
              "    }\n",
              "  </style>\n",
              "\n",
              "      <script>\n",
              "        const buttonEl =\n",
              "          document.querySelector('#df-4a1f3eaa-3785-45d5-aad8-d701b537793a button.colab-df-convert');\n",
              "        buttonEl.style.display =\n",
              "          google.colab.kernel.accessAllowed ? 'block' : 'none';\n",
              "\n",
              "        async function convertToInteractive(key) {\n",
              "          const element = document.querySelector('#df-4a1f3eaa-3785-45d5-aad8-d701b537793a');\n",
              "          const dataTable =\n",
              "            await google.colab.kernel.invokeFunction('convertToInteractive',\n",
              "                                                     [key], {});\n",
              "          if (!dataTable) return;\n",
              "\n",
              "          const docLinkHtml = 'Like what you see? Visit the ' +\n",
              "            '<a target=\"_blank\" href=https://colab.research.google.com/notebooks/data_table.ipynb>data table notebook</a>'\n",
              "            + ' to learn more about interactive tables.';\n",
              "          element.innerHTML = '';\n",
              "          dataTable['output_type'] = 'display_data';\n",
              "          await google.colab.output.renderOutput(dataTable, element);\n",
              "          const docLink = document.createElement('div');\n",
              "          docLink.innerHTML = docLinkHtml;\n",
              "          element.appendChild(docLink);\n",
              "        }\n",
              "      </script>\n",
              "    </div>\n",
              "  </div>\n",
              "  "
            ],
            "text/plain": [
              "   target   lepton 1 pT   lepton 1 eta  ...   M_Delta_R   dPhi_r_b   cos(theta_r1)\n",
              "0     0.0      0.972861       0.653855  ...    0.994464   1.367815        0.040714\n",
              "1     1.0      1.667973       0.064191  ...    0.205356   1.321893        0.377584\n",
              "2     1.0      0.444840      -0.134298  ...    1.562374   1.135454        0.180910\n",
              "\n",
              "[3 rows x 19 columns]"
            ]
          },
          "metadata": {},
          "execution_count": 6
        }
      ],
      "source": [
        "df.head(3)"
      ]
    },
    {
      "cell_type": "code",
      "source": [
        "df.shape"
      ],
      "metadata": {
        "colab": {
          "base_uri": "https://localhost:8080/"
        },
        "id": "tzAY1szCKU_S",
        "outputId": "5dae30f4-16c6-4871-8e36-11e8250d5794"
      },
      "execution_count": 7,
      "outputs": [
        {
          "output_type": "execute_result",
          "data": {
            "text/plain": [
              "(100000, 19)"
            ]
          },
          "metadata": {},
          "execution_count": 7
        }
      ]
    },
    {
      "cell_type": "code",
      "source": [
        "df['target'].value_counts()"
      ],
      "metadata": {
        "colab": {
          "base_uri": "https://localhost:8080/"
        },
        "id": "PthzIZ6TKXiA",
        "outputId": "ffd14fbe-de1d-4bb5-bb7d-5a687aa77ea9"
      },
      "execution_count": 8,
      "outputs": [
        {
          "output_type": "execute_result",
          "data": {
            "text/plain": [
              "0.0    54025\n",
              "1.0    45975\n",
              "Name: target, dtype: int64"
            ]
          },
          "metadata": {},
          "execution_count": 8
        }
      ]
    },
    {
      "cell_type": "code",
      "source": [
        "plt.figure(figsize=(12,7))\n",
        "corr=df.corr()\n",
        "sns.heatmap(corr,annot=True,fmt='.1g')"
      ],
      "metadata": {
        "colab": {
          "base_uri": "https://localhost:8080/",
          "height": 576
        },
        "id": "7ay513WtKXeH",
        "outputId": "09fd7aff-3e25-424c-905a-0afa3c1bce85"
      },
      "execution_count": 9,
      "outputs": [
        {
          "output_type": "execute_result",
          "data": {
            "text/plain": [
              "<matplotlib.axes._subplots.AxesSubplot at 0x7fd2419d5a50>"
            ]
          },
          "metadata": {},
          "execution_count": 9
        },
        {
          "output_type": "display_data",
          "data": {
            "image/png": "[encoded data removed]",
            "text/plain": [
              "<Figure size 864x504 with 2 Axes>"
            ]
          },
          "metadata": {
            "needs_background": "light"
          }
        }
      ]
    },
    {
      "cell_type": "code",
      "execution_count": 10,
      "metadata": {
        "id": "1Gb2oGsZz_YC"
      },
      "outputs": [],
      "source": [
        "\n",
        "\n",
        "X=df[[' lepton 1 pT',' missing energy magnitude',' M_TR_2']]\n",
        "y=df['target']"
      ]
    },
    {
      "cell_type": "code",
      "execution_count": 11,
      "metadata": {
        "id": "XFUZMoK-B5IM"
      },
      "outputs": [],
      "source": [
        "X=X[0:30000]\n",
        "y=y[0:30000]\n",
        "scaling = MinMaxScaler()\n",
        "X_scaled=scaling.fit_transform(X)"
      ]
    },
    {
      "cell_type": "code",
      "execution_count": 12,
      "metadata": {
        "id": "Y2gt2VSHz_as"
      },
      "outputs": [],
      "source": [
        "X_train,X_test,y_train,y_test = train_test_split(X_scaled,y,test_size=0.50,random_state=32)"
      ]
    },
    {
      "cell_type": "code",
      "execution_count": 13,
      "metadata": {
        "colab": {
          "base_uri": "https://localhost:8080/"
        },
        "id": "XrMFTCssz_dd",
        "outputId": "b737a6c2-6d05-4be3-d6d0-a359b1fc4638"
      },
      "outputs": [
        {
          "output_type": "execute_result",
          "data": {
            "text/plain": [
              "(15000, 3)"
            ]
          },
          "metadata": {},
          "execution_count": 13
        }
      ],
      "source": [
        "X_train.shape"
      ]
    },
    {
      "cell_type": "code",
      "execution_count": 14,
      "metadata": {
        "colab": {
          "base_uri": "https://localhost:8080/"
        },
        "id": "MiOTeXCQB5IQ",
        "outputId": "faae4363-6106-416a-f39e-7862b5c4c49f"
      },
      "outputs": [
        {
          "output_type": "execute_result",
          "data": {
            "text/plain": [
              "0.0    8079\n",
              "1.0    6921\n",
              "Name: target, dtype: int64"
            ]
          },
          "metadata": {},
          "execution_count": 14
        }
      ],
      "source": [
        "y_train.value_counts()"
      ]
    },
    {
      "cell_type": "code",
      "execution_count": 15,
      "metadata": {
        "colab": {
          "base_uri": "https://localhost:8080/"
        },
        "id": "BLLC9FYN_UPR",
        "outputId": "25561e02-7042-45c5-9ec0-e2999bcc7f0f"
      },
      "outputs": [
        {
          "output_type": "execute_result",
          "data": {
            "text/plain": [
              "0.0    8159\n",
              "1.0    6841\n",
              "Name: target, dtype: int64"
            ]
          },
          "metadata": {},
          "execution_count": 15
        }
      ],
      "source": [
        "y_test.value_counts()"
      ]
    },
    {
      "cell_type": "markdown",
      "metadata": {
        "id": "TXz5FObbz_fy"
      },
      "source": [
        "# Testing"
      ]
    },
    {
      "cell_type": "code",
      "execution_count": 16,
      "metadata": {
        "id": "aduTkXLUz_iS"
      },
      "outputs": [],
      "source": [
        "#3,5.5 -- best\n",
        "#3,8.5---- 2nd good\n",
        "ann_object = ANN(100,0.0001,3,5.5)"
      ]
    },
    {
      "cell_type": "code",
      "execution_count": 17,
      "metadata": {
        "colab": {
          "base_uri": "https://localhost:8080/"
        },
        "id": "ohUUTopcz_k6",
        "outputId": "af443ac1-63de-4cb7-e637-4f6a737ec7da"
      },
      "outputs": [
        {
          "output_type": "stream",
          "name": "stdout",
          "text": [
            "[-2.39349333 -1.9970122   1.59936409]\n",
            "[-0.25557174 -0.38151422 -0.58230759]\n",
            "[-0.79586894 -1.0485422 ]\n",
            "************************* epoch  0  **************************\n",
            "##########################################################\n",
            "w1 [-2.40683815 -2.02190612  1.59936409]\n",
            "w2 [-0.27252094 -0.41311697 -0.58230759]\n",
            "w3 [-0.89101169 -1.11434054]\n",
            "b1 3.030155172045077\n",
            "b2 5.651688057166057\n",
            "2.96762718472476\n",
            "2.9645312121740472\n",
            "0.42665722272176493\n",
            "current loss is :-  0.6425381233463295\n",
            "************************* epoch  1  **************************\n",
            "##########################################################\n",
            "w1 [-2.42214096 -2.05101035  1.59936409]\n",
            "w2 [-0.29131638 -0.44886056 -0.58230759]\n",
            "w3 [-0.91717919 -1.11014591]\n",
            "b1 3.0134625781115174\n",
            "b2 5.670959201907527\n",
            "2.9489834663220336\n",
            "2.9454424994100914\n",
            "0.42478178744226786\n",
            "current loss is :-  0.6386402558124846\n",
            "************************* epoch  2  **************************\n",
            "##########################################################\n",
            "w1 [-2.43770137 -2.08064966  1.59936409]\n",
            "w2 [-0.30982964 -0.48412133 -0.58230759]\n",
            "w3 [-0.94334265 -1.10647171]\n",
            "b1 2.996374091125888\n",
            "b2 5.691499572503026\n",
            "2.9299084011640764\n",
            "2.925990753617638\n",
            "0.4232459949268001\n",
            "current loss is :-  0.6367311928688294\n",
            "************************* epoch  3  **************************\n",
            "##########################################################\n",
            "w1 [-2.45350345 -2.11079417  1.59936409]\n",
            "w2 [-0.32806322 -0.51890133 -0.58230759]\n",
            "w3 [-0.96979873 -1.10359569]\n",
            "b1 2.9790962939583236\n",
            "b2 5.713897297481099\n",
            "2.910610626479809\n",
            "2.9063824383504677\n",
            "0.4216944975002027\n",
            "current loss is :-  0.6348072109321518\n",
            "************************* epoch  4  **************************\n",
            "##########################################################\n",
            "w1 [-2.469538   -2.14142868  1.59936409]\n",
            "w2 [-0.3460275  -0.55321985 -0.58230759]\n",
            "w3 [-0.99657643 -1.10152399]\n",
            "b1 2.9616497921143408\n",
            "b2 5.738204377738323\n",
            "2.8911117911368738\n",
            "2.8866368605504764\n",
            "0.42012442471740075\n",
            "current loss is :-  0.6328638681589712\n",
            "************************* epoch  5  **************************\n",
            "##########################################################\n",
            "w1 [-2.48579554 -2.17253751  1.59936409]\n",
            "w2 [-0.36373219 -0.58709512 -0.58230759]\n",
            "w3 [-1.02370294 -1.10026301]\n",
            "b1 2.944056829232348\n",
            "b2 5.7644765551754995\n",
            "2.871435214690667\n",
            "2.8667750399894243\n",
            "0.4185344268386723\n",
            "current loss is :-  0.6308989379931952\n",
            "************************* epoch  6  **************************\n",
            "##########################################################\n",
            "w1 [-2.50226625 -2.20410435  1.59936409]\n",
            "w2 [-0.38118634 -0.62054422 -0.58230759]\n",
            "w3 [-1.05120462 -1.09982027]\n",
            "b1 2.9263421904420786\n",
            "b2 5.792775182601722\n",
            "2.851606801447531\n",
            "2.8468206152122097\n",
            "0.4169232466685752\n",
            "current loss is :-  0.6289104011077837\n",
            "************************* epoch  7  **************************\n",
            "##########################################################\n",
            "w1 [-2.51893989 -2.23611212  1.59936409]\n",
            "w2 [-0.39839837 -0.6535831  -0.58230759]\n",
            "w3 [-1.07910685 -1.10020422]\n",
            "b1 2.908533311945166\n",
            "b2 5.823166808292054\n",
            "2.8316551562356276\n",
            "2.8267999511699635\n",
            "0.4152897134620485\n",
            "current loss is :-  0.6268964464827286\n",
            "************************* epoch  8  **************************\n",
            "##########################################################\n",
            "w1 [-2.53580577 -2.26854298  1.59936409]\n",
            "w2 [-0.41537608 -0.68622666 -0.58230759]\n",
            "w3 [-1.10743374 -1.10142392]\n",
            "b1 2.8906603627920724\n",
            "b2 5.855722670482094\n",
            "2.811611672105717\n",
            "2.806742219562951\n",
            "0.4136327435679906\n",
            "current loss is :-  0.6248554837081591\n",
            "************************* epoch  9  **************************\n",
            "##########################################################\n",
            "w1 [-2.55285273 -2.30137813  1.59936409]\n",
            "w2 [-0.43212665 -0.71848872 -0.58230759]\n",
            "w3 [-1.13620799 -1.10348878]\n",
            "b1 2.87275629441826\n",
            "b2 5.89051809567096\n",
            "2.79151058544325\n",
            "2.7866794474148833\n",
            "0.4119513416516624\n",
            "current loss is :-  0.6227861580777945\n",
            "************************* epoch  10  **************************\n",
            "##########################################################\n",
            "w1 [-2.57006904 -2.33459783  1.59936409]\n",
            "w2 [-0.44865665 -0.75038203 -0.58230759]\n",
            "w3 [-1.16545055 -1.10640816]\n",
            "b1 2.8548568493185904\n",
            "b2 5.927631785535411\n",
            "2.7713889897509705\n",
            "2.766646525187194\n",
            "0.4102446024880686\n",
            "current loss is :-  0.6206873681193207\n",
            "************************* epoch  11  **************************\n",
            "##########################################################\n",
            "w1 [-2.58744243 -2.36818129  1.59936409]\n",
            "w2 [-0.46497202 -0.78191827 -0.58230759]\n",
            "w3 [-1.19518035 -1.11019106]\n",
            "b1 2.837000519701433\n",
            "b2 5.967144978686713\n",
            "2.7512867988060945\n",
            "2.7466811651958674\n",
            "0.408511713386511\n",
            "current loss is :-  0.6185582851381138\n",
            "************************* epoch  12  **************************\n",
            "##########################################################\n",
            "w1 [-2.60496002 -2.4021066   1.59936409]\n",
            "w2 [-0.48107812 -0.81310811 -0.58230759]\n",
            "w3 [-1.22541396 -1.11484571]\n",
            "b1 2.819228446814831\n",
            "b2 6.009140476023815\n",
            "2.7312466497317396\n",
            "2.726823800935181\n",
            "0.4067519573496351\n",
            "current loss is :-  0.61639837422476\n",
            "************************* epoch  13  **************************\n",
            "##########################################################\n",
            "w1 [-2.62260833 -2.43635071  1.59936409]\n",
            "w2 [-0.4969797  -0.84396109 -0.58230759]\n",
            "w3 [-1.2561653 -1.1203791]\n",
            "b1 2.801584251999038\n",
            "b2 6.053701522221584\n",
            "2.7113137368736715\n",
            "2.7071174182654634\n",
            "0.40496471711417387\n",
            "current loss is :-  0.6142074160351165\n",
            "************************* epoch  14  **************************\n",
            "##########################################################\n",
            "w1 [-2.64037325 -2.47088943  1.59936409]\n",
            "w2 [-0.51268089 -0.87448575 -0.58230759]\n",
            "w3 [-1.28744519 -1.12679659]\n",
            "b1 2.784113791531569\n",
            "b2 6.100910541067545\n",
            "2.691535568380302\n",
            "2.687607310425496\n",
            "0.4031494802557088\n",
            "current loss is :-  0.6119855285019715\n",
            "************************* epoch  15  **************************\n",
            "##########################################################\n",
            "w1 [-2.65824002 -2.50569735  1.59936409]\n",
            "w2 [-0.52818523 -0.90468952 -0.58230759]\n",
            "w3 [-1.31926109 -1.13410143]\n",
            "b1 2.7668648291159896\n",
            "b2 6.150847729008811\n",
            "2.6719616391723937\n",
            "2.6683407506088117\n",
            "0.40130584556195076\n",
            "current loss is :-  0.609733187489737\n",
            "************************* epoch  16  **************************\n",
            "##########################################################\n",
            "w1 [-2.6761933  -2.54074791  1.59936409]\n",
            "w2 [-0.54349566 -0.9345788  -0.58230759]\n",
            "w3 [-1.35161667 -1.14229428]\n",
            "b1 2.749886622507976\n",
            "b2 6.20358951929879\n",
            "2.6526430166439106\n",
            "2.649366578482126\n",
            "0.3994335308744088\n",
            "current loss is :-  0.6074512452721224\n",
            "************************* epoch  17  **************************\n",
            "##########################################################\n",
            "w1 [-2.69421713 -2.57601349  1.59936409]\n",
            "w2 [-0.55861452 -0.96415894 -0.58230759]\n",
            "w3 [-1.38451155 -1.15137279]\n",
            "b1 2.7332293925514457\n",
            "b2 6.259206989825489\n",
            "2.633631804162197\n",
            "2.6307346662466413\n",
            "0.3975323920736974\n",
            "current loss is :-  0.6051409692585451\n",
            "************************* epoch  18  **************************\n",
            "##########################################################\n",
            "w1 [-2.71229504 -2.61146539  1.59936409]\n",
            "w2 [-0.57354356 -0.99343428 -0.58230759]\n",
            "w3 [-1.41794096 -1.16133119]\n",
            "b1 2.716943779594647\n",
            "b2 6.317764138885999\n",
            "2.6149805959722694\n",
            "2.6124953765203225\n",
            "0.39560241447831845\n",
            "current loss is :-  0.6028040045781842\n",
            "************************* epoch  19  **************************\n",
            "##########################################################\n",
            "w1 [-2.73040999 -2.64707384  1.59936409]\n",
            "w2 [-0.58828399 -1.02240804 -0.58230759]\n",
            "w3 [-1.45189547 -1.1721599 ]\n",
            "b1 2.7010802381566292\n",
            "b2 6.379316012658931\n",
            "2.596741871441279\n",
            "2.594698959961079\n",
            "0.3936437192635594\n",
            "current loss is :-  0.6004423626761497\n",
            "************************* epoch  20  **************************\n",
            "##########################################################\n",
            "w1 [-2.74854454 -2.6828082   1.59936409]\n",
            "w2 [-0.60283642 -1.05108246 -0.58230759]\n",
            "w3 [-1.48636078 -1.18384518]\n",
            "b1 2.685688257894941\n",
            "b2 6.443906996279938\n",
            "2.57896720361964\n",
            "2.5773947700256206\n",
            "0.39165661273613844\n",
            "current loss is :-  0.5980585018144121\n",
            "************************* epoch  21  **************************\n",
            "##########################################################\n",
            "w1 [-2.76668088 -2.7186371   1.59936409]\n",
            "w2 [-0.61720098 -1.0794588  -0.58230759]\n",
            "w3 [-1.52131768 -1.19636892]\n",
            "b1 2.6708156285910847\n",
            "b2 6.51156918349575\n",
            "2.561706515298484\n",
            "2.5606305254431594\n",
            "0.389641583319506\n",
            "current loss is :-  0.5956552735965452\n",
            "************************* epoch  22  **************************\n",
            "##########################################################\n",
            "w1 [-2.78480097 -2.75452867  1.59936409]\n",
            "w2 [-0.63137731 -1.10753752 -0.58230759]\n",
            "w3 [-1.55674212 -1.20970853]\n",
            "b1 2.6565075694265747\n",
            "b2 6.582320961511411\n",
            "2.545007189778777\n",
            "2.5444514299718475\n",
            "0.3875993754542302\n",
            "current loss is :-  0.5932359648869747\n",
            "************************* epoch  23  **************************\n",
            "##########################################################\n",
            "w1 [-2.80288654 -2.79045053  1.59936409]\n",
            "w2 [-0.64536459 -1.1353181  -0.58230759]\n",
            "w3 [-1.59260521 -1.22383691]\n",
            "b1 2.642806249674946\n",
            "b2 6.656165619795789\n",
            "2.528913595917284\n",
            "2.5288997018395625\n",
            "0.3855308264900452\n",
            "current loss is :-  0.5908040784091384\n",
            "************************* epoch  24  **************************\n",
            "##########################################################\n",
            "w1 [-2.82091925 -2.82637002  1.59936409]\n",
            "w2 [-0.65916155 -1.16279923 -0.58230759]\n",
            "w3 [-1.62887334 -1.23872246]\n",
            "b1 2.629749902231943\n",
            "b2 6.7330900703279335\n",
            "2.513466182834722\n",
            "2.5140136776164432\n",
            "0.3834370397317866\n",
            "current loss is :-  0.588363477160398\n",
            "************************* epoch  25  **************************\n",
            "##########################################################\n",
            "w1 [-2.83888079 -2.86225446  1.59936409]\n",
            "w2 [-0.67276656 -1.18997887 -0.58230759]\n",
            "w3 [-1.66550863 -1.25432928]\n",
            "b1 2.6173721850715954\n",
            "b2 6.813064182905432\n",
            "2.498700825961569\n",
            "2.4998271668748417\n",
            "0.3813193763982203\n",
            "current loss is :-  0.5859183081449993\n",
            "************************* epoch  26  **************************\n",
            "##########################################################\n",
            "w1 [-2.85675303 -2.89807131  1.59936409]\n",
            "w2 [-0.68617767 -1.21685435 -0.58230759]\n",
            "w3 [-1.7024693  -1.27061749]\n",
            "b1 2.6057016617687605\n",
            "b2 6.896040436947\n",
            "2.4846482934427043\n",
            "2.48636892673236\n",
            "0.3791794388954779\n",
            "current loss is :-  0.5834729322562374\n",
            "************************* epoch  27  **************************\n",
            "##########################################################\n",
            "w1 [-2.87451809 -2.93378847  1.59936409]\n",
            "w2 [-0.69939268 -1.2434225  -0.58230759]\n",
            "w3 [-1.73971022 -1.28754368]\n",
            "b1 2.5947613788168717\n",
            "b2 6.981953942614282\n",
            "2.471333807958061\n",
            "2.473662231775585\n",
            "0.3770190709671138\n",
            "current loss is :-  0.5810318715876579\n",
            "************************* epoch  28  **************************\n",
            "##########################################################\n",
            "w1 [-2.8921585  -2.96937435  1.59936409]\n",
            "w2 [-0.7124092  -1.26967962 -0.58230759]\n",
            "w3 [-1.77718346 -1.30506133]\n",
            "b1 2.5845686119426694\n",
            "b2 7.0707226471233415\n",
            "2.458776784877453\n",
            "2.461724617927965\n",
            "0.37484035299100266\n",
            "current loss is :-  0.5785997123292249\n",
            "************************* epoch  29  **************************\n",
            "##########################################################\n",
            "w1 [-2.90965728 -3.00479807  1.59936409]\n",
            "w2 [-0.72522465 -1.29562167 -0.58230759]\n",
            "w3 [-1.81483892 -1.32312141]\n",
            "b1 2.5751347223930297\n",
            "b2 7.162248121702608\n",
            "2.4469906732625333\n",
            "2.45056773028431\n",
            "0.37264558714395996\n",
            "current loss is :-  0.5761810825892998\n",
            "************************* epoch  30  **************************\n",
            "##########################################################\n",
            "w1 [-2.92699804 -3.04002968  1.59936409]\n",
            "w2 [-0.73783642 -1.32124433 -0.58230759]\n",
            "w3 [-1.85262506 -1.34167299]\n",
            "b1 2.5664651738187003\n",
            "b2 7.256416639569449\n",
            "2.4359829610794583\n",
            "2.4401973335780514\n",
            "0.37043727434274915\n",
            "current loss is :-  0.5737805763164123\n",
            "************************* epoch  31  **************************\n",
            "##########################################################\n",
            "w1 [-2.94416507 -3.07504029  1.59936409]\n",
            "w2 [-0.75024182 -1.34654308 -0.58230759]\n",
            "w3 [-1.89048951 -1.36066386]\n",
            "b1 2.5585596801847927\n",
            "b2 7.353100461855893\n",
            "2.4257553129513107\n",
            "2.4306134540549778\n",
            "0.3682181001460856\n",
            "current loss is :-  0.571402682069334\n",
            "************************* epoch  32  **************************\n",
            "##########################################################\n",
            "w1 [-2.96114338 -3.10980218  1.59936409]\n",
            "w2 [-0.76243815 -1.3715133  -0.58230759]\n",
            "w3 [-1.92837971 -1.38004114]\n",
            "b1 2.551412493933463\n",
            "b2 7.452159357657266\n",
            "2.416303851697518\n",
            "2.421810663425965\n",
            "0.36599090188422156\n",
            "current loss is :-  0.5690517258301043\n",
            "************************* epoch  33  **************************\n",
            "##########################################################\n",
            "w1 [-2.97791878 -3.14428893  1.59936409]\n",
            "w2 [-0.77442279 -1.39615034 -0.58230759]\n",
            "w3 [-1.96624363 -1.39975194]\n",
            "b1 2.5450127782565097\n",
            "b2 7.55344245963825\n",
            "2.40761951996323\n",
            "2.4137784433364375\n",
            "0.36375863533965386\n",
            "current loss is :-  0.5667318459847491\n",
            "************************* epoch  34  **************************\n",
            "##########################################################\n",
            "w1 [-2.99447798 -3.17847555  1.59936409]\n",
            "w2 [-0.78619322 -1.42044962 -0.58230759]\n",
            "w3 [-2.00403117 -1.41974386]\n",
            "b1 2.5393450345800237\n",
            "b2 7.656791891924246\n",
            "2.3996885005581534\n",
            "2.4065016072152368\n",
            "0.36152429710783424\n",
            "current loss is :-  0.5644457077199379\n",
            "************************* epoch  35  **************************\n",
            "##########################################################\n",
            "w1 [-3.01080857 -3.21233853  1.59936409]\n",
            "w2 [-0.79774707 -1.44440669 -0.58230759]\n",
            "w3 [-2.04169492 -1.43996559]\n",
            "b1 2.534389655941108\n",
            "b2 7.762045263668051\n",
            "2.392492764906387\n",
            "2.3999608495512925\n",
            "0.35929090031252187\n",
            "current loss is :-  0.5621953156681747\n",
            "************************* epoch  36  **************************\n",
            "##########################################################\n",
            "w1 [-3.0268991  -3.24585589  1.59936409]\n",
            "w2 [-0.80908212 -1.46801728 -0.58230759]\n",
            "w3 [-2.07918745 -1.46036737]\n",
            "b1 2.530123661927657\n",
            "b2 7.869031367963686\n",
            "2.3860108073825477\n",
            "2.3941334784946875\n",
            "0.3570615571341693\n",
            "current loss is :-  0.5599866931492732\n",
            "************************* epoch  37  **************************\n",
            "##########################################################\n",
            "w1 [-3.04273902 -3.27900717  1.59936409]\n",
            "w2 [-0.82019637 -1.49127735 -0.58230759]\n",
            "w3 [-2.11646371 -1.48090139]\n",
            "b1 2.526521164621727\n",
            "b2 7.977575968508207\n",
            "2.380218107745029\n",
            "2.3889938758705203\n",
            "0.35483931160060356\n",
            "current loss is :-  0.557822806485274\n",
            "************************* epoch  38  **************************\n",
            "##########################################################\n",
            "w1 [-3.05831878 -3.31177353  1.59936409]\n",
            "w2 [-0.83108805 -1.51418319 -0.58230759]\n",
            "w3 [-2.15348137 -1.50152207]\n",
            "b1 2.523553907033923\n",
            "b2 8.087503506902976\n",
            "2.3750876674946046\n",
            "2.384514031650891\n",
            "0.35262714300347614\n",
            "current loss is :-  0.5557062804528664\n",
            "************************* epoch  39  **************************\n",
            "##########################################################\n",
            "w1 [-3.07362974 -3.34413765  1.59936409]\n",
            "w2 [-0.84175568 -1.53673142 -0.58230759]\n",
            "w3 [-2.19020097 -1.52218626]\n",
            "b1 2.5211918308784225\n",
            "b2 8.198638647928034\n",
            "2.3705905794876947\n",
            "2.3806641102977935\n",
            "0.35042792861803723\n",
            "current loss is :-  0.5536393757038861\n",
            "************************* epoch  40  **************************\n",
            "##########################################################\n",
            "w1 [-3.08866422 -3.37608381  1.59936409]\n",
            "w2 [-0.852198   -1.55891901 -0.58230759]\n",
            "w3 [-2.22658607 -1.54285347]\n",
            "b1 2.5194035877768637\n",
            "b2 8.31080774225588\n",
            "2.366696539524956\n",
            "2.377412959368906\n",
            "0.3482444254469361\n",
            "current loss is :-  0.551624007137885\n",
            "************************* epoch  41  **************************\n",
            "##########################################################\n",
            "w1 [-3.10341547 -3.40759779  1.59936409]\n",
            "w2 [-0.86241408 -1.58074337 -0.58230759]\n",
            "w3 [-2.26260336 -1.56348594]\n",
            "b1 2.518157011625967\n",
            "b2 8.423840156441267\n",
            "2.3633743195329013\n",
            "2.3747285795272615\n",
            "0.3460792518464059\n",
            "current loss is :-  0.5496617530597826\n",
            "************************* epoch  42  **************************\n",
            "##########################################################\n",
            "w1 [-3.11787761 -3.43866689  1.59936409]\n",
            "w2 [-0.87240326 -1.60220231 -0.58230759]\n",
            "w3 [-2.29822265 -1.58404873]\n",
            "b1 2.517419557374649\n",
            "b2 8.537569344521732\n",
            "2.3605922098673595\n",
            "2.3725785628280756\n",
            "0.3439348622940812\n",
            "current loss is :-  0.5477538522421977\n",
            "************************* epoch  43  **************************\n",
            "##########################################################\n",
            "w1 [-3.13204562 -3.46927987  1.59936409]\n",
            "w2 [-0.88216517 -1.62329407 -0.58230759]\n",
            "w3 [-2.33341683 -1.60450973]\n",
            "b1 2.517158679942592\n",
            "b2 8.651833816907162\n",
            "2.3583184012045884\n",
            "2.370930470793774\n",
            "0.3418135306172182\n",
            "current loss is :-  0.5459012312702687\n",
            "************************* epoch  44  **************************\n",
            "##########################################################\n",
            "w1 [-3.14591534 -3.49942689  1.59936409]\n",
            "w2 [-0.89169972 -1.64401735 -0.58230759]\n",
            "w3 [-2.36816188 -1.62483959]\n",
            "b1 2.517342150536692\n",
            "b2 8.766477920010942\n",
            "2.356521303629142\n",
            "2.369752149826322\n",
            "0.33971734747219934\n",
            "current loss is :-  0.5441045216363953\n",
            "************************* epoch  45  **************************\n",
            "##########################################################\n",
            "w1 [-3.15948335 -3.52909945  1.59936409]\n",
            "w2 [-0.90100713 -1.66437129 -0.58230759]\n",
            "w3 [-2.40243664 -1.64501168]\n",
            "b1 2.5179383225562653\n",
            "b2 8.881352326757847\n",
            "2.3551698180625555\n",
            "2.3690119981971716\n",
            "0.33764822295510777\n",
            "current loss is :-  0.5423640661666888\n",
            "************************* epoch  46  **************************\n",
            "##########################################################\n",
            "w1 [-3.17274702 -3.55829034  1.59936409]\n",
            "w2 [-0.91008787 -1.68435542 -0.58230759]\n",
            "w3 [-2.43622278 -1.66500201]\n",
            "b1 2.518916357642227\n",
            "b2 8.996314525949133\n",
            "2.354233566130928\n",
            "2.368679192130891\n",
            "0.33560788011693715\n",
            "current loss is :-  0.5406799557253558\n",
            "************************* epoch  47  **************************\n",
            "##########################################################\n",
            "w1 [-3.18570439 -3.58699356  1.59936409]\n",
            "w2 [-0.9189427  -1.70396977 -0.58230759]\n",
            "w3 [-2.46950459 -1.68478907]\n",
            "b1 2.5202464001976637\n",
            "b2 9.111229207823698\n",
            "2.353683068175167\n",
            "2.368723860277587\n",
            "0.333597858224482\n",
            "current loss is :-  0.5390520556132015\n",
            "************************* epoch  48  **************************\n",
            "##########################################################\n",
            "w1 [-3.19835422 -3.6152043   1.59936409]\n",
            "w2 [-0.92757265 -1.72321474 -0.58230759]\n",
            "w3 [-2.50226891 -1.70435376]\n",
            "b1 2.5218997186985352\n",
            "b2 9.225968485909235\n",
            "2.3534898891806213\n",
            "2.3691172258984494\n",
            "0.33161951247760785\n",
            "current loss is :-  0.5374800204129928\n",
            "************************* epoch  49  **************************\n",
            "##########################################################\n",
            "w1 [-3.21069584 -3.64291884  1.59936409]\n",
            "w2 [-0.93597897 -1.74209117 -0.58230759]\n",
            "w3 [-2.53450491 -1.72367923]\n",
            "b1 2.523848809635062\n",
            "b2 9.340412021930833\n",
            "2.3536267473676475\n",
            "2.3698317118518437\n",
            "0.32967401686248404\n",
            "current loss is :-  0.5359633172847045\n",
            "************************* epoch  50  **************************\n",
            "##########################################################\n",
            "w1 [-3.22272919 -3.67013448  1.59936409]\n",
            "w2 [-0.94416316 -1.76060029 -0.58230759]\n",
            "w3 [-2.56620533 -1.7427508 ]\n",
            "b1 2.526067561471674\n",
            "b2 9.454450674574066\n",
            "2.3540676832867535\n",
            "2.370841106538959\n",
            "0.3277623396416613\n",
            "current loss is :-  0.5344989358635199\n",
            "************************* epoch  51  **************************\n",
            "##########################################################\n",
            "w1 [-3.23445476 -3.69684949  1.59936409]\n",
            "w2 [-0.95212696 -1.77874369 -0.58230759]\n",
            "w3 [-2.59736364 -1.76155571]\n",
            "b1 2.528531125514418\n",
            "b2 9.567979610616842\n",
            "2.3547879344744556\n",
            "2.372120435214586\n",
            "0.3258853306217376\n",
            "current loss is :-  0.5330880432350962\n",
            "************************* epoch  52  **************************\n",
            "##########################################################\n",
            "w1 [-3.24587351 -3.72306306  1.59936409]\n",
            "w2 [-0.95987227 -1.79652334 -0.58230759]\n",
            "w3 [-2.62797498 -1.780083  ]\n",
            "b1 2.5312160082636845\n",
            "b2 9.680900901675859\n",
            "2.3557640328296157\n",
            "2.373646053860307\n",
            "0.32404367768542636\n",
            "current loss is :-  0.5317299874517386\n",
            "************************* epoch  53  **************************\n",
            "##########################################################\n",
            "w1 [-3.25698688 -3.74877519  1.59936409]\n",
            "w2 [-0.96740123 -1.81394152 -0.58230759]\n",
            "w3 [-2.65803617 -1.79832342]\n",
            "b1 2.5341000588499307\n",
            "b2 9.793123834473962\n",
            "2.356973796035905\n",
            "2.375395637773626\n",
            "0.3222379369389003\n",
            "current loss is :-  0.5304236971455089\n",
            "************************* epoch  54  **************************\n",
            "##########################################################\n",
            "w1 [-3.26779674 -3.77398669  1.59936409]\n",
            "w2 [-0.97471613 -1.83100086 -0.58230759]\n",
            "w3 [-2.68754558 -1.81626926]\n",
            "b1 2.537162465851018\n",
            "b2 9.904564740999744\n",
            "2.3583963286604193\n",
            "2.3773481798964515\n",
            "0.32046853219316185\n",
            "current loss is :-  0.5291680112817507\n",
            "************************* epoch  55  **************************\n",
            "##########################################################\n",
            "w1 [-3.27830534 -3.79869907  1.59936409]\n",
            "w2 [-0.98181946 -1.84770429 -0.58230759]\n",
            "w3 [-2.71650297 -1.83391424]\n",
            "b1 2.540383731439238\n",
            "b2 10.015146770973136\n",
            "2.360012000439449\n",
            "2.379483966495233\n",
            "0.31873576487616034\n",
            "current loss is :-  0.527961694754474\n",
            "************************* epoch  56  **************************\n",
            "##########################################################\n",
            "w1 [-3.28851527 -3.82291451  1.59936409]\n",
            "w2 [-0.98871382 -1.86405499 -0.58230759]\n",
            "w3 [-2.74490936 -1.85125335]\n",
            "b1 2.5437456357269426\n",
            "b2 10.12479963522006\n",
            "2.361802414708646\n",
            "2.3817845431148696\n",
            "0.3170398239266937\n",
            "current loss is :-  0.5268034525884036\n",
            "************************* epoch  57  **************************\n",
            "##########################################################\n",
            "w1 [-3.29842945 -3.84663577  1.59936409]\n",
            "w2 [-0.99540196 -1.88005643 -0.58230759]\n",
            "w3 [-2.77276689 -1.86828279]\n",
            "b1 2.5472311937648415\n",
            "b2 10.233459342439604\n",
            "2.3637503690825517\n",
            "2.3842326730162617\n",
            "0.31538079561478005\n",
            "current loss is :-  0.5256919440865289\n",
            "************************* epoch  58  **************************\n",
            "##########################################################\n",
            "w1 [-3.30805109 -3.86986622  1.59936409]\n",
            "w2 [-1.00188678 -1.89571229 -0.58230759]\n",
            "w3 [-2.80007873 -1.88499982]\n",
            "b1 2.550824606999817\n",
            "b2 10.341067921770309\n",
            "2.365839810479191\n",
            "2.3868122900920055\n",
            "0.31375867324324563\n",
            "current loss is :-  0.5246257945312325\n",
            "************************* epoch  59  **************************\n",
            "##########################################################\n",
            "w1 [-3.31738365 -3.89260967  1.59936409]\n",
            "w2 [-1.00817124 -1.91102647 -0.58230759]\n",
            "w3 [-2.82684895 -1.90140267]\n",
            "b1 2.5545112125142175\n",
            "b2 10.447573135371162\n",
            "2.3680557878584767\n",
            "2.389508449605861\n",
            "0.31217336482108704\n",
            "current loss is :-  0.5236036052914238\n",
            "************************* epoch  60  **************************\n",
            "##########################################################\n",
            "w1 [-3.32643082 -3.91487043  1.59936409]\n",
            "w2 [-1.01425844 -1.92600308 -0.58230759]\n",
            "w3 [-2.85308238 -1.91749045]\n",
            "b1 2.5582774284426595\n",
            "b2 10.552928185534775\n",
            "2.370384400928351\n",
            "2.392307275048311\n",
            "0.3106247017777922\n",
            "current loss is :-  0.5226239634644618\n",
            "************************* epoch  61  **************************\n",
            "##########################################################\n",
            "w1 [-3.3351965  -3.93665321  1.59936409]\n",
            "w2 [-1.02015154 -1.94064639 -0.58230759]\n",
            "w3 [-2.8787846  -1.93326303]\n",
            "b1 2.5621106973713954\n",
            "b2 10.657091428701328\n",
            "2.3728127464960544\n",
            "2.3951959028206447\n",
            "0.3091124482088305\n",
            "current loss is :-  0.5216854509958934\n",
            "************************* epoch  62  **************************\n",
            "##########################################################\n",
            "w1 [-3.34368475 -3.95796309  1.59936409]\n",
            "w2 [-1.02585376 -1.95496081 -0.58230759]\n",
            "w3 [-2.90396177 -1.94872101]\n",
            "b1 2.5659994316352543\n",
            "b2 10.760026085899117\n",
            "2.375328866770129\n",
            "2.398162428919447\n",
            "0.30763630711622675\n",
            "current loss is :-  0.5207866511351692\n",
            "************************* epoch  63  **************************\n",
            "##########################################################\n",
            "w1 [-3.35189979 -3.97880547  1.59936409]\n",
            "w2 [-1.03136842 -1.96895092 -0.58230759]\n",
            "w3 [-2.92862061 -1.96386561]\n",
            "b1 2.5699329574274383\n",
            "b2 10.861699962359337\n",
            "2.3779216961227037\n",
            "2.4011958542569607\n",
            "0.30619592795419404\n",
            "current loss is :-  0.5199261555042874\n",
            "************************* epoch  64  **************************\n",
            "##########################################################\n",
            "w1 [-3.35984598 -3.99918606  1.59936409]\n",
            "w2 [-1.03669885 -1.9826214  -0.58230759]\n",
            "w3 [-2.95276827 -1.97869861]\n",
            "b1 2.5739014601696484\n",
            "b2 10.962085174038382\n",
            "2.3805810089472406\n",
            "2.404286031185954\n",
            "0.3047909134032954\n",
            "current loss is :-  0.5191025696174637\n",
            "************************* epoch  65  **************************\n",
            "##########################################################\n",
            "w1 [-3.3675278  -4.01911081  1.59936409]\n",
            "w2 [-1.04184845 -1.99597704 -0.58230759]\n",
            "w3 [-2.97641231 -1.99322227]\n",
            "b1 2.5778959332628477\n",
            "b2 11.061157882133443\n",
            "2.3832973708394634\n",
            "2.4074236134164084\n",
            "0.30342082349473126\n",
            "current loss is :-  0.5183145173070787\n",
            "************************* epoch  66  **************************\n",
            "##########################################################\n",
            "w1 [-3.37494979 -4.0385859   1.59936409]\n",
            "w2 [-1.04682063 -2.00902271 -0.58230759]\n",
            "w3 [-2.99956065 -2.00743933]\n",
            "b1 2.581908124810661\n",
            "b2 11.15889802727333\n",
            "2.386062087554555\n",
            "2.410600003817386\n",
            "0.302085183133748\n",
            "current loss is :-  0.5175606447843848\n",
            "************************* epoch  67  **************************\n",
            "##########################################################\n",
            "w1 [-3.38211661 -4.05761773  1.59936409]\n",
            "w2 [-1.05161882 -2.02176336 -0.58230759]\n",
            "w3 [-3.02222143 -2.02135285]\n",
            "b1 2.5859304891727812\n",
            "b2 11.255289085376615\n",
            "2.3888671585631895\n",
            "2.413807306934558\n",
            "0.30078348637050495\n",
            "current loss is :-  0.5168396244627379\n",
            "************************* epoch  68  **************************\n",
            "##########################################################\n",
            "w1 [-3.38903294 -4.07621283  1.59936409]\n",
            "w2 [-1.0562465  -2.034204   -0.58230759]\n",
            "w3 [-3.04440309 -2.0349663 ]\n",
            "b1 2.5899561398635975\n",
            "b2 11.350317828797792\n",
            "2.3917052318529906\n",
            "2.4170382828224803\n",
            "0.2995152009768188\n",
            "current loss is :-  0.5161501575403628\n",
            "************************* epoch  69  **************************\n",
            "##########################################################\n",
            "w1 [-3.39570354 -4.0943779   1.59936409]\n",
            "w2 [-1.06070711 -2.0463497  -0.58230759]\n",
            "w3 [-3.06611419 -2.04828337]\n",
            "b1 2.5939788046673296\n",
            "b2 11.443974097792232\n",
            "2.3945695608045665\n",
            "2.4202863030310806\n",
            "0.29827977263087163\n",
            "current loss is :-  0.5154909763023888\n",
            "************************* epoch  70  **************************\n",
            "##########################################################\n",
            "w1 [-3.40213318 -4.11211973  1.59936409]\n",
            "w2 [-1.06500413 -2.05820553 -0.58230759]\n",
            "w3 [-3.08736348 -2.06130806]\n",
            "b1 2.5979927830355227\n",
            "b2 11.53625058248393\n",
            "2.3974539632152334\n",
            "2.423545308813895\n",
            "0.2970766287181899\n",
            "current loss is :-  0.5148608459563259\n",
            "************************* epoch  71  **************************\n",
            "##########################################################\n",
            "w1 [-3.40832667 -4.12944524  1.59936409]\n",
            "w2 [-1.069141   -2.06977662 -0.58230759]\n",
            "w3 [-3.1081598  -2.07404456]\n",
            "b1 2.6019929057946407\n",
            "b2 11.627142615746742\n",
            "2.4003527824983757\n",
            "2.426809771583025\n",
            "0.29590518177018094\n",
            "current loss is :-  0.5142585660766539\n",
            "************************* epoch  72  **************************\n",
            "##########################################################\n",
            "w1 [-3.41428882 -4.14636139  1.59936409]\n",
            "w2 [-1.07312118 -2.08106809 -0.58230759]\n",
            "w3 [-3.12851207 -2.08649725]\n",
            "b1 2.60597449710826\n",
            "b2 11.716647976098486\n",
            "2.4032608510264306\n",
            "2.4300746555683883\n",
            "0.29476483257625763\n",
            "current loss is :-  0.5136829716316015\n",
            "************************* epoch  73  **************************\n",
            "##########################################################\n",
            "w1 [-3.42002443 -4.16287522  1.59936409]\n",
            "w2 [-1.07694809 -2.09208509 -0.58230759]\n",
            "w3 [-3.14842971 -2.09867069]\n",
            "b1 2.6099334097039404\n",
            "b2 11.804768200114111\n",
            "2.4061735270905618\n",
            "2.433335454040701\n",
            "0.2936549631986597\n",
            "current loss is :-  0.5131320377367173\n",
            "************************* epoch  74  **************************\n",
            "##########################################################\n",
            "w1 [-3.4255383  -4.17899378  1.59936409]\n",
            "w2 [-1.08062513 -2.10283272 -0.58230759]\n",
            "w3 [-3.16792173 -2.11056954]\n",
            "b1 2.613865857059354\n",
            "b2 11.89150547176916\n",
            "2.409086527568658\n",
            "2.43658802163662\n",
            "0.2925749555466382\n",
            "current loss is :-  0.5126055213334512\n",
            "************************* epoch  75  **************************\n",
            "##########################################################\n",
            "w1 [-3.43083522 -4.19472417  1.59936409]\n",
            "w2 [-1.08415569 -2.11331611 -0.58230759]\n",
            "w3 [-3.18699707 -2.12219857]\n",
            "b1 2.617768435090601\n",
            "b2 11.976863747879582\n",
            "2.411995950844997\n",
            "2.439828596648207\n",
            "0.29152419170914984\n",
            "current loss is :-  0.5121024463668862\n",
            "************************* epoch  76  **************************\n",
            "##########################################################\n",
            "w1 [-3.43591994 -4.21007349  1.59936409]\n",
            "w2 [-1.08754312 -2.12354035 -0.58230759]\n",
            "w3 [-3.20566466 -2.1335626 ]\n",
            "b1 2.62163810197221\n",
            "b2 12.060848743169084\n",
            "2.4148982576251594\n",
            "2.443053781353569\n",
            "0.290502051888899\n",
            "current loss is :-  0.5116217942581721\n",
            "************************* epoch  77  **************************\n",
            "##########################################################\n",
            "w1 [-3.44079718 -4.22504883  1.59936409]\n",
            "w2 [-1.09079073 -2.13351052 -0.58230759]\n",
            "w3 [-3.22393341 -2.14466656]\n",
            "b1 2.625472150887703\n",
            "b2 12.143467782927626\n",
            "2.4177902445662\n",
            "2.4462605152189925\n",
            "0.2895079158771447\n",
            "current loss is :-  0.5111625829407824\n",
            "************************* epoch  78  **************************\n",
            "##########################################################\n",
            "w1 [-3.44547162 -4.23965727  1.59936409]\n",
            "w2 [-1.0939018  -2.14323164 -0.58230759]\n",
            "w3 [-3.24181215 -2.15551538]\n",
            "b1 2.6292681843011683\n",
            "b2 12.224729663770693\n",
            "2.420669019344532\n",
            "2.4494460495790173\n",
            "0.28854116464836\n",
            "current loss is :-  0.51072386652101\n",
            "************************* epoch  79  **************************\n",
            "##########################################################\n",
            "w1 [-3.44994793 -4.25390586  1.59936409]\n",
            "w2 [-1.09687958 -2.15270871 -0.58230759]\n",
            "w3 [-3.25930965 -2.16611405]\n",
            "b1 2.6330240899591897\n",
            "b2 12.304644522833373\n",
            "2.4235319773784063\n",
            "2.4526079240076295\n",
            "0.2876011817714096\n",
            "current loss is :-  0.510304734805883\n",
            "************************* epoch  80  **************************\n",
            "##########################################################\n",
            "w1 [-3.45423068 -4.26780161  1.59936409]\n",
            "w2 [-1.09972727 -2.1619467  -0.58230759]\n",
            "w3 [-3.27643458 -2.17646755]\n",
            "b1 2.6367380185059477\n",
            "b2 12.38322371517751\n",
            "2.4263767800902243\n",
            "2.4557439442638445\n",
            "0.28668735468776535\n",
            "current loss is :-  0.5099043127329682\n",
            "************************* epoch  81  **************************\n",
            "##########################################################\n",
            "w1 [-3.45832441 -4.28135149  1.59936409]\n",
            "w2 [-1.10244802 -2.17095051 -0.58230759]\n",
            "w3 [-3.29319555 -2.18658088]\n",
            "b1 2.640408362719477\n",
            "b2 12.460479698722112\n",
            "2.4292013347302466\n",
            "2.4588521618277848\n",
            "0.28579907573967395\n",
            "current loss is :-  0.509521759666151\n",
            "************************* epoch  82  **************************\n",
            "##########################################################\n",
            "w1 [-3.46223363 -4.29456241  1.59936409]\n",
            "w2 [-1.10504496 -2.17972499 -0.58230759]\n",
            "w3 [-3.30960103 -2.19645903]\n",
            "b1 2.6440337381574146\n",
            "b2 12.536425926221998\n",
            "2.4320037755514936\n",
            "2.4619308548156043\n",
            "0.2849357430977829\n",
            "current loss is :-  0.5091562686292915\n",
            "************************* epoch  83  **************************\n",
            "##########################################################\n",
            "w1 [-3.46596275 -4.30744123  1.59936409]\n",
            "w2 [-1.10752113 -2.18827495 -0.58230759]\n",
            "w3 [-3.3256594  -2.20610696]\n",
            "b1 2.6476129650585465\n",
            "b2 12.611076744635444\n",
            "2.4347824461739505\n",
            "2.4649785101133292\n",
            "0.28409676171055176\n",
            "current loss is :-  0.5088070655389688\n",
            "************************* epoch  84  **************************\n",
            "##########################################################\n",
            "w1 [-3.46951613 -4.31999473  1.59936409]\n",
            "w2 [-1.10987957 -2.19660512 -0.58230759]\n",
            "w3 [-3.34137893 -2.21552961]\n",
            "b1 2.6511450516774793\n",
            "b2 12.684447301153918\n",
            "2.4375358833353924\n",
            "2.4679938069195564\n",
            "0.28328154396230476\n",
            "current loss is :-  0.5084734083157162\n",
            "************************* epoch  85  **************************\n",
            "##########################################################\n",
            "w1 [-3.47289808 -4.33222962  1.59936409]\n",
            "w2 [-1.11212323 -2.2047202  -0.58230759]\n",
            "w3 [-3.35676773 -2.22473188]\n",
            "b1 2.654629178772933\n",
            "b2 12.75655345569045\n",
            "2.4402628017430876\n",
            "2.4709756014126554\n",
            "0.28248951029055713\n",
            "current loss is :-  0.50815458600085\n",
            "************************* epoch  86  **************************\n",
            "##########################################################\n",
            "w1 [-3.47611283 -4.34415252  1.59936409]\n",
            "w2 [-1.11425505 -2.2126248  -0.58230759]\n",
            "w3 [-3.37183382 -2.23371863]\n",
            "b1 2.658064685179656\n",
            "b2 12.827411698194371\n",
            "2.4429620799805414\n",
            "2.4739229124879833\n",
            "0.2817200897041914\n",
            "current loss is :-  0.5078499177549696\n",
            "************************* epoch  87  **************************\n",
            "##########################################################\n",
            "w1 [-3.47916455 -4.35577     1.59936409]\n",
            "w2 [-1.11627787 -2.22032347 -0.58230759]\n",
            "w3 [-3.38658506 -2.24249469]\n",
            "b1 2.6614510544551644\n",
            "b2 12.897039072762354\n",
            "2.4456327474308583\n",
            "2.47683490853612\n",
            "0.28097272023831205\n",
            "current loss is :-  0.5075587519890468\n",
            "************************* epoch  88  **************************\n",
            "##########################################################\n",
            "w1 [-3.48205732 -4.36708852  1.59936409]\n",
            "w2 [-1.11819452 -2.22782069 -0.58230759]\n",
            "w3 [-3.40102918 -2.25106479]\n",
            "b1 2.6647879025031327\n",
            "b2 12.9654531066404\n",
            "2.4482739721456155\n",
            "2.4797108951814426\n",
            "0.280246849316328\n",
            "current loss is :-  0.5072804653742456\n",
            "************************* epoch  89  **************************\n",
            "##########################################################\n",
            "w1 [-3.48479517 -4.37811444  1.59936409]\n",
            "w2 [-1.12000775 -2.23512089 -0.58230759]\n",
            "w3 [-3.41517378 -2.25943365]\n",
            "b1 2.6680749661007437\n",
            "b2 13.032671744205599\n",
            "2.450885049583059\n",
            "2.4825503039056485\n",
            "0.2795419340515839\n",
            "current loss is :-  0.5070144618769563\n",
            "************************* epoch  90  **************************\n",
            "##########################################################\n",
            "w1 [-3.48738205 -4.38885405  1.59936409]\n",
            "w2 [-1.12172029 -2.2422284  -0.58230759]\n",
            "w3 [-3.42902631 -2.2676059 ]\n",
            "b1 2.67131209227329\n",
            "b2 13.09871328565359\n",
            "2.4534653921619025\n",
            "2.485352681501055\n",
            "0.27885744148961045\n",
            "current loss is :-  0.5067601717946943\n",
            "************************* epoch  91  **************************\n",
            "##########################################################\n",
            "w1 [-3.48982184 -4.39931354  1.59936409]\n",
            "w2 [-1.12333477 -2.2491475  -0.58230759]\n",
            "w3 [-3.44259407 -2.27558611]\n",
            "b1 2.674499228457883\n",
            "b2 13.163596330116693\n",
            "2.4560145195751124\n",
            "2.4881176802969422\n",
            "0.2781928487969348\n",
            "current loss is :-  0.5065170507978459\n",
            "************************* epoch  92  **************************\n",
            "##########################################################\n",
            "w1 [-3.49211834 -4.40949899  1.59936409]\n",
            "w2 [-1.12485381 -2.25588238 -0.58230759]\n",
            "w3 [-3.45588423 -2.28337878]\n",
            "b1 2.6776364134012116\n",
            "b2 13.22733972295051\n",
            "2.458532049811094\n",
            "2.4908450491051872\n",
            "0.27754764340219984\n",
            "current loss is :-  0.5062845789811817\n",
            "************************* epoch  93  **************************\n",
            "##########################################################\n",
            "w1 [-3.49427528 -4.41941639  1.59936409]\n",
            "w2 [-1.12627996 -2.26243719 -0.58230759]\n",
            "w3 [-3.46890381 -2.29098834]\n",
            "b1 2.680723768739648\n",
            "b2 13.289962506937457\n",
            "2.4610176908328487\n",
            "2.493534624834728\n",
            "0.2769213230949245\n",
            "current loss is :-  0.5060622599287209\n",
            "************************* epoch  94  **************************\n",
            "##########################################################\n",
            "w1 [-3.49629631 -4.42907164  1.59936409]\n",
            "w2 [-1.12761571 -2.26881597 -0.58230759]\n",
            "w3 [-3.48165967 -2.29841916]\n",
            "b1 2.6837614912137213\n",
            "b2 13.351483877169636\n",
            "2.4634712328692605\n",
            "2.496186324728048\n",
            "0.27631339608640376\n",
            "current loss is :-  0.5058496197947333\n",
            "************************* epoch  95  **************************\n",
            "##########################################################\n",
            "w1 [-3.49818503 -4.43847052  1.59936409]\n",
            "w2 [-1.1288635  -2.2750227  -0.58230759]\n",
            "w3 [-3.49415855 -2.30567551]\n",
            "b1 2.6867498454720846\n",
            "b2 13.411923139388048\n",
            "2.465892541275531\n",
            "2.498800139175836\n",
            "0.2757233810371827\n",
            "current loss is :-  0.5056462064033325\n",
            "************************* epoch  96  **************************\n",
            "##########################################################\n",
            "w1 [-3.49994493 -4.44761872  1.59936409]\n",
            "w2 [-1.13002574 -2.28106128 -0.58230759]\n",
            "w3 [-3.50640703 -2.3127616 ]\n",
            "b1 2.6896891574228015\n",
            "b2 13.47129967156014\n",
            "2.4682815499224455\n",
            "2.501376125068714\n",
            "0.2751508070547154\n",
            "current loss is :-  0.5054515883685404\n",
            "************************* epoch  97  **************************\n",
            "##########################################################\n",
            "w1 [-3.50157945 -4.45652182  1.59936409]\n",
            "w2 [-1.13110476 -2.28693556 -0.58230759]\n",
            "w3 [-3.51841155 -2.31968156]\n",
            "b1 2.692579808092855\n",
            "b2 13.529632888495929\n",
            "2.470638255077052\n",
            "2.503914399647819\n",
            "0.27459521366489764\n",
            "current loss is :-  0.505265354236396\n",
            "************************* epoch  98  **************************\n",
            "##########################################################\n",
            "w1 [-3.50309195 -4.4651853   1.59936409]\n",
            "w2 [-1.13210285 -2.29264929 -0.58230759]\n",
            "w3 [-3.5301784  -2.32643944]\n",
            "b1 2.695422227959122\n",
            "b2 13.586942209310156\n",
            "2.4729627097395186\n",
            "2.5064151348183707\n",
            "0.27405615076060197\n",
            "current loss is :-  0.5050871116503566\n",
            "************************* epoch  99  **************************\n",
            "##########################################################\n",
            "w1 [-3.50448573 -4.47361455  1.59936409]\n",
            "w2 [-1.13302224 -2.29820615 -0.58230759]\n",
            "w3 [-3.54171375 -2.33303922]\n",
            "b1 2.6982168917175464\n",
            "b2 13.64324702754895\n",
            "2.4752550184043653\n",
            "2.508878551893776\n",
            "0.2735331785297963\n",
            "current loss is :-  0.5049164865408053\n"
          ]
        }
      ],
      "source": [
        "ann_object.fit(X_train,y_train)"
      ]
    },
    {
      "cell_type": "code",
      "execution_count": 18,
      "metadata": {
        "id": "fID1U15MB5IV"
      },
      "outputs": [],
      "source": [
        "# ann_object.loss_history"
      ]
    },
    {
      "cell_type": "code",
      "execution_count": 19,
      "metadata": {
        "colab": {
          "base_uri": "https://localhost:8080/"
        },
        "id": "FZaJM73wkRLC",
        "outputId": "7ddab356-7a0c-4216-da42-6f006ee2588d"
      },
      "outputs": [
        {
          "output_type": "execute_result",
          "data": {
            "text/plain": [
              "array([-3.50448573, -4.47361455,  1.59936409])"
            ]
          },
          "metadata": {},
          "execution_count": 19
        }
      ],
      "source": [
        "ann_object.w1"
      ]
    },
    {
      "cell_type": "code",
      "execution_count": 20,
      "metadata": {
        "colab": {
          "base_uri": "https://localhost:8080/"
        },
        "id": "MRS_Z6DKQOw3",
        "outputId": "1c86f0ed-494c-4e79-80f5-ff765de271d3"
      },
      "outputs": [
        {
          "output_type": "execute_result",
          "data": {
            "text/plain": [
              "0.5049164865408053"
            ]
          },
          "metadata": {},
          "execution_count": 20
        }
      ],
      "source": [
        "ann_object.loss_thresold"
      ]
    },
    {
      "cell_type": "code",
      "execution_count": 21,
      "metadata": {
        "colab": {
          "base_uri": "https://localhost:8080/"
        },
        "id": "xjo0TEDFQF52",
        "outputId": "ce511666-65b2-4c92-8498-2a24ba433b5b"
      },
      "outputs": [
        {
          "output_type": "execute_result",
          "data": {
            "text/plain": [
              "[array([-3.50448573, -4.47361455,  1.59936409]),\n",
              " array([-1.13302224, -2.29820615, -0.58230759]),\n",
              " array([-3.54171375, -2.33303922])]"
            ]
          },
          "metadata": {},
          "execution_count": 21
        }
      ],
      "source": [
        "ann_object.best_weights"
      ]
    },
    {
      "cell_type": "code",
      "execution_count": 22,
      "metadata": {
        "colab": {
          "base_uri": "https://localhost:8080/",
          "height": 279
        },
        "id": "nz_XYi9wB5IW",
        "outputId": "ab74366c-8261-4a8a-e560-318022b206ac"
      },
      "outputs": [
        {
          "output_type": "display_data",
          "data": {
            "image/png": "[encoded data removed]",
            "text/plain": [
              "<Figure size 432x288 with 1 Axes>"
            ]
          },
          "metadata": {
            "needs_background": "light"
          }
        }
      ],
      "source": [
        "ann_object.train_loss_plot()"
      ]
    },
    {
      "cell_type": "code",
      "execution_count": 23,
      "metadata": {
        "colab": {
          "base_uri": "https://localhost:8080/"
        },
        "id": "sFvwp84hFZH0",
        "outputId": "4a01bacb-501f-4b2a-ef0c-49c80b25cb25"
      },
      "outputs": [
        {
          "output_type": "execute_result",
          "data": {
            "text/plain": [
              "array([-1.13302224, -2.29820615, -0.58230759])"
            ]
          },
          "metadata": {},
          "execution_count": 23
        }
      ],
      "source": [
        "ann_object.w2"
      ]
    },
    {
      "cell_type": "code",
      "execution_count": 24,
      "metadata": {
        "id": "WLD_wYvVB5IW"
      },
      "outputs": [],
      "source": [
        "predictions=[]\n",
        "predictions_sigmoid = ann_object.predict(X_test)\n",
        "for i in predictions_sigmoid:\n",
        "  if i>0.5:\n",
        "    predictions.append(1)\n",
        "  else:\n",
        "    predictions.append(0)"
      ]
    },
    {
      "cell_type": "code",
      "execution_count": 25,
      "metadata": {
        "colab": {
          "base_uri": "https://localhost:8080/",
          "height": 436
        },
        "id": "9rBAnj5MB5IX",
        "outputId": "9aad9703-d85b-4693-8fa2-b161ee6d0afa"
      },
      "outputs": [
        {
          "output_type": "stream",
          "name": "stdout",
          "text": [
            "              precision    recall  f1-score   support\n",
            "\n",
            "         0.0       0.75      0.87      0.80      8159\n",
            "         1.0       0.81      0.65      0.72      6841\n",
            "\n",
            "    accuracy                           0.77     15000\n",
            "   macro avg       0.78      0.76      0.76     15000\n",
            "weighted avg       0.77      0.77      0.76     15000\n",
            "\n"
          ]
        },
        {
          "output_type": "display_data",
          "data": {
            "image/png": "[encoded data removed]",
            "text/plain": [
              "<Figure size 432x288 with 2 Axes>"
            ]
          },
          "metadata": {
            "needs_background": "light"
          }
        }
      ],
      "source": [
        "ann_object.test_report(y_test,predictions)\n",
        "# [[1551 7046]\n",
        "#  [ 146 6257]]"
      ]
    },
    {
      "cell_type": "code",
      "execution_count": 26,
      "metadata": {
        "colab": {
          "base_uri": "https://localhost:8080/"
        },
        "id": "We9uBsbAB5IX",
        "outputId": "2ce924cb-1d5f-4a1f-adfb-97b0cc44cd21"
      },
      "outputs": [
        {
          "output_type": "execute_result",
          "data": {
            "text/plain": [
              "0    9510\n",
              "1    5490\n",
              "dtype: int64"
            ]
          },
          "metadata": {},
          "execution_count": 26
        }
      ],
      "source": [
        "pd.Series(predictions).value_counts()"
      ]
    },
    {
      "cell_type": "code",
      "source": [
        "data={\n",
        "    \"w1\":ann_object.w1,\n",
        "    \"w2\":ann_object.w2,\n",
        "    \"w3\":ann_object.w3,\n",
        "    \"b1\":ann_object.b1,\n",
        "    \"b2\":ann_object.b2\n",
        "}"
      ],
      "metadata": {
        "id": "4rocVH1fS1Am"
      },
      "execution_count": 27,
      "outputs": []
    },
    {
      "cell_type": "code",
      "source": [
        "data"
      ],
      "metadata": {
        "colab": {
          "base_uri": "https://localhost:8080/"
        },
        "id": "Grv7z9z5S64m",
        "outputId": "3104f948-8cd2-4ee4-e008-16af661900c3"
      },
      "execution_count": 28,
      "outputs": [
        {
          "output_type": "execute_result",
          "data": {
            "text/plain": [
              "{'b1': 2.6982168917175464,\n",
              " 'b2': 13.64324702754895,\n",
              " 'w1': array([-3.50448573, -4.47361455,  1.59936409]),\n",
              " 'w2': array([-1.13302224, -2.29820615, -0.58230759]),\n",
              " 'w3': array([-3.54171375, -2.33303922])}"
            ]
          },
          "metadata": {},
          "execution_count": 28
        }
      ]
    },
    {
      "cell_type": "markdown",
      "metadata": {
        "id": "jLyC1qgjDBmP"
      },
      "source": [
        "<h1> Bias collector </h1>"
      ]
    },
    {
      "cell_type": "code",
      "execution_count": 29,
      "metadata": {
        "id": "B4rtQwFxG8qT"
      },
      "outputs": [],
      "source": [
        "#AUC\n",
        "# from sklearn.metrics import roc_curve\n",
        "# fpr, tpr, thresholds=roc_curve(y_test,predictions)"
      ]
    },
    {
      "cell_type": "code",
      "execution_count": 30,
      "metadata": {
        "id": "zWt-oQhwG8_o"
      },
      "outputs": [],
      "source": [
        "# loss3=ann_object.loss_history"
      ]
    },
    {
      "cell_type": "code",
      "execution_count": 31,
      "metadata": {
        "id": "emVImoGbFZ0A"
      },
      "outputs": [],
      "source": [
        "# loss1=ann_object.loss_history"
      ]
    },
    {
      "cell_type": "code",
      "execution_count": 32,
      "metadata": {
        "id": "NB4K4BGJI1wH"
      },
      "outputs": [],
      "source": [
        "# loss2=ann_object.loss_history"
      ]
    },
    {
      "cell_type": "code",
      "execution_count": 33,
      "metadata": {
        "id": "_fw0wEtNDA7I"
      },
      "outputs": [],
      "source": [
        "# bias_values={}"
      ]
    },
    {
      "cell_type": "code",
      "execution_count": 34,
      "metadata": {
        "id": "Kv4Fnx4ZGPgp"
      },
      "outputs": [],
      "source": [
        "# bias_values[(\"b1=1,b2=1\")]=loss1"
      ]
    },
    {
      "cell_type": "code",
      "execution_count": 35,
      "metadata": {
        "id": "kVU8JNpvI8Mf"
      },
      "outputs": [],
      "source": [
        "# bias_values[(\"b1=10,b2=15\")]=loss2"
      ]
    },
    {
      "cell_type": "code",
      "execution_count": 36,
      "metadata": {
        "id": "X7KQj6jFM_1O"
      },
      "outputs": [],
      "source": [
        "# bias_values[(\"b1=3,b2=4.5\")]=loss3"
      ]
    },
    {
      "cell_type": "code",
      "execution_count": 37,
      "metadata": {
        "id": "U_pXvirGPmWy"
      },
      "outputs": [],
      "source": [
        "# df_graph= pd.DataFrame(bias_values)"
      ]
    },
    {
      "cell_type": "code",
      "execution_count": 38,
      "metadata": {
        "id": "WQbPvr78PqIR"
      },
      "outputs": [],
      "source": [
        "# df_graph['b1=1,b2=1']"
      ]
    },
    {
      "cell_type": "code",
      "execution_count": 39,
      "metadata": {
        "id": "LFCciKY7VwR5"
      },
      "outputs": [],
      "source": [
        "# plt.plot(df_graph['b1=1,b2=1'],'p')\n",
        "# plt.plot(df_graph['b1=3,b2=4.5'],\"*\")\n",
        "# plt.plot(df_graph['b1=10,b2=15'],\"^\",markersize=4)\n",
        "# plt.legend(['b1=1,b2=1',\"b1=3,b2=4.5\",'b1=10,b2=15'])\n",
        "# plt.xlabel(\"Epoch number\")\n",
        "# plt.ylabel(\"Loss value\")\n",
        "# plt.show()"
      ]
    },
    {
      "cell_type": "markdown",
      "metadata": {
        "id": "jtarMeIVSkgm"
      },
      "source": [
        "<h1> Using keras </h1>"
      ]
    },
    {
      "cell_type": "code",
      "execution_count": 40,
      "metadata": {
        "id": "IppIkCHZSj1X"
      },
      "outputs": [],
      "source": [
        "import tensorflow as tf\n",
        "from tensorflow import keras"
      ]
    },
    {
      "cell_type": "code",
      "execution_count": 41,
      "metadata": {
        "colab": {
          "base_uri": "https://localhost:8080/"
        },
        "id": "xzhc4-fUSjy2",
        "outputId": "89d458cf-fcac-48f7-e9a9-5810d3f0cf59"
      },
      "outputs": [
        {
          "output_type": "stream",
          "name": "stdout",
          "text": [
            "Model: \"sequential\"\n",
            "_________________________________________________________________\n",
            " Layer (type)                Output Shape              Param #   \n",
            "=================================================================\n",
            " dense (Dense)               (None, 2)                 8         \n",
            "                                                                 \n",
            " dense_1 (Dense)             (None, 1)                 3         \n",
            "                                                                 \n",
            "=================================================================\n",
            "Total params: 11\n",
            "Trainable params: 11\n",
            "Non-trainable params: 0\n",
            "_________________________________________________________________\n"
          ]
        }
      ],
      "source": [
        "model = keras.Sequential()\n",
        "\n",
        "model.add(keras.layers.Dense(units=2,activation=\"leaky_relu\",input_dim=3))\n",
        "model.add(keras.layers.Dense(units=1,activation=\"sigmoid\"))\n",
        "\n",
        "model.summary()"
      ]
    },
    {
      "cell_type": "code",
      "execution_count": 42,
      "metadata": {
        "id": "CV8sxCJfSjwC"
      },
      "outputs": [],
      "source": [
        "model.compile(optimizer=\"adam\",loss=\"binary_crossentropy\",metrics=\"accuracy\")"
      ]
    },
    {
      "cell_type": "code",
      "execution_count": 43,
      "metadata": {
        "colab": {
          "base_uri": "https://localhost:8080/"
        },
        "id": "HsMDyDkESjtM",
        "outputId": "ce640c69-fa8f-4561-c6de-e3503252f55e"
      },
      "outputs": [
        {
          "output_type": "stream",
          "name": "stdout",
          "text": [
            "Epoch 1/100\n",
            "469/469 [==============================] - 2s 4ms/step - loss: 0.6781 - accuracy: 0.6721 - val_loss: 0.6595 - val_accuracy: 0.7349\n",
            "Epoch 2/100\n",
            "469/469 [==============================] - 2s 3ms/step - loss: 0.6357 - accuracy: 0.7453 - val_loss: 0.6126 - val_accuracy: 0.7540\n",
            "Epoch 3/100\n",
            "469/469 [==============================] - 2s 3ms/step - loss: 0.5932 - accuracy: 0.7529 - val_loss: 0.5761 - val_accuracy: 0.7591\n",
            "Epoch 4/100\n",
            "469/469 [==============================] - 1s 3ms/step - loss: 0.5639 - accuracy: 0.7558 - val_loss: 0.5521 - val_accuracy: 0.7596\n",
            "Epoch 5/100\n",
            "469/469 [==============================] - 2s 3ms/step - loss: 0.5456 - accuracy: 0.7575 - val_loss: 0.5377 - val_accuracy: 0.7605\n",
            "Epoch 6/100\n",
            "469/469 [==============================] - 1s 3ms/step - loss: 0.5347 - accuracy: 0.7568 - val_loss: 0.5278 - val_accuracy: 0.7587\n",
            "Epoch 7/100\n",
            "469/469 [==============================] - 1s 3ms/step - loss: 0.5276 - accuracy: 0.7577 - val_loss: 0.5218 - val_accuracy: 0.7609\n",
            "Epoch 8/100\n",
            "469/469 [==============================] - 1s 3ms/step - loss: 0.5231 - accuracy: 0.7571 - val_loss: 0.5181 - val_accuracy: 0.7618\n",
            "Epoch 9/100\n",
            "469/469 [==============================] - 1s 3ms/step - loss: 0.5202 - accuracy: 0.7572 - val_loss: 0.5148 - val_accuracy: 0.7615\n",
            "Epoch 10/100\n",
            "469/469 [==============================] - 1s 3ms/step - loss: 0.5179 - accuracy: 0.7580 - val_loss: 0.5126 - val_accuracy: 0.7599\n",
            "Epoch 11/100\n",
            "469/469 [==============================] - 1s 3ms/step - loss: 0.5163 - accuracy: 0.7589 - val_loss: 0.5109 - val_accuracy: 0.7601\n",
            "Epoch 12/100\n",
            "469/469 [==============================] - 1s 3ms/step - loss: 0.5148 - accuracy: 0.7583 - val_loss: 0.5096 - val_accuracy: 0.7625\n",
            "Epoch 13/100\n",
            "469/469 [==============================] - 1s 3ms/step - loss: 0.5137 - accuracy: 0.7589 - val_loss: 0.5084 - val_accuracy: 0.7621\n",
            "Epoch 14/100\n",
            "469/469 [==============================] - 1s 3ms/step - loss: 0.5128 - accuracy: 0.7593 - val_loss: 0.5075 - val_accuracy: 0.7619\n",
            "Epoch 15/100\n",
            "469/469 [==============================] - 1s 3ms/step - loss: 0.5120 - accuracy: 0.7597 - val_loss: 0.5068 - val_accuracy: 0.7623\n",
            "Epoch 16/100\n",
            "469/469 [==============================] - 2s 3ms/step - loss: 0.5112 - accuracy: 0.7601 - val_loss: 0.5059 - val_accuracy: 0.7629\n",
            "Epoch 17/100\n",
            "469/469 [==============================] - 2s 3ms/step - loss: 0.5105 - accuracy: 0.7603 - val_loss: 0.5052 - val_accuracy: 0.7622\n",
            "Epoch 18/100\n",
            "469/469 [==============================] - 1s 3ms/step - loss: 0.5099 - accuracy: 0.7621 - val_loss: 0.5046 - val_accuracy: 0.7615\n",
            "Epoch 19/100\n",
            "469/469 [==============================] - 2s 3ms/step - loss: 0.5093 - accuracy: 0.7615 - val_loss: 0.5044 - val_accuracy: 0.7635\n",
            "Epoch 20/100\n",
            "469/469 [==============================] - 1s 3ms/step - loss: 0.5089 - accuracy: 0.7610 - val_loss: 0.5036 - val_accuracy: 0.7637\n",
            "Epoch 21/100\n",
            "469/469 [==============================] - 1s 3ms/step - loss: 0.5082 - accuracy: 0.7619 - val_loss: 0.5029 - val_accuracy: 0.7635\n",
            "Epoch 22/100\n",
            "469/469 [==============================] - 1s 3ms/step - loss: 0.5076 - accuracy: 0.7611 - val_loss: 0.5023 - val_accuracy: 0.7638\n",
            "Epoch 23/100\n",
            "469/469 [==============================] - 1s 3ms/step - loss: 0.5071 - accuracy: 0.7623 - val_loss: 0.5018 - val_accuracy: 0.7641\n",
            "Epoch 24/100\n",
            "469/469 [==============================] - 1s 3ms/step - loss: 0.5066 - accuracy: 0.7629 - val_loss: 0.5013 - val_accuracy: 0.7643\n",
            "Epoch 25/100\n",
            "469/469 [==============================] - 1s 3ms/step - loss: 0.5061 - accuracy: 0.7621 - val_loss: 0.5009 - val_accuracy: 0.7635\n",
            "Epoch 26/100\n",
            "469/469 [==============================] - 1s 3ms/step - loss: 0.5055 - accuracy: 0.7620 - val_loss: 0.5008 - val_accuracy: 0.7651\n",
            "Epoch 27/100\n",
            "469/469 [==============================] - 1s 3ms/step - loss: 0.5051 - accuracy: 0.7627 - val_loss: 0.4999 - val_accuracy: 0.7645\n",
            "Epoch 28/100\n",
            "469/469 [==============================] - 1s 3ms/step - loss: 0.5046 - accuracy: 0.7617 - val_loss: 0.4994 - val_accuracy: 0.7647\n",
            "Epoch 29/100\n",
            "469/469 [==============================] - 1s 3ms/step - loss: 0.5041 - accuracy: 0.7634 - val_loss: 0.4992 - val_accuracy: 0.7657\n",
            "Epoch 30/100\n",
            "469/469 [==============================] - 1s 3ms/step - loss: 0.5037 - accuracy: 0.7630 - val_loss: 0.4985 - val_accuracy: 0.7651\n",
            "Epoch 31/100\n",
            "469/469 [==============================] - 1s 3ms/step - loss: 0.5033 - accuracy: 0.7635 - val_loss: 0.4981 - val_accuracy: 0.7654\n",
            "Epoch 32/100\n",
            "469/469 [==============================] - 1s 3ms/step - loss: 0.5028 - accuracy: 0.7633 - val_loss: 0.4978 - val_accuracy: 0.7657\n",
            "Epoch 33/100\n",
            "469/469 [==============================] - 1s 3ms/step - loss: 0.5024 - accuracy: 0.7635 - val_loss: 0.4973 - val_accuracy: 0.7656\n",
            "Epoch 34/100\n",
            "469/469 [==============================] - 1s 3ms/step - loss: 0.5020 - accuracy: 0.7642 - val_loss: 0.4970 - val_accuracy: 0.7665\n",
            "Epoch 35/100\n",
            "469/469 [==============================] - 1s 3ms/step - loss: 0.5014 - accuracy: 0.7653 - val_loss: 0.4966 - val_accuracy: 0.7662\n",
            "Epoch 36/100\n",
            "469/469 [==============================] - 1s 3ms/step - loss: 0.5012 - accuracy: 0.7653 - val_loss: 0.4963 - val_accuracy: 0.7673\n",
            "Epoch 37/100\n",
            "469/469 [==============================] - 1s 3ms/step - loss: 0.5007 - accuracy: 0.7650 - val_loss: 0.4959 - val_accuracy: 0.7668\n",
            "Epoch 38/100\n",
            "469/469 [==============================] - 1s 3ms/step - loss: 0.5004 - accuracy: 0.7649 - val_loss: 0.4956 - val_accuracy: 0.7675\n",
            "Epoch 39/100\n",
            "469/469 [==============================] - 1s 3ms/step - loss: 0.5001 - accuracy: 0.7653 - val_loss: 0.4951 - val_accuracy: 0.7669\n",
            "Epoch 40/100\n",
            "469/469 [==============================] - 1s 3ms/step - loss: 0.4996 - accuracy: 0.7659 - val_loss: 0.4948 - val_accuracy: 0.7683\n",
            "Epoch 41/100\n",
            "469/469 [==============================] - 1s 3ms/step - loss: 0.4993 - accuracy: 0.7661 - val_loss: 0.4945 - val_accuracy: 0.7681\n",
            "Epoch 42/100\n",
            "469/469 [==============================] - 1s 3ms/step - loss: 0.4992 - accuracy: 0.7661 - val_loss: 0.4941 - val_accuracy: 0.7685\n",
            "Epoch 43/100\n",
            "469/469 [==============================] - 1s 3ms/step - loss: 0.4985 - accuracy: 0.7659 - val_loss: 0.4939 - val_accuracy: 0.7686\n",
            "Epoch 44/100\n",
            "469/469 [==============================] - 2s 3ms/step - loss: 0.4984 - accuracy: 0.7662 - val_loss: 0.4936 - val_accuracy: 0.7685\n",
            "Epoch 45/100\n",
            "469/469 [==============================] - 1s 3ms/step - loss: 0.4980 - accuracy: 0.7663 - val_loss: 0.4933 - val_accuracy: 0.7688\n",
            "Epoch 46/100\n",
            "469/469 [==============================] - 2s 3ms/step - loss: 0.4977 - accuracy: 0.7661 - val_loss: 0.4931 - val_accuracy: 0.7693\n",
            "Epoch 47/100\n",
            "469/469 [==============================] - 2s 3ms/step - loss: 0.4974 - accuracy: 0.7663 - val_loss: 0.4928 - val_accuracy: 0.7692\n",
            "Epoch 48/100\n",
            "469/469 [==============================] - 2s 3ms/step - loss: 0.4971 - accuracy: 0.7669 - val_loss: 0.4924 - val_accuracy: 0.7703\n",
            "Epoch 49/100\n",
            "469/469 [==============================] - 2s 3ms/step - loss: 0.4968 - accuracy: 0.7675 - val_loss: 0.4921 - val_accuracy: 0.7695\n",
            "Epoch 50/100\n",
            "469/469 [==============================] - 1s 3ms/step - loss: 0.4965 - accuracy: 0.7676 - val_loss: 0.4919 - val_accuracy: 0.7694\n",
            "Epoch 51/100\n",
            "469/469 [==============================] - 1s 3ms/step - loss: 0.4963 - accuracy: 0.7675 - val_loss: 0.4918 - val_accuracy: 0.7696\n",
            "Epoch 52/100\n",
            "469/469 [==============================] - 1s 3ms/step - loss: 0.4959 - accuracy: 0.7673 - val_loss: 0.4914 - val_accuracy: 0.7699\n",
            "Epoch 53/100\n",
            "469/469 [==============================] - 1s 3ms/step - loss: 0.4957 - accuracy: 0.7671 - val_loss: 0.4915 - val_accuracy: 0.7699\n",
            "Epoch 54/100\n",
            "469/469 [==============================] - 2s 3ms/step - loss: 0.4954 - accuracy: 0.7666 - val_loss: 0.4911 - val_accuracy: 0.7699\n",
            "Epoch 55/100\n",
            "469/469 [==============================] - 1s 3ms/step - loss: 0.4951 - accuracy: 0.7679 - val_loss: 0.4917 - val_accuracy: 0.7695\n",
            "Epoch 56/100\n",
            "469/469 [==============================] - 2s 3ms/step - loss: 0.4951 - accuracy: 0.7685 - val_loss: 0.4909 - val_accuracy: 0.7698\n",
            "Epoch 57/100\n",
            "469/469 [==============================] - 2s 3ms/step - loss: 0.4948 - accuracy: 0.7694 - val_loss: 0.4906 - val_accuracy: 0.7703\n",
            "Epoch 58/100\n",
            "469/469 [==============================] - 2s 3ms/step - loss: 0.4946 - accuracy: 0.7689 - val_loss: 0.4901 - val_accuracy: 0.7707\n",
            "Epoch 59/100\n",
            "469/469 [==============================] - 2s 3ms/step - loss: 0.4942 - accuracy: 0.7683 - val_loss: 0.4909 - val_accuracy: 0.7705\n",
            "Epoch 60/100\n",
            "469/469 [==============================] - 2s 3ms/step - loss: 0.4941 - accuracy: 0.7681 - val_loss: 0.4899 - val_accuracy: 0.7704\n",
            "Epoch 61/100\n",
            "469/469 [==============================] - 1s 3ms/step - loss: 0.4940 - accuracy: 0.7685 - val_loss: 0.4897 - val_accuracy: 0.7705\n",
            "Epoch 62/100\n",
            "469/469 [==============================] - 2s 3ms/step - loss: 0.4938 - accuracy: 0.7674 - val_loss: 0.4896 - val_accuracy: 0.7703\n",
            "Epoch 63/100\n",
            "469/469 [==============================] - 1s 3ms/step - loss: 0.4937 - accuracy: 0.7685 - val_loss: 0.4894 - val_accuracy: 0.7703\n",
            "Epoch 64/100\n",
            "469/469 [==============================] - 2s 3ms/step - loss: 0.4934 - accuracy: 0.7686 - val_loss: 0.4891 - val_accuracy: 0.7704\n",
            "Epoch 65/100\n",
            "469/469 [==============================] - 1s 3ms/step - loss: 0.4933 - accuracy: 0.7689 - val_loss: 0.4890 - val_accuracy: 0.7701\n",
            "Epoch 66/100\n",
            "469/469 [==============================] - 1s 3ms/step - loss: 0.4933 - accuracy: 0.7683 - val_loss: 0.4889 - val_accuracy: 0.7709\n",
            "Epoch 67/100\n",
            "469/469 [==============================] - 1s 3ms/step - loss: 0.4931 - accuracy: 0.7689 - val_loss: 0.4889 - val_accuracy: 0.7688\n",
            "Epoch 68/100\n",
            "469/469 [==============================] - 1s 3ms/step - loss: 0.4928 - accuracy: 0.7691 - val_loss: 0.4886 - val_accuracy: 0.7708\n",
            "Epoch 69/100\n",
            "469/469 [==============================] - 1s 3ms/step - loss: 0.4926 - accuracy: 0.7693 - val_loss: 0.4886 - val_accuracy: 0.7699\n",
            "Epoch 70/100\n",
            "469/469 [==============================] - 2s 5ms/step - loss: 0.4926 - accuracy: 0.7685 - val_loss: 0.4884 - val_accuracy: 0.7697\n",
            "Epoch 71/100\n",
            "469/469 [==============================] - 2s 3ms/step - loss: 0.4925 - accuracy: 0.7687 - val_loss: 0.4886 - val_accuracy: 0.7713\n",
            "Epoch 72/100\n",
            "469/469 [==============================] - 1s 3ms/step - loss: 0.4924 - accuracy: 0.7688 - val_loss: 0.4893 - val_accuracy: 0.7706\n",
            "Epoch 73/100\n",
            "469/469 [==============================] - 1s 3ms/step - loss: 0.4923 - accuracy: 0.7680 - val_loss: 0.4886 - val_accuracy: 0.7676\n",
            "Epoch 74/100\n",
            "469/469 [==============================] - 1s 3ms/step - loss: 0.4921 - accuracy: 0.7696 - val_loss: 0.4891 - val_accuracy: 0.7706\n",
            "Epoch 75/100\n",
            "469/469 [==============================] - 2s 3ms/step - loss: 0.4921 - accuracy: 0.7673 - val_loss: 0.4882 - val_accuracy: 0.7707\n",
            "Epoch 76/100\n",
            "469/469 [==============================] - 2s 3ms/step - loss: 0.4917 - accuracy: 0.7693 - val_loss: 0.4880 - val_accuracy: 0.7704\n",
            "Epoch 77/100\n",
            "469/469 [==============================] - 2s 3ms/step - loss: 0.4918 - accuracy: 0.7685 - val_loss: 0.4882 - val_accuracy: 0.7710\n",
            "Epoch 78/100\n",
            "469/469 [==============================] - 2s 3ms/step - loss: 0.4918 - accuracy: 0.7688 - val_loss: 0.4876 - val_accuracy: 0.7708\n",
            "Epoch 79/100\n",
            "469/469 [==============================] - 1s 3ms/step - loss: 0.4917 - accuracy: 0.7699 - val_loss: 0.4876 - val_accuracy: 0.7701\n",
            "Epoch 80/100\n",
            "469/469 [==============================] - 1s 3ms/step - loss: 0.4914 - accuracy: 0.7693 - val_loss: 0.4877 - val_accuracy: 0.7682\n",
            "Epoch 81/100\n",
            "469/469 [==============================] - 1s 3ms/step - loss: 0.4916 - accuracy: 0.7692 - val_loss: 0.4875 - val_accuracy: 0.7703\n",
            "Epoch 82/100\n",
            "469/469 [==============================] - 1s 3ms/step - loss: 0.4914 - accuracy: 0.7687 - val_loss: 0.4875 - val_accuracy: 0.7706\n",
            "Epoch 83/100\n",
            "469/469 [==============================] - 1s 3ms/step - loss: 0.4915 - accuracy: 0.7693 - val_loss: 0.4874 - val_accuracy: 0.7705\n",
            "Epoch 84/100\n",
            "469/469 [==============================] - 1s 3ms/step - loss: 0.4914 - accuracy: 0.7686 - val_loss: 0.4873 - val_accuracy: 0.7698\n",
            "Epoch 85/100\n",
            "469/469 [==============================] - 1s 3ms/step - loss: 0.4913 - accuracy: 0.7689 - val_loss: 0.4873 - val_accuracy: 0.7703\n",
            "Epoch 86/100\n",
            "469/469 [==============================] - 1s 3ms/step - loss: 0.4911 - accuracy: 0.7686 - val_loss: 0.4873 - val_accuracy: 0.7703\n",
            "Epoch 87/100\n",
            "469/469 [==============================] - 1s 3ms/step - loss: 0.4911 - accuracy: 0.7691 - val_loss: 0.4871 - val_accuracy: 0.7704\n",
            "Epoch 88/100\n",
            "469/469 [==============================] - 2s 3ms/step - loss: 0.4910 - accuracy: 0.7687 - val_loss: 0.4871 - val_accuracy: 0.7697\n",
            "Epoch 89/100\n",
            "469/469 [==============================] - 2s 5ms/step - loss: 0.4909 - accuracy: 0.7683 - val_loss: 0.4874 - val_accuracy: 0.7709\n",
            "Epoch 90/100\n",
            "469/469 [==============================] - 2s 3ms/step - loss: 0.4910 - accuracy: 0.7695 - val_loss: 0.4870 - val_accuracy: 0.7699\n",
            "Epoch 91/100\n",
            "469/469 [==============================] - 2s 3ms/step - loss: 0.4908 - accuracy: 0.7686 - val_loss: 0.4871 - val_accuracy: 0.7678\n",
            "Epoch 92/100\n",
            "469/469 [==============================] - 2s 4ms/step - loss: 0.4909 - accuracy: 0.7689 - val_loss: 0.4870 - val_accuracy: 0.7701\n",
            "Epoch 93/100\n",
            "469/469 [==============================] - 2s 3ms/step - loss: 0.4908 - accuracy: 0.7676 - val_loss: 0.4870 - val_accuracy: 0.7707\n",
            "Epoch 94/100\n",
            "469/469 [==============================] - 2s 3ms/step - loss: 0.4907 - accuracy: 0.7699 - val_loss: 0.4874 - val_accuracy: 0.7705\n",
            "Epoch 95/100\n",
            "469/469 [==============================] - 2s 5ms/step - loss: 0.4907 - accuracy: 0.7689 - val_loss: 0.4872 - val_accuracy: 0.7705\n",
            "Epoch 96/100\n",
            "469/469 [==============================] - 2s 4ms/step - loss: 0.4906 - accuracy: 0.7683 - val_loss: 0.4870 - val_accuracy: 0.7679\n",
            "Epoch 97/100\n",
            "469/469 [==============================] - 2s 5ms/step - loss: 0.4905 - accuracy: 0.7708 - val_loss: 0.4873 - val_accuracy: 0.7689\n",
            "Epoch 98/100\n",
            "469/469 [==============================] - 2s 5ms/step - loss: 0.4907 - accuracy: 0.7687 - val_loss: 0.4878 - val_accuracy: 0.7697\n",
            "Epoch 99/100\n",
            "469/469 [==============================] - 2s 4ms/step - loss: 0.4907 - accuracy: 0.7680 - val_loss: 0.4868 - val_accuracy: 0.7706\n",
            "Epoch 100/100\n",
            "469/469 [==============================] - 2s 4ms/step - loss: 0.4905 - accuracy: 0.7684 - val_loss: 0.4873 - val_accuracy: 0.7699\n"
          ]
        }
      ],
      "source": [
        "model_history=model.fit(X_train,y_train,epochs=100,validation_data=(X_test,y_test))"
      ]
    },
    {
      "cell_type": "code",
      "execution_count": 44,
      "metadata": {
        "colab": {
          "base_uri": "https://localhost:8080/",
          "height": 296
        },
        "id": "MB4ai45fSjnI",
        "outputId": "f1d2a1e4-50e5-4f07-d10f-ff076f173bbb"
      },
      "outputs": [
        {
          "output_type": "execute_result",
          "data": {
            "text/plain": [
              "Text(0.5, 0, 'Epoch number')"
            ]
          },
          "metadata": {},
          "execution_count": 44
        },
        {
          "output_type": "display_data",
          "data": {
            "image/png": "[encoded data removed]",
            "text/plain": [
              "<Figure size 432x288 with 1 Axes>"
            ]
          },
          "metadata": {
            "needs_background": "light"
          }
        }
      ],
      "source": [
        "loss=model_history.history['loss']\n",
        "index=np.arange(100)\n",
        "sns.lineplot(x=index,y=loss)\n",
        "plt.ylabel('loss')\n",
        "plt.xlabel('Epoch number')"
      ]
    },
    {
      "cell_type": "code",
      "execution_count": 45,
      "metadata": {
        "id": "1lqkk59u6P_g"
      },
      "outputs": [],
      "source": [
        "predictionsKeras=[]\n",
        "predictions_sigmoid_keras = model.predict(X_test)\n",
        "for i in predictions_sigmoid_keras:\n",
        "  if i>0.5:\n",
        "    predictionsKeras.append(1)\n",
        "  else:\n",
        "    predictionsKeras.append(0)"
      ]
    },
    {
      "cell_type": "code",
      "execution_count": 46,
      "metadata": {
        "colab": {
          "base_uri": "https://localhost:8080/",
          "height": 296
        },
        "id": "Tbt6ua-DTWwt",
        "outputId": "a144eb94-ca45-44c8-9a6d-e6e0f590555d"
      },
      "outputs": [
        {
          "output_type": "execute_result",
          "data": {
            "text/plain": [
              "Text(33.0, 0.5, 'Actual')"
            ]
          },
          "metadata": {},
          "execution_count": 46
        },
        {
          "output_type": "display_data",
          "data": {
            "image/png": "[encoded data removed]",
            "text/plain": [
              "<Figure size 432x288 with 2 Axes>"
            ]
          },
          "metadata": {
            "needs_background": "light"
          }
        }
      ],
      "source": [
        "cf=confusion_matrix(y_test,predictionsKeras)\n",
        "sns.heatmap(data=cf,annot=True,fmt='d')\n",
        "plt.xlabel(\"Predicted\")\n",
        "plt.ylabel(\"Actual\")"
      ]
    },
    {
      "cell_type": "code",
      "execution_count": 47,
      "metadata": {
        "colab": {
          "base_uri": "https://localhost:8080/"
        },
        "id": "EWMtdUbwTW0r",
        "outputId": "1959aa06-8aec-48a8-e434-3bb2f04697b5"
      },
      "outputs": [
        {
          "output_type": "stream",
          "name": "stdout",
          "text": [
            "              precision    recall  f1-score   support\n",
            "\n",
            "         0.0       0.75      0.86      0.80      8159\n",
            "         1.0       0.80      0.67      0.73      6841\n",
            "\n",
            "    accuracy                           0.77     15000\n",
            "   macro avg       0.77      0.76      0.76     15000\n",
            "weighted avg       0.77      0.77      0.77     15000\n",
            "\n"
          ]
        }
      ],
      "source": [
        "\n",
        "print(classification_report(y_test,predictionsKeras))"
      ]
    },
    {
      "cell_type": "markdown",
      "metadata": {
        "id": "2_m0ZwDl6Q9X"
      },
      "source": [
        "<h1>Precision Recall curve</h1>\n"
      ]
    },
    {
      "cell_type": "code",
      "execution_count": 48,
      "metadata": {
        "id": "_oE5e_W9-MLG"
      },
      "outputs": [],
      "source": [
        "#predictions_sigmoid\n",
        "def PR_cal(custom_thresolds,y_test,predictions_sigmoid):\n",
        "  precisionData = []\n",
        "  recallData = []\n",
        "  for i in custom_thresolds:\n",
        "    predictions=[]\n",
        "    for values in predictions_sigmoid:\n",
        "      if values>i:\n",
        "        predictions.append(1)\n",
        "      else:\n",
        "        predictions.append(0)\n",
        "    tn, fp, fn, tp=confusion_matrix(y_test,predictions).ravel()\n",
        "    precision=tp/(tp+fp)\n",
        "    recall = tp/(tp+fn)\n",
        "    precisionData.append(precision)\n",
        "    recallData.append(recall)\n",
        "  return precisionData,recallData"
      ]
    },
    {
      "cell_type": "code",
      "execution_count": 49,
      "metadata": {
        "id": "fUKlIPjc6u8A"
      },
      "outputs": [],
      "source": [
        "custom_thresolds=np.linspace(0,0.98,200)"
      ]
    },
    {
      "cell_type": "code",
      "execution_count": 50,
      "metadata": {
        "id": "eX2dYOlD6vs4"
      },
      "outputs": [],
      "source": [
        "precisionData,recallData=PR_cal(custom_thresolds,y_test,predictions_sigmoid)"
      ]
    },
    {
      "cell_type": "code",
      "execution_count": 51,
      "metadata": {
        "id": "FDGLq-zu7BUv"
      },
      "outputs": [],
      "source": [
        "precisionDataKeras,recallDataKeras=PR_cal(custom_thresolds,y_test,predictions_sigmoid_keras)"
      ]
    },
    {
      "cell_type": "code",
      "execution_count": 52,
      "metadata": {
        "colab": {
          "base_uri": "https://localhost:8080/",
          "height": 404
        },
        "id": "CZdZLGBQ6z1j",
        "outputId": "d7d64547-3541-48a0-97f4-3ea5c8548ea1"
      },
      "outputs": [
        {
          "output_type": "display_data",
          "data": {
            "image/png": "[encoded data removed]",
            "text/plain": [
              "<Figure size 576x432 with 1 Axes>"
            ]
          },
          "metadata": {
            "needs_background": "light"
          }
        }
      ],
      "source": [
        "plt.figure(figsize=(8,6))\n",
        "plt.plot(recallDataKeras,precisionDataKeras,\"-k\")\n",
        "plt.plot(recallData,precisionData,\"^r:\")\n",
        "plt.xlabel(\"Recall\")\n",
        "plt.ylabel(\"Precision\")\n",
        "plt.legend(['Keras model',\"Custom model\"])\n",
        "plt.title(\"Precision Recall Curve\")\n",
        "\n",
        "plt.show()"
      ]
    },
    {
      "cell_type": "code",
      "source": [
        "model.save_weights(\"kerasModelSusy.h5\")"
      ],
      "metadata": {
        "id": "zcNjRO10TQRA"
      },
      "execution_count": 53,
      "outputs": []
    },
    {
      "cell_type": "markdown",
      "metadata": {
        "id": "36OGcFdaT2xl"
      },
      "source": [
        "<h1> ROC </h1>"
      ]
    },
    {
      "cell_type": "code",
      "execution_count": 54,
      "metadata": {
        "colab": {
          "base_uri": "https://localhost:8080/",
          "height": 458
        },
        "id": "lYwZ6X0-DMdz",
        "outputId": "f559b495-fc94-4e61-fd53-99a412296c1a"
      },
      "outputs": [
        {
          "output_type": "display_data",
          "data": {
            "image/png": "[encoded data removed]",
            "text/plain": [
              "<Figure size 504x504 with 1 Axes>"
            ]
          },
          "metadata": {
            "needs_background": "light"
          }
        }
      ],
      "source": [
        "from sklearn.metrics import roc_curve\n",
        "fpr1, tpr1, thresholds2=roc_curve(y_test,predictions)\n",
        "fpr2, tpr2, thresholds1=roc_curve(y_test,predictionsKeras)\n",
        "plt.figure(figsize=(7,7))\n",
        "plt.plot([0, 1], [0, 1], '--',color='red',label='Thresold')\n",
        "plt.plot(fpr2, tpr2,color='black',label='Keras based model',marker=\"s\")\n",
        "plt.plot(fpr1, tpr1,color='green',label='Custom model',marker=\"*\")\n",
        "plt.ylabel('True positive rate(Recall)')\n",
        "plt.xlabel('False positive rate')\n",
        "plt.title('ROC')\n",
        "plt.grid()\n",
        "plt.legend()\n",
        "plt.show()"
      ]
    },
    {
      "cell_type": "markdown",
      "metadata": {
        "id": "Ilt3VZSdS9UJ"
      },
      "source": [
        "<h1> ROC AUC </h1>"
      ]
    },
    {
      "cell_type": "code",
      "execution_count": 55,
      "metadata": {
        "colab": {
          "base_uri": "https://localhost:8080/"
        },
        "id": "ATu7G6zn7Jp6",
        "outputId": "c264312a-a899-4b91-e24d-abdbfbba6355"
      },
      "outputs": [
        {
          "output_type": "execute_result",
          "data": {
            "text/plain": [
              "0.7581522778556342"
            ]
          },
          "metadata": {},
          "execution_count": 55
        }
      ],
      "source": [
        "rocAucCustom = roc_auc_score(y_test,predictions)\n",
        "rocAucCustom"
      ]
    },
    {
      "cell_type": "code",
      "execution_count": 56,
      "metadata": {
        "colab": {
          "base_uri": "https://localhost:8080/"
        },
        "id": "djQIHFp2TCLn",
        "outputId": "5e64f69b-41f0-4e57-9433-36721867f317"
      },
      "outputs": [
        {
          "output_type": "execute_result",
          "data": {
            "text/plain": [
              "0.7615492241531459"
            ]
          },
          "metadata": {},
          "execution_count": 56
        }
      ],
      "source": [
        "rocAucKeras = roc_auc_score(y_test,predictionsKeras)\n",
        "rocAucKeras"
      ]
    },
    {
      "cell_type": "markdown",
      "metadata": {
        "id": "68ulTEse6KDe"
      },
      "source": [
        "<h1> Loss visualization </h1>"
      ]
    },
    {
      "cell_type": "code",
      "execution_count": 57,
      "metadata": {
        "colab": {
          "base_uri": "https://localhost:8080/",
          "height": 334
        },
        "id": "x-3BOXzQU-J9",
        "outputId": "024625f3-78d3-4969-b5f0-903f1983beca"
      },
      "outputs": [
        {
          "output_type": "display_data",
          "data": {
            "image/png": "[encoded data removed]",
            "text/plain": [
              "<Figure size 432x360 with 1 Axes>"
            ]
          },
          "metadata": {
            "needs_background": "light"
          }
        }
      ],
      "source": [
        "plt.figure(figsize=(6,5))\n",
        "plt.plot(model_history.history['loss'])\n",
        "plt.xlabel(\"Epoch number\")\n",
        "plt.ylabel(\"loss\")\n",
        "plt.show()"
      ]
    },
    {
      "cell_type": "code",
      "execution_count": 58,
      "metadata": {
        "colab": {
          "base_uri": "https://localhost:8080/",
          "height": 334
        },
        "id": "CeU9CRYhTJdC",
        "outputId": "1875ed8a-ebfb-47af-b3ec-890e8d9a0469"
      },
      "outputs": [
        {
          "output_type": "display_data",
          "data": {
            "image/png": "[encoded data removed]",
            "text/plain": [
              "<Figure size 432x360 with 1 Axes>"
            ]
          },
          "metadata": {
            "needs_background": "light"
          }
        }
      ],
      "source": [
        "plt.figure(figsize=(6,5))\n",
        "plt.plot(model_history.history['loss'])\n",
        "plt.plot(ann_object.loss_history)\n",
        "plt.xlabel(\"Epoch number\")\n",
        "plt.ylabel(\"loss\")\n",
        "plt.legend(['Keras model','Custom model'])\n",
        "plt.show()"
      ]
    },
    {
      "cell_type": "code",
      "execution_count": 58,
      "metadata": {
        "id": "KJQkFd2fX0xi"
      },
      "outputs": [],
      "source": [
        ""
      ]
    },
    {
      "cell_type": "markdown",
      "metadata": {
        "id": "e6Kyj3-HX1Yh"
      },
      "source": [
        "<h1> Bias Tuner </h1>"
      ]
    },
    {
      "cell_type": "code",
      "source": [
        ""
      ],
      "metadata": {
        "id": "qOmkAmVwAfUJ"
      },
      "execution_count": 58,
      "outputs": []
    },
    {
      "cell_type": "code",
      "execution_count": 59,
      "metadata": {
        "id": "AxuQOUCqX000"
      },
      "outputs": [],
      "source": [
        "# class ANNTuner():\n",
        "#   def __init__(self,model,lower_thresold,upper_thresold):\n",
        "#     self.model=model\n",
        "#     self.lower_thresold=lower_thresold\n",
        "#     self.upper_thresold = upper_thresold\n",
        "#     self.epochs=100\n",
        "#     self.learning_rate=0.0001\n",
        "#     self.finalResult={}\n",
        "#     self.temp=[]\n",
        "#   def tune(self,X_train,y_train,X_test,y_true):\n",
        "#     for i in range(0,len(self.lower_thresold)):\n",
        "#       modelObj = self.model(self.epochs,self.learning_rate,self.lower_thresold[i],self.upper_thresold[i]) \n",
        "#       modelObj.fit(X_train,y_train)\n",
        "#       predictions=[]\n",
        "#       predictions_sigmoid = modelObj.predict(X_test)\n",
        "#       for j in predictions_sigmoid:\n",
        "#         if j>0.5:\n",
        "#           predictions.append(1)\n",
        "#         else:\n",
        "#           predictions.append(0)\n",
        "#       print(f\"{i}   {predictions_sigmoid}\")\n",
        "#       print(f\"{i}   {predictions}\")\n",
        "#       self.temp.append(f1_score(y_true,predictions))\n",
        "#       self.finalResult[(self.lower_thresold[i],self.upper_thresold[i])]=self.temp[i]\n",
        "#     return self.finalResult"
      ]
    },
    {
      "cell_type": "code",
      "execution_count": 60,
      "metadata": {
        "id": "kQkPRZsrX5Lq"
      },
      "outputs": [],
      "source": [
        "# ANNTuner_obj = ANNTuner(ANN,[1,1.5,3,5],[1,3.9,4.5,6.5])\n",
        "# baises_withF1Score = ANNTuner_obj.tune(X_train,y,X_test,y_test)"
      ]
    },
    {
      "cell_type": "code",
      "execution_count": 61,
      "metadata": {
        "id": "gaHAextqX8wU"
      },
      "outputs": [],
      "source": [
        "# print(baises_withF1Score)"
      ]
    },
    {
      "cell_type": "code",
      "execution_count": 61,
      "metadata": {
        "id": "iNoLCjZcYGJl"
      },
      "outputs": [],
      "source": [
        ""
      ]
    }
  ],
  "metadata": {
    "colab": {
      "collapsed_sections": [],
      "name": "Smple_ANN_classification_implementation_susy.ipynb",
      "provenance": []
    },
    "kernelspec": {
      "display_name": "Python 3",
      "language": "python",
      "name": "python3"
    },
    "language_info": {
      "codemirror_mode": {
        "name": "ipython",
        "version": 3
      },
      "file_extension": ".py",
      "mimetype": "text/x-python",
      "name": "python",
      "nbconvert_exporter": "python",
      "pygments_lexer": "ipython3",
      "version": "3.8.10"
    }
  },
  "nbformat": 4,
  "nbformat_minor": 0
}