{
  "cells": [
    {
      "cell_type": "code",
      "execution_count": 1,
      "metadata": {
        "id": "cn9WtVxwx-oa"
      },
      "outputs": [],
      "source": [
        "import pandas as pd\n",
        "import numpy as np\n",
        "from sklearn.preprocessing import MinMaxScaler\n",
        "import seaborn as sns\n",
        "import matplotlib.pyplot as plt\n",
        "from sklearn.ensemble import RandomForestClassifier\n",
        "from sklearn.model_selection import train_test_split\n",
        "from sklearn.metrics import confusion_matrix\n",
        "from sklearn.metrics import classification_report\n",
        "from sklearn.metrics import roc_auc_score\n",
        "from sklearn.metrics import f1_score"
      ]
    },
    {
      "cell_type": "code",
      "execution_count": 2,
      "metadata": {
        "colab": {
          "base_uri": "https://localhost:8080/"
        },
        "id": "k8McddfECfL6",
        "outputId": "eeb53b5e-73c4-406d-f330-19a9a1ba9105"
      },
      "outputs": [
        {
          "output_type": "stream",
          "name": "stdout",
          "text": [
            "Drive already mounted at /content/drive; to attempt to forcibly remount, call drive.mount(\"/content/drive\", force_remount=True).\n"
          ]
        }
      ],
      "source": [
        "from google.colab import drive\n",
        "drive.mount('/content/drive')"
      ]
    },
    {
      "cell_type": "code",
      "execution_count": 3,
      "metadata": {
        "id": "6SUnbQtwyRRr"
      },
      "outputs": [],
      "source": [
        "class ANN:\n",
        "    def __init__(self,epochs,lr,b1,b2):\n",
        "        self.epochs=epochs\n",
        "        self.lr=lr\n",
        "        self.weight_collector={}\n",
        "        self.loss_history=[]\n",
        "        self.smoothing=1e-15\n",
        "        self.alpha=1e-5\n",
        "        self.w1=[]\n",
        "        self.w2=[]\n",
        "        self.w3=[]\n",
        "        self.best_weights=[None,None,None]\n",
        "        self.b1=b1 # some constant value\n",
        "        self.b2=b2\n",
        "        self.loss_thresold=float(\"inf\")\n",
        "\n",
        "    def fit(self,X_train,y_train):\n",
        "        itr_numb=X_train.shape[0]\n",
        "        #initializing weights using he normal \n",
        "        self.w1=np.random.randn(3)*np.sqrt(2/1)\n",
        "        print(self.w1)\n",
        "        #Node 2 initialization\n",
        "        self.w2=np.random.randn(3)*np.sqrt(2/3)\n",
        "        print(self.w2)\n",
        "\n",
        "        #Node 3 initialization \n",
        "        self.w3=np.random.randn(2)*np.sqrt(2/2)\n",
        "        print(self.w3)\n",
        "\n",
        "\n",
        "        \n",
        "        # Weight adjustments\n",
        "        for k in range(0,self.epochs):\n",
        "            loss_sum=0\n",
        "            for i in range(0,itr_numb):\n",
        "                #Node 1\n",
        "                # multiplying weights with input \n",
        "                x_vec = X_train[i]\n",
        "                node1_out = np.dot(x_vec,self.w1)+self.b1\n",
        "                if node1_out<0:\n",
        "                  node1_out = self.alpha*(node1_out)\n",
        "                else:\n",
        "                  node1_out = max(0,node1_out) # relu\n",
        "\n",
        "                #Node 2\n",
        "                x_vec = X_train[i]\n",
        "                node2_out = np.dot(x_vec,self.w2)+self.b1\n",
        "                if node2_out<0:\n",
        "                  node2_out = self.alpha*(node2_out)\n",
        "                else:\n",
        "                  node2_out = max(0,node2_out) # relu\n",
        "\n",
        "                #Node 3\n",
        "\n",
        "                #Output layer\n",
        "\n",
        "                out_layer = [node1_out,node2_out]\n",
        "\n",
        "                # multiplying weights with input \n",
        "                x_vec = X_train[i]\n",
        "                out_node = np.dot(out_layer,self.w3)+self.b2\n",
        "                y_out=(1/(1+np.exp(-out_node)))\n",
        "\n",
        "                #Loss/Cost function and weight updation\n",
        "\n",
        "                # for node 1\n",
        "                slope1 = -(((y_train.iloc[i]/(y_out+self.smoothing))*(1/pow((1+np.exp(-out_node)),2))*np.exp(-out_node)*(self.w3[0]*X_train[i][0]))-\n",
        "                                          ((1-y_train.iloc[i])/(1-y_out+self.smoothing))*(1/pow((1+np.exp(out_node)),2))*np.exp(out_node)*\n",
        "                           (self.w3[0]*X_train[i][0]))\n",
        "                self.w1[0] = self.w1[0]-(self.lr*slope1)\n",
        "\n",
        "                slope2 = -(((y_train.iloc[i]/(y_out+self.smoothing))*(1/pow((1+np.exp(-out_node)),2))*np.exp(-out_node)*(self.w3[0]*X_train[i][1]))-\n",
        "                                          ((1-y_train.iloc[i])/(1-y_out+self.smoothing))*(1/pow((1+np.exp(out_node)),2))*np.exp(out_node)*(self.w3[0]*X_train[i][1]))\n",
        "                self.w1[1] = self.w1[1]-(self.lr*slope2)\n",
        "\n",
        "                slope3 = -(((y_train.iloc[i]/(y_out+self.smoothing))*(1/pow((1+np.exp(-out_node)),2))*np.exp(-out_node)*(self.w3[0]*X_train[i][2]))-\n",
        "                                          ((1-y_train.iloc[i])/(1-y_out+self.smoothing))*(1/pow((1+np.exp(out_node)),2))*np.exp(out_node)*(self.w3[0]*X_train[i][2]))\n",
        "                self.w1[1] = self.w1[1]-(self.lr*slope3)\n",
        "\n",
        "                # for node 2\n",
        "                slope4 = -(((y_train.iloc[i]/(y_out+self.smoothing))*(1/pow((1+np.exp(-out_node)),2))*np.exp(-out_node)*(self.w3[1]*X_train[i][0]))-\n",
        "                                          ((1-y_train.iloc[i])/(1-y_out+self.smoothing))*(1/pow((1+np.exp(out_node)),2))*np.exp(out_node)*(self.w3[1]*X_train[i][0]))\n",
        "                self.w2[0] = self.w2[0]-(self.lr*slope4)\n",
        "\n",
        "                slope5 = -(((y_train.iloc[i]/(y_out+self.smoothing))*(1/pow((1+np.exp(-out_node)),2))*np.exp(-out_node)*(self.w3[1]*X_train[i][1]))-\n",
        "                                          ((1-y_train.iloc[i])/(1-y_out+self.smoothing))*(1/pow((1+np.exp(out_node)),2))*np.exp(out_node)*(self.w3[1]*X_train[i][1]))\n",
        "                self.w2[1] = self.w2[1]-(self.lr*slope5)\n",
        "\n",
        "                slope6 = -(((y_train.iloc[i]/(y_out+self.smoothing))*(1/pow((1+np.exp(-out_node)),2))*np.exp(-out_node)*(self.w3[1]*X_train[i][2]))-\n",
        "                                          ((1-y_train.iloc[i])/(1-y_out+self.smoothing))*(1/pow((1+np.exp(out_node)),2))*np.exp(out_node)*(self.w3[1]*X_train[i][2]))\n",
        "                self.w2[1] = self.w2[1]-(self.lr*slope6)\n",
        "\n",
        "                #for output node \n",
        "\n",
        "                slope7 = -(((y_train.iloc[i]/(y_out+self.smoothing))*(1/pow((1+np.exp(-out_node)),2))*np.exp(-out_node)*(node1_out)-\n",
        "                                          ((1-y_train.iloc[i])/(1-y_out+self.smoothing))*(1/pow((1+np.exp(out_node)),2))*np.exp(out_node)*(node1_out)))\n",
        "                self.w3[0] = self.w3[0]-(self.lr*slope7)\n",
        "\n",
        "                slope8 = -(((y_train.iloc[i]/(y_out+self.smoothing))*(1/pow((1+np.exp(-out_node)),2))*np.exp(-out_node)*(node2_out)-\n",
        "                                          ((1-y_train.iloc[i])/(1-y_out+self.smoothing))*(1/pow((1+np.exp(out_node)),2))*np.exp(out_node)*(node2_out))) \n",
        "                self.w3[1] = self.w3[1]-(self.lr*slope8)\n",
        "\n",
        "                #Updating the biases\n",
        "                slope_bias1 = -(((y_train.iloc[i]/(y_out+self.smoothing))*\n",
        "                                 (1/pow((1+np.exp(-out_node)),2))*np.exp(-out_node)*(self.w3[0]+self.w3[1])-\n",
        "                                          ((1-y_train.iloc[i])/(1-y_out+self.smoothing))*\n",
        "                                 (1/pow((1+np.exp(out_node)),2))*np.exp(out_node)*(self.w3[0]+self.w3[1]))) \n",
        "                self.b1 = self.b1-(self.lr*slope_bias1)\n",
        "                \n",
        "                slope_bias2 = -(((y_train.iloc[i]/(y_out+self.smoothing))*\n",
        "                                 (1/pow((1+np.exp(-out_node)),2))*np.exp(-out_node)*(self.w3[0]*(node1_out)\n",
        "                                 +self.w3[1]*(node2_out))-((1-y_train.iloc[i])/(1-y_out+self.smoothing))*\n",
        "                                 (1/pow((1+np.exp(out_node)),2))*np.exp(out_node)*(self.w3[0]*(node1_out)\n",
        "                                 +self.w3[1]*(node2_out)))) \n",
        "                self.b2 = self.b2-(self.lr*slope_bias2)\n",
        "\n",
        "                ##Kepping the best weights\n",
        "                loss_sum+=(y_train.iloc[i]*np.log(y_out+self.smoothing))+(\n",
        "                    (1-y_train.iloc[i])*np.log(1-y_out+self.smoothing))\n",
        "            \n",
        "            final_loss = (-loss_sum/itr_numb)\n",
        "            self.loss_history.append(final_loss)\n",
        "            #check\n",
        "            print(\"************************* epoch \",k,\" **************************\")\n",
        "            print(\"##########################################################\")\n",
        "            print(\"w1\",self.w1)\n",
        "            print(\"w2\",self.w2)\n",
        "            print(\"w3\",self.w3)\n",
        "            print(\"b1\",self.b1)\n",
        "            print(\"b2\",self.b2)\n",
        "            print(node1_out)\n",
        "            print(node2_out)\n",
        "            print(y_out)\n",
        "            print(\"current loss is :- \",final_loss)\n",
        "            if (self.loss_history[k]<self.loss_thresold):\n",
        "              self.loss_thresold=self.loss_history[k]\n",
        "              self.best_weights[0]=self.w1\n",
        "              self.best_weights[1]=self.w2\n",
        "              self.best_weights[2]=self.w3\n",
        "\n",
        "    def predict(self,X_test):\n",
        "      #test data\n",
        "      itr_numb=X_test.shape[0]\n",
        "      predictions=[]\n",
        "      for i in range(0,itr_numb):\n",
        "        #Node 1\n",
        "        # multiplying weights with input \n",
        "        x_vec = X_test[i]\n",
        "        node1_out = np.dot(x_vec,self.w1)+self.b1\n",
        "\n",
        "        #Node 2\n",
        "        x_vec = X_test[i]\n",
        "        node2_out = np.dot(x_vec,self.w2)+self.b1\n",
        "\n",
        "        #Node 3\n",
        "\n",
        "        #Output layer\n",
        "\n",
        "        out_layer = [node1_out,node2_out]\n",
        "\n",
        "        # multiplying weights with input \n",
        "        x_vec = X_test[i]\n",
        "        out_node = np.dot(out_layer,self.w3)+self.b2\n",
        "        y_out=(1/(1+np.exp(-out_node)))\n",
        "        predictions.append(y_out)\n",
        "      return predictions\n",
        "\n",
        "    def train_loss_plot(self):\n",
        "        plt.plot(self.loss_history)\n",
        "        plt.xlabel(\"Epoch number\")\n",
        "        plt.ylabel(\"loss\")\n",
        "        plt.show()\n",
        "    def test_report(self,y_test,predictions):\n",
        "      conf_matrix = confusion_matrix(y_test,predictions)\n",
        "      sns.heatmap(data=conf_matrix,annot=True,fmt='d')\n",
        "      plt.xlabel(\"Predicted\")\n",
        "      plt.ylabel(\"Actual\")\n",
        "      print(classification_report(y_test,predictions))"
      ]
    },
    {
      "cell_type": "markdown",
      "metadata": {
        "id": "PFwdz2C1z_SC"
      },
      "source": [
        "# Data Preparation"
      ]
    },
    {
      "cell_type": "code",
      "execution_count": 4,
      "metadata": {
        "id": "1QWpACAoz_Va"
      },
      "outputs": [],
      "source": [
        "df=pd.read_csv(\"/content/drive/MyDrive/Colab Notebooks/cardiovascular disease/cardio_train.csv\",sep=\";\")"
      ]
    },
    {
      "cell_type": "code",
      "execution_count": 5,
      "metadata": {
        "colab": {
          "base_uri": "https://localhost:8080/",
          "height": 143
        },
        "id": "0_-C2G8YB5IL",
        "outputId": "04fcf6a1-c1ce-473c-c576-d71e9e6e4a46"
      },
      "outputs": [
        {
          "output_type": "execute_result",
          "data": {
            "text/html": [
              "\n",
              "  <div id=\"df-3004ab68-bca7-4670-8cf3-42d4577ab825\">\n",
              "    <div class=\"colab-df-container\">\n",
              "      <div>\n",
              "<style scoped>\n",
              "    .dataframe tbody tr th:only-of-type {\n",
              "        vertical-align: middle;\n",
              "    }\n",
              "\n",
              "    .dataframe tbody tr th {\n",
              "        vertical-align: top;\n",
              "    }\n",
              "\n",
              "    .dataframe thead th {\n",
              "        text-align: right;\n",
              "    }\n",
              "</style>\n",
              "<table border=\"1\" class=\"dataframe\">\n",
              "  <thead>\n",
              "    <tr style=\"text-align: right;\">\n",
              "      <th></th>\n",
              "      <th>id</th>\n",
              "      <th>age</th>\n",
              "      <th>gender</th>\n",
              "      <th>height</th>\n",
              "      <th>weight</th>\n",
              "      <th>ap_hi</th>\n",
              "      <th>ap_lo</th>\n",
              "      <th>cholesterol</th>\n",
              "      <th>gluc</th>\n",
              "      <th>smoke</th>\n",
              "      <th>alco</th>\n",
              "      <th>active</th>\n",
              "      <th>cardio</th>\n",
              "    </tr>\n",
              "  </thead>\n",
              "  <tbody>\n",
              "    <tr>\n",
              "      <th>0</th>\n",
              "      <td>0</td>\n",
              "      <td>18393</td>\n",
              "      <td>2</td>\n",
              "      <td>168</td>\n",
              "      <td>62.0</td>\n",
              "      <td>110</td>\n",
              "      <td>80</td>\n",
              "      <td>1</td>\n",
              "      <td>1</td>\n",
              "      <td>0</td>\n",
              "      <td>0</td>\n",
              "      <td>1</td>\n",
              "      <td>0</td>\n",
              "    </tr>\n",
              "    <tr>\n",
              "      <th>1</th>\n",
              "      <td>1</td>\n",
              "      <td>20228</td>\n",
              "      <td>1</td>\n",
              "      <td>156</td>\n",
              "      <td>85.0</td>\n",
              "      <td>140</td>\n",
              "      <td>90</td>\n",
              "      <td>3</td>\n",
              "      <td>1</td>\n",
              "      <td>0</td>\n",
              "      <td>0</td>\n",
              "      <td>1</td>\n",
              "      <td>1</td>\n",
              "    </tr>\n",
              "    <tr>\n",
              "      <th>2</th>\n",
              "      <td>2</td>\n",
              "      <td>18857</td>\n",
              "      <td>1</td>\n",
              "      <td>165</td>\n",
              "      <td>64.0</td>\n",
              "      <td>130</td>\n",
              "      <td>70</td>\n",
              "      <td>3</td>\n",
              "      <td>1</td>\n",
              "      <td>0</td>\n",
              "      <td>0</td>\n",
              "      <td>0</td>\n",
              "      <td>1</td>\n",
              "    </tr>\n",
              "  </tbody>\n",
              "</table>\n",
              "</div>\n",
              "      <button class=\"colab-df-convert\" onclick=\"convertToInteractive('df-3004ab68-bca7-4670-8cf3-42d4577ab825')\"\n",
              "              title=\"Convert this dataframe to an interactive table.\"\n",
              "              style=\"display:none;\">\n",
              "        \n",
              "  <svg xmlns=\"http://www.w3.org/2000/svg\" height=\"24px\"viewBox=\"0 0 24 24\"\n",
              "       width=\"24px\">\n",
              "    <path d=\"M0 0h24v24H0V0z\" fill=\"none\"/>\n",
              "    <path d=\"M18.56 5.44l.94 2.06.94-2.06 2.06-.94-2.06-.94-.94-2.06-.94 2.06-2.06.94zm-11 1L8.5 8.5l.94-2.06 2.06-.94-2.06-.94L8.5 2.5l-.94 2.06-2.06.94zm10 10l.94 2.06.94-2.06 2.06-.94-2.06-.94-.94-2.06-.94 2.06-2.06.94z\"/><path d=\"M17.41 7.96l-1.37-1.37c-.4-.4-.92-.59-1.43-.59-.52 0-1.04.2-1.43.59L10.3 9.45l-7.72 7.72c-.78.78-.78 2.05 0 2.83L4 21.41c.39.39.9.59 1.41.59.51 0 1.02-.2 1.41-.59l7.78-7.78 2.81-2.81c.8-.78.8-2.07 0-2.86zM5.41 20L4 18.59l7.72-7.72 1.47 1.35L5.41 20z\"/>\n",
              "  </svg>\n",
              "      </button>\n",
              "      \n",
              "  <style>\n",
              "    .colab-df-container {\n",
              "      display:flex;\n",
              "      flex-wrap:wrap;\n",
              "      gap: 12px;\n",
              "    }\n",
              "\n",
              "    .colab-df-convert {\n",
              "      background-color: #E8F0FE;\n",
              "      border: none;\n",
              "      border-radius: 50%;\n",
              "      cursor: pointer;\n",
              "      display: none;\n",
              "      fill: #1967D2;\n",
              "      height: 32px;\n",
              "      padding: 0 0 0 0;\n",
              "      width: 32px;\n",
              "    }\n",
              "\n",
              "    .colab-df-convert:hover {\n",
              "      background-color: #E2EBFA;\n",
              "      box-shadow: 0px 1px 2px rgba(60, 64, 67, 0.3), 0px 1px 3px 1px rgba(60, 64, 67, 0.15);\n",
              "      fill: #174EA6;\n",
              "    }\n",
              "\n",
              "    [theme=dark] .colab-df-convert {\n",
              "      background-color: #3B4455;\n",
              "      fill: #D2E3FC;\n",
              "    }\n",
              "\n",
              "    [theme=dark] .colab-df-convert:hover {\n",
              "      background-color: #434B5C;\n",
              "      box-shadow: 0px 1px 3px 1px rgba(0, 0, 0, 0.15);\n",
              "      filter: drop-shadow(0px 1px 2px rgba(0, 0, 0, 0.3));\n",
              "      fill: #FFFFFF;\n",
              "    }\n",
              "  </style>\n",
              "\n",
              "      <script>\n",
              "        const buttonEl =\n",
              "          document.querySelector('#df-3004ab68-bca7-4670-8cf3-42d4577ab825 button.colab-df-convert');\n",
              "        buttonEl.style.display =\n",
              "          google.colab.kernel.accessAllowed ? 'block' : 'none';\n",
              "\n",
              "        async function convertToInteractive(key) {\n",
              "          const element = document.querySelector('#df-3004ab68-bca7-4670-8cf3-42d4577ab825');\n",
              "          const dataTable =\n",
              "            await google.colab.kernel.invokeFunction('convertToInteractive',\n",
              "                                                     [key], {});\n",
              "          if (!dataTable) return;\n",
              "\n",
              "          const docLinkHtml = 'Like what you see? Visit the ' +\n",
              "            '<a target=\"_blank\" href=https://colab.research.google.com/notebooks/data_table.ipynb>data table notebook</a>'\n",
              "            + ' to learn more about interactive tables.';\n",
              "          element.innerHTML = '';\n",
              "          dataTable['output_type'] = 'display_data';\n",
              "          await google.colab.output.renderOutput(dataTable, element);\n",
              "          const docLink = document.createElement('div');\n",
              "          docLink.innerHTML = docLinkHtml;\n",
              "          element.appendChild(docLink);\n",
              "        }\n",
              "      </script>\n",
              "    </div>\n",
              "  </div>\n",
              "  "
            ],
            "text/plain": [
              "   id    age  gender  height  weight  ...  gluc  smoke  alco  active  cardio\n",
              "0   0  18393       2     168    62.0  ...     1      0     0       1       0\n",
              "1   1  20228       1     156    85.0  ...     1      0     0       1       1\n",
              "2   2  18857       1     165    64.0  ...     1      0     0       0       1\n",
              "\n",
              "[3 rows x 13 columns]"
            ]
          },
          "metadata": {},
          "execution_count": 5
        }
      ],
      "source": [
        "df.head(3)"
      ]
    },
    {
      "cell_type": "code",
      "source": [
        "df.shape"
      ],
      "metadata": {
        "colab": {
          "base_uri": "https://localhost:8080/"
        },
        "id": "TClLdHhE8hhJ",
        "outputId": "fdd9841e-81af-4661-9c33-0afd89529aff"
      },
      "execution_count": 6,
      "outputs": [
        {
          "output_type": "execute_result",
          "data": {
            "text/plain": [
              "(70000, 13)"
            ]
          },
          "metadata": {},
          "execution_count": 6
        }
      ]
    },
    {
      "cell_type": "code",
      "source": [
        "df['cardio'].value_counts()"
      ],
      "metadata": {
        "colab": {
          "base_uri": "https://localhost:8080/"
        },
        "id": "CAB-VCxB8a99",
        "outputId": "d2eb9eac-c9fa-45d2-dfd5-6f807906d385"
      },
      "execution_count": 7,
      "outputs": [
        {
          "output_type": "execute_result",
          "data": {
            "text/plain": [
              "0    35021\n",
              "1    34979\n",
              "Name: cardio, dtype: int64"
            ]
          },
          "metadata": {},
          "execution_count": 7
        }
      ]
    },
    {
      "cell_type": "code",
      "execution_count": 8,
      "metadata": {
        "id": "1Gb2oGsZz_YC"
      },
      "outputs": [],
      "source": [
        "X=df[[\"age\",\"weight\",\"cholesterol\"]]#trdhits, chi much or chi sq vertex\n",
        "y=df['cardio']"
      ]
    },
    {
      "cell_type": "code",
      "execution_count": 9,
      "metadata": {
        "colab": {
          "base_uri": "https://localhost:8080/"
        },
        "id": "iVDmchZpzpU1",
        "outputId": "e753088b-f457-41ad-f70b-dcb1ee4129c8"
      },
      "outputs": [
        {
          "output_type": "execute_result",
          "data": {
            "text/plain": [
              "(70000, 13)"
            ]
          },
          "metadata": {},
          "execution_count": 9
        }
      ],
      "source": [
        "df.shape"
      ]
    },
    {
      "cell_type": "code",
      "execution_count": 10,
      "metadata": {
        "id": "XFUZMoK-B5IM"
      },
      "outputs": [],
      "source": [
        "X=X[0:30000]\n",
        "y=y[0:30000]\n",
        "scaling = MinMaxScaler()\n",
        "X_scaled=scaling.fit_transform(X)"
      ]
    },
    {
      "cell_type": "code",
      "execution_count": 11,
      "metadata": {
        "id": "Y2gt2VSHz_as"
      },
      "outputs": [],
      "source": [
        "X_train,X_test,y_train,y_test = train_test_split(X_scaled,y,test_size=0.40,random_state=32)"
      ]
    },
    {
      "cell_type": "code",
      "execution_count": 12,
      "metadata": {
        "colab": {
          "base_uri": "https://localhost:8080/"
        },
        "id": "XrMFTCssz_dd",
        "outputId": "0bdb2a50-b065-4ff4-ccb8-7d436aafb0d3"
      },
      "outputs": [
        {
          "output_type": "execute_result",
          "data": {
            "text/plain": [
              "(18000, 3)"
            ]
          },
          "metadata": {},
          "execution_count": 12
        }
      ],
      "source": [
        "X_train.shape"
      ]
    },
    {
      "cell_type": "code",
      "execution_count": 13,
      "metadata": {
        "colab": {
          "base_uri": "https://localhost:8080/"
        },
        "id": "MiOTeXCQB5IQ",
        "outputId": "50576e0e-2474-4094-c2f5-9a7c9b67ca9c"
      },
      "outputs": [
        {
          "output_type": "execute_result",
          "data": {
            "text/plain": [
              "0    9056\n",
              "1    8944\n",
              "Name: cardio, dtype: int64"
            ]
          },
          "metadata": {},
          "execution_count": 13
        }
      ],
      "source": [
        "y_train.value_counts()"
      ]
    },
    {
      "cell_type": "code",
      "execution_count": 14,
      "metadata": {
        "colab": {
          "base_uri": "https://localhost:8080/"
        },
        "id": "BLLC9FYN_UPR",
        "outputId": "f466660f-f676-4b46-984b-be33bc07f302"
      },
      "outputs": [
        {
          "output_type": "execute_result",
          "data": {
            "text/plain": [
              "0    6026\n",
              "1    5974\n",
              "Name: cardio, dtype: int64"
            ]
          },
          "metadata": {},
          "execution_count": 14
        }
      ],
      "source": [
        "y_test.value_counts()"
      ]
    },
    {
      "cell_type": "markdown",
      "metadata": {
        "id": "TXz5FObbz_fy"
      },
      "source": [
        "# Testing"
      ]
    },
    {
      "cell_type": "code",
      "execution_count": 15,
      "metadata": {
        "id": "aduTkXLUz_iS"
      },
      "outputs": [],
      "source": [
        "ann_object = ANN(100,0.0001,10,15)"
      ]
    },
    {
      "cell_type": "code",
      "execution_count": 16,
      "metadata": {
        "colab": {
          "base_uri": "https://localhost:8080/"
        },
        "id": "ohUUTopcz_k6",
        "outputId": "924233f0-2e76-4eff-cf85-0b87651dd619"
      },
      "outputs": [
        {
          "output_type": "stream",
          "name": "stdout",
          "text": [
            "[-2.60774563  1.09081394  1.29269733]\n",
            "[-0.97262667  0.2102116  -0.494553  ]\n",
            "[1.47566453 0.34317435]\n",
            "************************* epoch  0  **************************\n",
            "##########################################################\n",
            "w1 [-2.68605886  1.03639759  1.29269733]\n",
            "w2 [-0.92100835  0.19247428 -0.494553  ]\n",
            "w3 [-0.15428246 -1.45402678]\n",
            "b1 9.98103961013203\n",
            "b2 14.925502031937397\n",
            "7.736368132417768\n",
            "9.177379958583456\n",
            "0.5976062812495821\n",
            "current loss is :-  2.1142725721561755\n",
            "************************* epoch  1  **************************\n",
            "##########################################################\n",
            "w1 [-2.6877451   1.02951875  1.29269733]\n",
            "w2 [-0.93704913  0.12356639 -0.494553  ]\n",
            "w3 [-0.13158899 -1.48493728]\n",
            "b1 9.98232535027275\n",
            "b2 14.971075099352394\n",
            "7.7346812706540575\n",
            "9.14965075303573\n",
            "0.5924874760091537\n",
            "current loss is :-  0.6554093074020041\n",
            "************************* epoch  2  **************************\n",
            "##########################################################\n",
            "w1 [-2.68919521  1.02397686  1.29269733]\n",
            "w2 [-0.95341603  0.05710984 -0.494553  ]\n",
            "w3 [-0.11066858 -1.51421997]\n",
            "b1 9.983361565813953\n",
            "b2 15.015823592902688\n",
            "7.733238849873165\n",
            "9.121882870806733\n",
            "0.5878305684943896\n",
            "current loss is :-  0.653837947389891\n",
            "************************* epoch  3  **************************\n",
            "##########################################################\n",
            "w1 [-2.69042083  1.01957471  1.29269733]\n",
            "w2 [-0.96999512 -0.00689747 -0.494553  ]\n",
            "w3 [-0.09134009 -1.54200832]\n",
            "b1 9.984178103961407\n",
            "b2 15.059683686824762\n",
            "7.732019099949387\n",
            "9.094210062725885\n",
            "0.5835949611896588\n",
            "current loss is :-  0.6523812422629874\n",
            "************************* epoch  4  **************************\n",
            "##########################################################\n",
            "w1 [-2.69143598  1.01614377  1.29269733]\n",
            "w2 [-0.98668132 -0.06846919 -0.494553  ]\n",
            "w3 [-0.07344424 -1.56841911]\n",
            "b1 9.984802304066328\n",
            "b2 15.102611059892242\n",
            "7.731001492668611\n",
            "9.06675308223349\n",
            "0.5797429588616991\n",
            "current loss is :-  0.6510283832477051\n",
            "************************* epoch  5  **************************\n",
            "##########################################################\n",
            "w1 [-2.69225621  1.01353963  1.29269733]\n",
            "w2 [-1.00337863 -0.12762846 -0.494553  ]\n",
            "w3 [-0.05684097 -1.59355438]\n",
            "b1 9.985259138792562\n",
            "b2 15.144575390711115\n",
            "7.730166766359277\n",
            "9.039619998661227\n",
            "0.5762397130227787\n",
            "current loss is :-  0.6497705046799409\n",
            "************************* epoch  6  **************************\n",
            "##########################################################\n",
            "w1 [-2.69289787  1.01163826  1.29269733]\n",
            "w2 [-1.02000026 -0.18440628 -0.494553  ]\n",
            "w3 [-0.04140708 -1.61750335]\n",
            "b1 9.985571349848755\n",
            "b2 15.185556318973246\n",
            "7.7294969232828326\n",
            "9.012906613024768\n",
            "0.5730531244693529\n",
            "current loss is :-  0.648600220514061\n",
            "************************* epoch  7  **************************\n",
            "##########################################################\n",
            "w1 [-2.69337759  1.01033293  1.29269733]\n",
            "w2 [-1.03646849 -0.23884012 -0.494553  ]\n",
            "w3 [-0.02703405 -1.64034405]\n",
            "b1 9.985759578938296\n",
            "b2 15.225540534743345\n",
            "7.72897520711204\n",
            "8.986696954129117\n",
            "0.5701537174908644\n",
            "current loss is :-  0.647511264641764\n",
            "************************* epoch  8  **************************\n",
            "##########################################################\n",
            "w1 [-2.69371185  1.0095316   1.29269733]\n",
            "w2 [-1.05271446 -0.2909729  -0.494553  ]\n",
            "w3 [-0.01362621 -1.66214491]\n",
            "b1 9.985842494482922\n",
            "b2 15.264519725717875\n",
            "7.728586066374902\n",
            "8.961063836308236\n",
            "0.5675144965729721\n",
            "current loss is :-  0.6464982141619804\n",
            "************************* epoch  9  **************************\n",
            "##########################################################\n",
            "w1 [-2.69391671  1.00915483  1.29269733]\n",
            "w2 [-1.06867786 -0.34085205 -0.494553  ]\n",
            "w3 [-1.09907539e-03 -1.68296612e+00]\n",
            "b1 9.985836914571268\n",
            "b2 15.30248916825209\n",
            "7.728315108453772\n",
            "8.936069463124625\n",
            "0.5651107939054526\n",
            "current loss is :-  0.645556278646195\n",
            "************************* epoch  10  **************************\n",
            "##########################################################\n",
            "w1 [-2.69400758  1.00913392  1.29269733]\n",
            "w2 [-1.0843065  -0.38852878 -0.494553  ]\n",
            "w3 [ 0.01062214 -1.70286086]\n",
            "b1 9.98575792646011\n",
            "b2 15.339446793582571\n",
            "7.728149047626415\n",
            "8.91176606381685\n",
            "0.5629201138448325\n",
            "current loss is :-  0.6446811416408336\n",
            "************************* epoch  11  **************************\n",
            "##########################################################\n",
            "w1 [-2.69399904  1.00940947  1.29269733]\n",
            "w2 [-1.09955591 -0.43405744 -0.494553  ]\n",
            "w3 [ 0.02160377 -1.72187637]\n",
            "b1 9.985619002835067\n",
            "b2 15.375392597703552\n",
            "7.728075649737224\n",
            "8.888196551274085\n",
            "0.560921978704357\n",
            "current loss is :-  0.6438688432589451\n",
            "************************* epoch  12  **************************\n",
            "##########################################################\n",
            "w1 [-2.69390478  1.00993006  1.29269733]\n",
            "w2 [-1.11438884 -0.47749496 -0.494553  ]\n",
            "w3 [ 0.0319048  -1.74005494]\n",
            "b1 9.985432114916721\n",
            "b2 15.410328293247874\n",
            "7.728083675370164\n",
            "8.865395191906932\n",
            "0.5590977788355511\n",
            "current loss is :-  0.6431156948425008\n",
            "************************* epoch  13  **************************\n",
            "##########################################################\n",
            "w1 [-2.69373751  1.01065122  1.29269733]\n",
            "w2 [-1.12877473 -0.51890034 -0.494553  ]\n",
            "w3 [ 0.04157785 -1.75743464]\n",
            "b1 9.985207842390965\n",
            "b2 15.444257125712108\n",
            "7.728162822846086\n",
            "8.843388279072592\n",
            "0.5574306288886304\n",
            "current loss is :-  0.6424182184135147\n",
            "************************* epoch  14  **************************\n",
            "##########################################################\n",
            "w1 [-2.69350895  1.01153447  1.29269733]\n",
            "w2 [-1.14268923 -0.55833419 -0.494553  ]\n",
            "w3 [ 0.05067002 -1.77405013]\n",
            "b1 9.984955480050669\n",
            "b2 15.477183795533856\n",
            "7.728303671950137\n",
            "8.822194802778476\n",
            "0.5559052313435876\n",
            "current loss is :-  0.6417731050498999\n",
            "************************* epoch  15  **************************\n",
            "##########################################################\n",
            "w1 [-2.69322978  1.01254658  1.29269733]\n",
            "w2 [-1.1561137 -0.5958584 -0.494553 ]\n",
            "w3 [ 0.05922356 -1.78993318]\n",
            "b1 9.984683140965714\n",
            "b2 15.509114442733095\n",
            "7.728497628992218\n",
            "8.801827109304341\n",
            "0.5545077478379926\n",
            "current loss is :-  0.6411771874823801\n",
            "************************* epoch  16  **************************\n",
            "##########################################################\n",
            "w1 [-2.69290974  1.01365887  1.29269733]\n",
            "w2 [-1.16903465 -0.63153567 -0.494553  ]\n",
            "w3 [ 0.06727653 -1.80511317]\n",
            "b1 9.984397855955907\n",
            "b2 15.540056662823023\n",
            "7.728736873590111\n",
            "8.782291545207631\n",
            "0.5532256784327737\n",
            "current loss is :-  0.6406274231599517\n",
            "************************* epoch  17  **************************\n",
            "##########################################################\n",
            "w1 [-2.69255756  1.01484663  1.29269733]\n",
            "w2 [-1.18144325 -0.66542926 -0.494553  ]\n",
            "w3 [ 0.07486336 -1.81961758]\n",
            "b1 9.984105669111365\n",
            "b2 15.570019532065823\n",
            "7.729014307407507\n",
            "8.763589080931276\n",
            "0.5520477487092079\n",
            "current loss is :-  0.6401208848116656\n",
            "************************* epoch  18  **************************\n",
            "##########################################################\n",
            "w1 [-2.69218107  1.01608865  1.29269733]\n",
            "w2 [-1.19333488 -0.69760265 -0.494553  ]\n",
            "w3 [ 0.08201524 -1.83347227]\n",
            "b1 9.98381172910786\n",
            "b2 15.599013627393187\n",
            "7.729323504981682\n",
            "8.745715909963314\n",
            "0.5509638044417652\n",
            "current loss is :-  0.6396547561747158\n",
            "************************* epoch  19  **************************\n",
            "##########################################################\n",
            "w1 [-2.69178722  1.01736675  1.29269733]\n",
            "w2 [-1.20470864 -0.72811925 -0.494553  ]\n",
            "w3 [ 0.08876058 -1.84670176]\n",
            "b1 9.983520376078404\n",
            "b2 15.627051031840425\n",
            "7.729658666705568\n",
            "8.728664020195286\n",
            "0.5499647135130596\n",
            "current loss is :-  0.6392263310846544\n",
            "************************* epoch  20  **************************\n",
            "##########################################################\n",
            "w1 [-2.69138213  1.01866543  1.29269733]\n",
            "w2 [-1.2155669  -0.75704218 -0.494553  ]\n",
            "w3 [ 0.0951253 -1.8593295]\n",
            "b1 9.983235223831029\n",
            "b2 15.654145320490356\n",
            "7.730014573982375\n",
            "8.712421734800316\n",
            "0.5490422747053311\n",
            "current loss is :-  0.6388330145546876\n",
            "************************* epoch  21  **************************\n",
            "##########################################################\n",
            "w1 [-2.69097118  1.01997152  1.29269733]\n",
            "w2 [-1.22591489 -0.78443401 -0.494553  ]\n",
            "w3 [ 0.10113319 -1.87137802]\n",
            "b1 9.98295923725004\n",
            "b2 15.680311524950492\n",
            "7.730386546549471\n",
            "8.696974220608661\n",
            "0.5481891329988695\n",
            "current loss is :-  0.6384723248219039\n",
            "************************* epoch  22  **************************\n",
            "##########################################################\n",
            "w1 [-2.69055901  1.02127388  1.29269733]\n",
            "w2 [-1.23576032 -0.81035656 -0.494553  ]\n",
            "w3 [ 0.10680606 -1.88286908]\n",
            "b1 9.98269480475972\n",
            "b2 15.705566076550264\n",
            "7.730770401942102\n",
            "8.682303962569055\n",
            "0.5473987010210547\n",
            "current loss is :-  0.6381418956216378\n",
            "************************* epoch  23  **************************\n",
            "##########################################################\n",
            "w1 [-2.69014961  1.02256316  1.29269733]\n",
            "w2 [-1.24511298 -0.83487074 -0.494553  ]\n",
            "w3 [ 0.11216407 -1.89382377]\n",
            "b1 9.982443805791503\n",
            "b2 15.729926729901072\n",
            "7.731162417066464\n",
            "8.66839120347129\n",
            "0.5466650863095962\n",
            "current loss is :-  0.637839478178187\n",
            "************************* epoch  24  **************************\n",
            "##########################################################\n",
            "w1 [-2.6897464   1.02383159  1.29269733]\n",
            "w2 [-1.25398444 -0.85803637 -0.494553  ]\n",
            "w3 [ 0.11722582 -1.9042626 ]\n",
            "b1 9.9822076732433\n",
            "b2 15.753412469385946\n",
            "7.73155929183854\n",
            "8.655214348630762\n",
            "0.5459830240750567\n",
            "current loss is :-  0.6375629425790076\n",
            "************************* epoch  25  **************************\n",
            "##########################################################\n",
            "w1 [-2.68935223  1.02507275  1.29269733]\n",
            "w2 [-1.26238773 -0.87991202 -0.494553  ]\n",
            "w3 [ 0.12200857 -1.91420554]\n",
            "b1 9.981987450974868\n",
            "b2 15.776043401661324\n",
            "7.731958114842204\n",
            "8.642750335715721\n",
            "0.5453478151685843\n",
            "current loss is :-  0.6373102783383854\n",
            "************************* epoch  26  **************************\n",
            "##########################################################\n",
            "w1 [-2.68896948  1.0262814   1.29269733]\n",
            "w2 [-1.27033705 -0.90055495 -0.494553  ]\n",
            "w3 [ 0.12652836 -1.92367207]\n",
            "b1 9.981783846433995\n",
            "b2 15.797840637451326\n",
            "7.732356330959861\n",
            "8.630974970319869\n",
            "0.544755268977357\n",
            "current loss is :-  0.6370795940620881\n",
            "************************* epoch  27  **************************\n",
            "##########################################################\n",
            "w1 [-2.68860009  1.02745336  1.29269733]\n",
            "w2 [-1.27784751 -0.92002095 -0.494553  ]\n",
            "w3 [ 0.13080012 -1.93268121]\n",
            "b1 9.98159727854948\n",
            "b2 15.818826165904097\n",
            "7.732751710922633\n",
            "8.619863228239778\n",
            "0.5442016509840285\n",
            "current loss is :-  0.6368691162019792\n",
            "************************* epoch  28  **************************\n",
            "##########################################################\n",
            "w1 [-2.68824562  1.02858532  1.29269733]\n",
            "w2 [-1.28493492 -0.93836428 -0.494553  ]\n",
            "w3 [ 0.1348378  -1.94125154]\n",
            "b1 9.981427921065594\n",
            "b2 15.839022724601428\n",
            "7.733142322725351\n",
            "8.609389525716146\n",
            "0.5436836347365667\n",
            "current loss is :-  0.6366771869447871\n",
            "************************* epoch  29  **************************\n",
            "##########################################################\n",
            "w1 [-2.68790727  1.02967477  1.29269733]\n",
            "w2 [-1.29161558 -0.9556376  -0.494553  ]\n",
            "w3 [ 0.13865442 -1.94940117]\n",
            "b1 9.981275741525934\n",
            "b2 15.858453668041307\n",
            "7.733526504851447\n",
            "8.599527959138909\n",
            "0.543198257981774\n",
            "current loss is :-  0.6365022613162373\n",
            "************************* epoch  30  **************************\n",
            "##########################################################\n",
            "w1 [-2.68758595  1.03071985  1.29269733]\n",
            "w2 [-1.29790608 -0.97189194 -0.494553  ]\n",
            "w3 [ 0.14226222 -1.95714779]\n",
            "b1 9.981140536135818\n",
            "b2 15.877142837074116\n",
            "7.7339028412467155\n",
            "8.590252515895916\n",
            "0.5427428827213437\n",
            "current loss is :-  0.636342903603791\n",
            "************************* epoch  31  **************************\n",
            "##########################################################\n",
            "w1 [-2.68728229  1.03171931  1.29269733]\n",
            "w2 [-1.30382319 -0.98717662 -0.494553  ]\n",
            "w3 [ 0.14567263 -1.96450865]\n",
            "b1 9.981021960753202\n",
            "b2 15.89511443141221\n",
            "7.734270137981261\n",
            "8.581537258177452\n",
            "0.5423151589529005\n",
            "current loss is :-  0.6361977832131817\n",
            "************************* epoch  32  **************************\n",
            "##########################################################\n",
            "w1 [-2.68699672  1.03267236  1.29269733]\n",
            "w2 [-1.30938365 -1.00153925 -0.494553  ]\n",
            "w3 [ 0.14889645 -1.97150052]\n",
            "b1 9.980919558269324\n",
            "b2 15.912392886962065\n",
            "7.734627401536738\n",
            "8.573356481631198\n",
            "0.5419129918621418\n",
            "current loss is :-  0.6360656700764328\n",
            "************************* epoch  33  **************************\n",
            "##########################################################\n",
            "w1 [-2.68672943  1.03357866  1.29269733]\n",
            "w2 [-1.31460412 -1.01502572 -0.494553  ]\n",
            "w3 [ 0.1519438  -1.97813974]\n",
            "b1 9.980832782644224\n",
            "b2 15.929002759371507\n",
            "7.7349738186508485\n",
            "8.565684850800553\n",
            "0.5415345122352935\n",
            "current loss is :-  0.6359454297263462\n",
            "************************* epoch  34  **************************\n",
            "##########################################################\n",
            "w1 [-2.68648048  1.0344382   1.29269733]\n",
            "w2 [-1.31950104 -1.02768018 -0.494553  ]\n",
            "w3 [ 0.15482423 -1.98444219]\n",
            "b1 9.980761019867636\n",
            "b2 15.944968614850799\n",
            "7.735308737654803\n",
            "8.558497513287545\n",
            "0.5411780498656945\n",
            "current loss is :-  0.6358360181448642\n",
            "************************* epoch  35  **************************\n",
            "##########################################################\n",
            "w1 [-2.68624976  1.03525131  1.29269733]\n",
            "w2 [-1.32409056 -1.03954507 -0.494553  ]\n",
            "w3 [ 0.15754673 -1.99042324]\n",
            "b1 9.980703606108177\n",
            "b2 15.960314929025524\n",
            "7.735631651232725\n",
            "8.551770194550743\n",
            "0.5408421097323085\n",
            "current loss is :-  0.635736476482925\n",
            "************************* epoch  36  **************************\n",
            "##########################################################\n",
            "w1 [-2.68603706  1.03601853  1.29269733]\n",
            "w2 [-1.32838847 -1.05066111 -0.494553  ]\n",
            "w3 [ 0.16011981 -1.99609784]\n",
            "b1 9.980659843310757\n",
            "b2 15.975065994306044\n",
            "7.735942180534818\n",
            "8.545479275200355\n",
            "0.5405253507346163\n",
            "current loss is :-  0.6356459257379204\n",
            "************************* epoch  37  **************************\n",
            "##########################################################\n",
            "w1 [-2.68584204  1.03674065  1.29269733]\n",
            "w2 [-1.33241013 -1.06106732 -0.494553  ]\n",
            "w3 [ 0.16255148 -2.0014804 ]\n",
            "b1 9.980629012489453\n",
            "b2 15.989245836030458\n",
            "7.736240060573516\n",
            "8.539601852578524\n",
            "0.5402265667746334\n",
            "current loss is :-  0.6355635614625837\n",
            "************************* epoch  38  **************************\n",
            "##########################################################\n",
            "w1 [-2.68566432  1.0374186   1.29269733]\n",
            "w2 [-1.33617044 -1.07080107 -0.494553  ]\n",
            "w3 [ 0.16484934 -2.00658489]\n",
            "b1 9.980610384954629\n",
            "b2 16.002878137440817\n",
            "7.73652512683382\n",
            "8.534115788328858\n",
            "0.5399446699848661\n",
            "current loss is :-  0.6354886485672139\n",
            "************************* epoch  39  **************************\n",
            "##########################################################\n",
            "w1 [-2.68550342  1.03805346  1.29269733]\n",
            "w2 [-1.33968379 -1.07989809 -0.494553  ]\n",
            "w3 [ 0.16702055 -2.01142476]\n",
            "b1 9.980603231696497\n",
            "b2 16.015986173385613\n",
            "7.736797303027158\n",
            "8.528999743558177\n",
            "0.5396786759101019\n",
            "current loss is :-  0.6354205162656157\n",
            "************************* epoch  40  **************************\n",
            "##########################################################\n",
            "w1 [-2.68535882  1.03864642  1.29269733]\n",
            "w2 [-1.34296404 -1.0883925  -0.494553  ]\n",
            "w3 [ 0.1690719  -2.01601301]\n",
            "b1 9.98060683113481\n",
            "b2 16.028592752517532\n",
            "7.737056589920506\n",
            "8.524233203090779\n",
            "0.5394276904600563\n",
            "current loss is :-  0.635358553204063\n",
            "************************* epoch  41  **************************\n",
            "##########################################################\n",
            "w1 [-2.68522997  1.03919876  1.29269733]\n",
            "w2 [-1.34602451 -1.0963169  -0.494553  ]\n",
            "w3 [ 0.17100983 -2.02036213]\n",
            "b1 9.98062047542989\n",
            "b2 16.040720167646185\n",
            "7.737303055174555\n",
            "8.519796490206257\n",
            "0.5391908984606367\n",
            "current loss is :-  0.6353022028034884\n",
            "************************* epoch  42  **************************\n",
            "##########################################################\n",
            "w1 [-2.68511628  1.03971182  1.29269733]\n",
            "w2 [-1.34887796 -1.10370233 -0.494553  ]\n",
            "w3 [ 0.17284041 -2.02448413]\n",
            "b1 9.980643475531744\n",
            "b2 16.052390153832476\n",
            "7.737536824122692\n",
            "8.51567077313857\n",
            "0.5389675536418267\n",
            "current loss is :-  0.6352509588358448\n",
            "************************* epoch  43  **************************\n",
            "##########################################################\n",
            "w1 [-2.68501715  1.04018697  1.29269733]\n",
            "w2 [-1.35153659 -1.11057838 -0.494553  ]\n",
            "w3 [ 0.17456941 -2.02839055]\n",
            "b1 9.980675165131952\n",
            "b2 16.063623853755516\n",
            "7.73775807142839\n",
            "8.511838064506776\n",
            "0.5387569699116312\n",
            "current loss is :-  0.6352043612486599\n",
            "************************* epoch  44  **************************\n",
            "##########################################################\n",
            "w1 [-2.68493196  1.04062563  1.29269733]\n",
            "w2 [-1.35401204 -1.11697323 -0.494553  ]\n",
            "w3 [ 0.1762023  -2.03209246]\n",
            "b1 9.980714903666966\n",
            "b2 16.074441789846894\n",
            "7.737967013558692\n",
            "8.508281214739895\n",
            "0.5385585137758372\n",
            "current loss is :-  0.6351619922452981\n",
            "************************* epoch  45  **************************\n",
            "##########################################################\n",
            "w1 [-2.68486008  1.04102921  1.29269733]\n",
            "w2 [-1.35631536 -1.12291366 -0.494553  ]\n",
            "w3 [ 0.17774425 -2.03560047]\n",
            "b1 9.980762078506096\n",
            "b2 16.084863842668355\n",
            "7.7381639020138895\n",
            "8.504983900453112\n",
            "0.538371597775164\n",
            "current loss is :-  0.6351234726230293\n",
            "************************* epoch  46  **************************\n",
            "##########################################################\n",
            "w1 [-2.68480092  1.04139916  1.29269733]\n",
            "w2 [-1.35845709 -1.12842514 -0.494553  ]\n",
            "w3 [ 0.17920017 -2.03892473]\n",
            "b1 9.980816106445346\n",
            "b2 16.094909234994056\n",
            "7.738349017256278\n",
            "8.501930608635615\n",
            "0.5381956748212208\n",
            "current loss is :-  0.635088458367082\n",
            "************************* epoch  47  **************************\n",
            "##########################################################\n",
            "w1 [-2.68475384  1.04173689  1.29269733]\n",
            "w2 [-1.36044721 -1.13353185 -0.494553  ]\n",
            "w3 [ 0.18057472 -2.04207494]\n",
            "b1 9.980876434614078\n",
            "b2 16.104596521077976\n",
            "7.738522663283755\n",
            "8.499106617416139\n",
            "0.5380302333238925\n",
            "current loss is :-  0.6350566374950792\n",
            "************************* epoch  48  **************************\n",
            "##########################################################\n",
            "w1 [-2.68471824  1.04204381  1.29269733]\n",
            "w2 [-1.36229517 -1.13825674 -0.494553  ]\n",
            "w3 [ 0.1818723  -2.04506038]\n",
            "b1 9.980942540889503\n",
            "b2 16.113943580580674\n",
            "7.738685162795697\n",
            "8.496497974084619\n",
            "0.5378747930121804\n",
            "current loss is :-  0.6350277271438263\n",
            "************************* epoch  49  **************************\n",
            "##########################################################\n",
            "w1 [-2.68469354  1.04232131  1.29269733]\n",
            "w2 [-1.36400991 -1.14262159 -0.494553  ]\n",
            "w3 [ 0.1830971 -2.0478899]\n",
            "b1 9.981013933903176\n",
            "b2 16.122967616662716\n",
            "7.73883685290211\n",
            "8.494091470968737\n",
            "0.5377289013605471\n",
            "current loss is :-  0.6350014708884552\n",
            "************************* epoch  50  **************************\n",
            "##########################################################\n",
            "w1 [-2.68467917  1.04257074  1.29269733]\n",
            "w2 [-1.36559989 -1.14664704 -0.494553  ]\n",
            "w3 [ 0.18425308 -2.05057194]\n",
            "b1 9.981090152714545\n",
            "b2 16.13168515776342\n",
            "7.738978081330979\n",
            "8.491874619689904\n",
            "0.5375921305412844\n",
            "current loss is :-  0.6349776362823628\n",
            "************************* epoch  51  **************************\n",
            "##########################################################\n",
            "w1 [-2.68467456  1.04279343  1.29269733]\n",
            "w2 [-1.36707306 -1.15035266 -0.494553  ]\n",
            "w3 [ 0.185344   -2.05311456]\n",
            "b1 9.981170766213582\n",
            "b2 16.140112062620613\n",
            "7.739109203088379\n",
            "8.489835624252397\n",
            "0.5374640748322207\n",
            "current loss is :-  0.6349560126056871\n",
            "************************* epoch  52  **************************\n",
            "##########################################################\n",
            "w1 [-2.68467917  1.04299067  1.29269733]\n",
            "w2 [-1.36843694 -1.15375695 -0.494553  ]\n",
            "w3 [ 0.18637343 -2.05552539]\n",
            "b1 9.981255372310553\n",
            "b2 16.14826352810836\n",
            "7.739230577531952\n",
            "8.4879633533613\n",
            "0.5373443484167807\n",
            "current loss is :-  0.6349364088094342\n",
            "************************* epoch  53  **************************\n",
            "##########################################################\n",
            "w1 [-2.6846925   1.04316372  1.29269733]\n",
            "w2 [-1.36969861 -1.15687747 -0.494553  ]\n",
            "w3 [ 0.18734474 -2.05781173]\n",
            "b1 9.981343596959286\n",
            "b2 16.156154099501716\n",
            "7.739342565818631\n",
            "8.486247312305244\n",
            "0.5372325835205349\n",
            "current loss is :-  0.6349186516420667\n",
            "************************* epoch  54  **************************\n",
            "##########################################################\n",
            "w1 [-2.68471403  1.0433138   1.29269733]\n",
            "w2 [-1.3708647  -1.15973078 -0.494553  ]\n",
            "w3 [ 0.18826114 -2.05998051]\n",
            "b1 9.98143509305706\n",
            "b2 16.163797682807967\n",
            "7.739445528692441\n",
            "8.484677614693357\n",
            "0.5371284288349051\n",
            "current loss is :-  0.6349025839457435\n",
            "************************* epoch  55  **************************\n",
            "##########################################################\n",
            "w1 [-2.6847433   1.04344206  1.29269733]\n",
            "w2 [-1.37194148 -1.16233259 -0.494553  ]\n",
            "w3 [ 0.18912565 -2.06203829]\n",
            "b1 9.981529539253701\n",
            "b2 16.17120755883642\n",
            "7.739539824577299\n",
            "8.483244954286405\n",
            "0.5370315481851529\n",
            "current loss is :-  0.6348880631092594\n",
            "************************* epoch  56  **************************\n",
            "##########################################################\n",
            "w1 [-2.68477985  1.04354965  1.29269733]\n",
            "w2 [-1.37293481 -1.1646977  -0.494553  ]\n",
            "w3 [ 0.18994116 -2.06399134]\n",
            "b1 9.981626638703318\n",
            "b2 16.178396398702485\n",
            "7.7396258079478635\n",
            "8.481940577128192\n",
            "0.53694161940437\n",
            "current loss is :-  0.6348749596654841\n",
            "************************* epoch  57  **************************\n",
            "##########################################################\n",
            "w1 [-2.68482324  1.04363764  1.29269733]\n",
            "w2 [-1.3738502  -1.16684014 -0.494553  ]\n",
            "w3 [ 0.19071038 -2.06584557]\n",
            "b1 9.981726117778772\n",
            "b2 16.185376280496968\n",
            "7.739703827945628\n",
            "8.480756254139866\n",
            "0.5368583333813393\n",
            "current loss is :-  0.6348631560214453\n",
            "************************* epoch  58  **************************\n",
            "##########################################################\n",
            "w1 [-2.68487307  1.04370708  1.29269733]\n",
            "w2 [-1.37469281 -1.16877313 -0.494553  ]\n",
            "w3 [ 0.1914359  -2.06760661]\n",
            "b1 9.981827724774176\n",
            "b2 16.192158706873105\n",
            "7.739774227218941\n",
            "8.479684254317583\n",
            "0.5367813932531575\n",
            "current loss is :-  0.6348525453097991\n",
            "************************* epoch  59  **************************\n",
            "##########################################################\n",
            "w1 [-2.68492894  1.04375897  1.29269733]\n",
            "w2 [-1.37546748 -1.17050917 -0.494553  ]\n",
            "w3 [ 0.19212016 -2.06927978]\n",
            "b1 9.981931228609431\n",
            "b2 16.19875462333403\n",
            "7.7398373409604515\n",
            "8.47871731863924\n",
            "0.5367105137186816\n",
            "current loss is :-  0.6348430303512411\n",
            "************************* epoch  60  **************************\n",
            "##########################################################\n",
            "w1 [-2.68499048  1.04379426  1.29269733]\n",
            "w2 [-1.37617874 -1.17206004 -0.494553  ]\n",
            "w3 [ 0.19276547 -2.07087013]\n",
            "b1 9.982036417550773\n",
            "b2 16.205174437024862\n",
            "7.739893496120155\n",
            "8.477848634765703\n",
            "0.5366454204515058\n",
            "current loss is :-  0.6348345227178203\n",
            "************************* epoch  61  **************************\n",
            "##########################################################\n",
            "w1 [-2.68505734  1.04381387  1.29269733]\n",
            "w2 [-1.37683083 -1.17343688 -0.494553  ]\n",
            "w3 [ 0.19337402 -2.07238242]\n",
            "b1 9.982143097960371\n",
            "b2 16.211428035856688\n",
            "7.739943010776118\n",
            "8.477071812602588\n",
            "0.5365858495946195\n",
            "current loss is :-  0.634826941888095\n",
            "************************* epoch  62  **************************\n",
            "##########################################################\n",
            "w1 [-2.68512918  1.04381866  1.29269733]\n",
            "w2 [-1.37742771 -1.17465016 -0.494553  ]\n",
            "w3 [ 0.19394789 -2.07382119]\n",
            "b1 9.982251093081443\n",
            "b2 16.217524807810108\n",
            "7.739986193643264\n",
            "8.476380860767255\n",
            "0.5365315473217028\n",
            "current loss is :-  0.6348202144855134\n",
            "************************* epoch  63  **************************\n",
            "##########################################################\n",
            "w1 [-2.6852057   1.04380947  1.29269733]\n",
            "w2 [-1.37797311 -1.17570979 -0.494553  ]\n",
            "w3 [ 0.19448903 -2.07519071]\n",
            "b1 9.982360241865958\n",
            "b2 16.223473660288068\n",
            "7.740023343703274\n",
            "8.475770163992982\n",
            "0.5364822694521901\n",
            "current loss is :-  0.634814273592169\n",
            "************************* epoch  64  **************************\n",
            "##########################################################\n",
            "w1 [-2.6852866   1.0437871   1.29269733]\n",
            "w2 [-1.37847048 -1.17662508 -0.494553  ]\n",
            "w3 [ 0.1949993  -2.07649502]\n",
            "b1 9.982470397851234\n",
            "b2 16.229283039399714\n",
            "7.7400547499429235\n",
            "8.475234461490063\n",
            "0.5364377811092544\n",
            "current loss is :-  0.6348090581307673\n",
            "************************* epoch  65  **************************\n",
            "##########################################################\n",
            "w1 [-2.68537159  1.04375228  1.29269733]\n",
            "w2 [-1.37892307 -1.17740484 -0.494553  ]\n",
            "w3 [ 0.19548045 -2.07773793]\n",
            "b1 9.982581428086293\n",
            "b2 16.234960949080097\n",
            "7.740080691184357\n",
            "8.474768826268996\n",
            "0.5363978564120538\n",
            "current loss is :-  0.6348045123080845\n",
            "************************* epoch  66  **************************\n",
            "##########################################################\n",
            "w1 [-2.68546042  1.04370574  1.29269733]\n",
            "w2 [-1.37933389 -1.17805734 -0.494553  ]\n",
            "w3 [ 0.19593415 -2.07892306]\n",
            "b1 9.982693212112839\n",
            "b2 16.240514969958138\n",
            "7.7401014359979365\n",
            "8.474368645427097\n",
            "0.5363622781947116\n",
            "current loss is :-  0.6348005851140001\n",
            "************************* epoch  67  **************************\n",
            "##########################################################\n",
            "w1 [-2.68555284  1.04364815  1.29269733]\n",
            "w2 [-1.37970579 -1.17859037 -0.494553  ]\n",
            "w3 [ 0.19636195 -2.08005381]\n",
            "b1 9.98280564099975\n",
            "b2 16.24595227790343\n",
            "7.740117242684359\n",
            "8.47402960138686\n",
            "0.5363308377460331\n",
            "current loss is :-  0.634797229870497\n",
            "************************* epoch  68  **************************\n",
            "##########################################################\n",
            "w1 [-2.68564861  1.04358017  1.29269733]\n",
            "w2 [-1.38004138 -1.17901129 -0.494553  ]\n",
            "w3 [ 0.19676536 -2.08113339]\n",
            "b1 9.982918616433004\n",
            "b2 16.251279662190324\n",
            "7.740128359317949\n",
            "8.473747654072524\n",
            "0.5363033345650378\n",
            "current loss is :-  0.6347944038257032\n",
            "************************* epoch  69  **************************\n",
            "##########################################################\n",
            "w1 [-2.68574753  1.04350239  1.29269733]\n",
            "w2 [-1.38034314 -1.17932701 -0.494553  ]\n",
            "w3 [ 0.19714575 -2.08216485]\n",
            "b1 9.983032049860222\n",
            "b2 16.256503543233677\n",
            "7.740135023841481\n",
            "8.47351902400416\n",
            "0.5362795761285691\n",
            "current loss is :-  0.6347920677883747\n",
            "************************* epoch  70  **************************\n",
            "##########################################################\n",
            "w1 [-2.68584937  1.04341541  1.29269733]\n",
            "w2 [-1.38061336 -1.17954402 -0.494553  ]\n",
            "w3 [ 0.19750447 -2.08315105]\n",
            "b1 9.983145861688051\n",
            "b2 16.261629989854224\n",
            "7.740137464203999\n",
            "8.47334017628385\n",
            "0.5362593776677389\n",
            "current loss is :-  0.6347901857988855\n",
            "************************* epoch  71  **************************\n",
            "##########################################################\n",
            "w1 [-2.68595397  1.04331976  1.29269733]\n",
            "w2 [-1.38085418 -1.17966847 -0.494553  ]\n",
            "w3 [ 0.19784275 -2.08409468]\n",
            "b1 9.983259980533038\n",
            "b2 16.266664736039743\n",
            "7.740135898536491\n",
            "8.473207805448961\n",
            "0.536242561950727\n",
            "current loss is :-  0.6347887248327427\n",
            "************************* epoch  72  **************************\n",
            "##########################################################\n",
            "w1 [-2.68606112  1.04321597  1.29269733]\n",
            "w2 [-1.38106759 -1.17970611 -0.494553  ]\n",
            "w3 [ 0.19816178 -2.08499829]\n",
            "b1 9.983374342521657\n",
            "b2 16.271613197185797\n",
            "7.740130535356614\n",
            "8.473118821159689\n",
            "0.5362289590704805\n",
            "current loss is :-  0.6347876545336072\n",
            "************************* epoch  73  **************************\n",
            "##########################################################\n",
            "w1 [-2.68617067  1.04310452  1.29269733]\n",
            "w2 [-1.38125546 -1.17966236 -0.494553  ]\n",
            "w3 [ 0.19846267 -2.08586427]\n",
            "b1 9.9834888906408\n",
            "b2 16.276480485788884\n",
            "7.74012157379975\n",
            "8.473070334693148\n",
            "0.5362184062353798\n",
            "current loss is :-  0.6347869469725854\n",
            "************************* epoch  74  **************************\n",
            "##########################################################\n",
            "w1 [-2.68628246  1.04298588  1.29269733]\n",
            "w2 [-1.38141953 -1.17954232 -0.494553  ]\n",
            "w3 [ 0.19874648 -2.08669489]\n",
            "b1 9.983603574133243\n",
            "b2 16.2812714265897\n",
            "7.74010920386865\n",
            "8.47305964620783\n",
            "0.5362107475626332\n",
            "current loss is :-  0.6347865764311951\n",
            "************************* epoch  75  **************************\n",
            "##########################################################\n",
            "w1 [-2.68639633  1.04286049  1.29269733]\n",
            "w2 [-1.38156141 -1.17935079 -0.494553  ]\n",
            "w3 [ 0.19901419 -2.08749227]\n",
            "b1 9.983718347938888\n",
            "b2 16.285990571152443\n",
            "7.7400936066997446\n",
            "8.47308423274851\n",
            "0.5362058338730675\n",
            "current loss is :-  0.6347865192055606\n",
            "************************* epoch  76  **************************\n",
            "##########################################################\n",
            "w1 [-2.68651216  1.04272876  1.29269733]\n",
            "w2 [-1.3816826  -1.17909228 -0.494553  ]\n",
            "w3 [ 0.19926674 -2.08825843]\n",
            "b1 9.983833172177174\n",
            "b2 16.290642211879565\n",
            "7.740074954840686\n",
            "8.473141736955892\n",
            "0.5362035224873586\n",
            "current loss is :-  0.6347867534296089\n",
            "************************* epoch  77  **************************\n",
            "##########################################################\n",
            "w1 [-2.68662981  1.04259109  1.29269733]\n",
            "w2 [-1.38178451 -1.17877101 -0.494553  ]\n",
            "w3 [ 0.19950502 -2.08899524]\n",
            "b1 9.983948011669856\n",
            "b2 16.295230395467335\n",
            "7.740053412536592\n",
            "8.473229956449062\n",
            "0.5362036770235001\n",
            "current loss is :-  0.6347872589153978\n",
            "************************* epoch  78  **************************\n",
            "##########################################################\n",
            "w1 [-2.68674916  1.04244783  1.29269733]\n",
            "w2 [-1.38186846 -1.17839098 -0.494553  ]\n",
            "w3 [ 0.19972986 -2.08970448]\n",
            "b1 9.984062835501424\n",
            "b2 16.299758935799073\n",
            "7.740029136022127\n",
            "8.473346833847673\n",
            "0.5362061671951531\n",
            "current loss is :-  0.6347880170087619\n",
            "************************* epoch  79  **************************\n",
            "##########################################################\n",
            "w1 [-2.6868701   1.04229934  1.29269733]\n",
            "w2 [-1.38193566 -1.17795593 -0.494553  ]\n",
            "w3 [ 0.19994204 -2.09038782]\n",
            "b1 9.984177616614275\n",
            "b2 16.304231426288908\n",
            "7.7400022738164544\n",
            "8.473490447400595\n",
            "0.5362108686114132\n",
            "current loss is :-  0.634789010458706\n",
            "************************* epoch  80  **************************\n",
            "##########################################################\n",
            "w1 [-2.68699252  1.04214594  1.29269733]\n",
            "w2 [-1.38198724 -1.17746938 -0.494553  ]\n",
            "w3 [ 0.2001423  -2.09104684]\n",
            "b1 9.984292331437423\n",
            "b2 16.30865125168414\n",
            "7.739972967019435\n",
            "8.473659002190514\n",
            "0.5362176625777986\n",
            "current loss is :-  0.634790223299152\n",
            "************************* epoch  81  **************************\n",
            "##########################################################\n",
            "w1 [-2.68711633  1.04198795  1.29269733]\n",
            "w2 [-1.38202426 -1.17693463 -0.494553  ]\n",
            "w3 [ 0.20033134 -2.09168301]\n",
            "b1 9.984406959545783\n",
            "b2 16.313021599331865\n",
            "7.739941349606799\n",
            "8.473850821882934\n",
            "0.5362264358989334\n",
            "current loss is :-  0.6347916407418174\n",
            "************************* epoch  82  **************************\n",
            "##########################################################\n",
            "w1 [-2.68724143  1.04182565  1.29269733]\n",
            "w2 [-1.38204771 -1.17635479 -0.494553  ]\n",
            "w3 [ 0.20050982 -2.09229773]\n",
            "b1 9.984521483347867\n",
            "b2 16.317345469933205\n",
            "7.7399075487225835\n",
            "8.47406434098979\n",
            "0.5362370806831247\n",
            "current loss is :-  0.6347932490790343\n",
            "************************* epoch  83  **************************\n",
            "##########################################################\n",
            "w1 [-2.68736774  1.04165932  1.29269733]\n",
            "w2 [-1.3820585  -1.17573278 -0.494553  ]\n",
            "w3 [ 0.20067836 -2.0928923 ]\n",
            "b1 9.98463588780057\n",
            "b2 16.321625687786604\n",
            "7.739871684968085\n",
            "8.474298097619325\n",
            "0.5362494941490755\n",
            "current loss is :-  0.634795035595502\n",
            "************************* epoch  84  **************************\n",
            "##########################################################\n",
            "w1 [-2.68749517  1.04148921  1.29269733]\n",
            "w2 [-1.3820575  -1.17507133 -0.494553  ]\n",
            "w3 [ 0.20083754 -2.09346796]\n",
            "b1 9.984750160148986\n",
            "b2 16.325864910544578\n",
            "7.739833872686308\n",
            "8.474550726684821\n",
            "0.53626357843516\n",
            "current loss is :-  0.6347969884881798\n",
            "************************* epoch  85  **************************\n",
            "##########################################################\n",
            "w1 [-2.68762365  1.04131557  1.29269733]\n",
            "w2 [-1.38204549 -1.17437302 -0.494553  ]\n",
            "w3 [ 0.2009879  -2.09402585]\n",
            "b1 9.984864289688224\n",
            "b2 16.330065638492766\n",
            "7.7397942202394505\n",
            "8.474820953544246\n",
            "0.5362792404115059\n",
            "current loss is :-  0.6347990967933507\n",
            "************************* epoch  86  **************************\n",
            "##########################################################\n",
            "w1 [-2.68775312  1.04113863  1.29269733]\n",
            "w2 [-1.38202322 -1.17364027 -0.494553  ]\n",
            "w3 [ 0.20112997 -2.09456707]\n",
            "b1 9.984978267548012\n",
            "b2 16.334230223372085\n",
            "7.739752830281409\n",
            "8.475107588048012\n",
            "0.5362963914951178\n",
            "current loss is :-  0.6348013503202806\n",
            "************************* epoch  87  **************************\n",
            "##########################################################\n",
            "w1 [-2.6878835   1.0409586   1.29269733]\n",
            "w2 [-1.38199138 -1.17287534 -0.494553  ]\n",
            "w3 [ 0.20126423 -2.09509263]\n",
            "b1 9.985092086495111\n",
            "b2 16.338360876757747\n",
            "7.739709800021637\n",
            "8.47540951896745\n",
            "0.5363149474685218\n",
            "current loss is :-  0.6348037395907108\n",
            "************************* epoch  88  **************************\n",
            "##########################################################\n",
            "w1 [-2.68801474  1.04077569  1.29269733]\n",
            "w2 [-1.38195061 -1.17208037 -0.494553  ]\n",
            "w3 [ 0.20139115 -2.0956035 ]\n",
            "b1 9.985205740754763\n",
            "b2 16.34245967801061\n",
            "7.739665221481722\n",
            "8.475725708783731\n",
            "0.5363348283019643\n",
            "current loss is :-  0.6348062557836933\n",
            "************************* epoch  89  **************************\n",
            "##########################################################\n",
            "w1 [-2.68814678  1.04059008  1.29269733]\n",
            "w2 [-1.3819015  -1.17125735 -0.494553  ]\n",
            "w3 [ 0.20151114 -2.09610057]\n",
            "b1 9.985319225848913\n",
            "b2 16.34652858182175\n",
            "7.739619181744686\n",
            "8.476055188814506\n",
            "0.5363559579795101\n",
            "current loss is :-  0.6348088906852235\n",
            "************************* epoch  90  **************************\n",
            "##########################################################\n",
            "w1 [-2.68827956  1.04040196  1.29269733]\n",
            "w2 [-1.38184463 -1.17040817 -0.494553  ]\n",
            "w3 [ 0.20162462 -2.09658469]\n",
            "b1 9.98543253844869\n",
            "b2 16.350569425360263\n",
            "7.739571763194734\n",
            "8.47639705465636\n",
            "0.5363782643293589\n",
            "current loss is :-  0.6348116366421392\n",
            "************************* epoch  91  **************************\n",
            "##########################################################\n",
            "w1 [-2.68841304  1.04021148  1.29269733]\n",
            "w2 [-1.3817805  -1.16953459 -0.494553  ]\n",
            "w3 [ 0.20173197 -2.09705666]\n",
            "b1 9.985545676242305\n",
            "b2 16.354583935048606\n",
            "7.739523043750023\n",
            "8.47675046192594\n",
            "0.536401678858255\n",
            "current loss is :-  0.6348144865200398\n",
            "************************* epoch  92  **************************\n",
            "##########################################################\n",
            "w1 [-2.68854717  1.04001882  1.29269733]\n",
            "w2 [-1.3817096  -1.16863826 -0.494553  ]\n",
            "w3 [ 0.20183354 -2.09751721]\n",
            "b1 9.985658637814213\n",
            "b2 16.358573732974627\n",
            "7.739473097085259\n",
            "8.477114622278183\n",
            "0.5364261365905021\n",
            "current loss is :-  0.634817433664622\n",
            "************************* epoch  93  **************************\n",
            "##########################################################\n",
            "w1 [-2.68868191  1.03982411  1.29269733]\n",
            "w2 [-1.38163238 -1.16772074 -0.494553  ]\n",
            "w3 [ 0.20192968 -2.09796706]\n",
            "b1 9.98577142253703\n",
            "b2 16.3625403429606\n",
            "7.739421992846843\n",
            "8.477488799686743\n",
            "0.5364515759115119\n",
            "current loss is :-  0.634820471866341\n",
            "************************* epoch  94  **************************\n",
            "##########################################################\n",
            "w1 [-2.68881721  1.03962751  1.29269733]\n",
            "w2 [-1.38154926 -1.16678348 -0.494553  ]\n",
            "w3 [ 0.2020207  -2.09840686]\n",
            "b1 9.985884030474509\n",
            "b2 16.366485196301902\n",
            "7.7393697968597115\n",
            "8.477872306969237\n",
            "0.5364779384158268\n",
            "current loss is :-  0.6348235953278708\n",
            "************************* epoch  95  **************************\n",
            "##########################################################\n",
            "w1 [-2.68895305  1.03942913  1.29269733]\n",
            "w2 [-1.38146063 -1.16582785 -0.494553  ]\n",
            "w3 [ 0.20210689 -2.09883722]\n",
            "b1 9.985996462292904\n",
            "b2 16.370409637195735\n",
            "7.739316571324365\n",
            "8.478264502540217\n",
            "0.5365051687603167\n",
            "current loss is :-  0.6348267986343148\n",
            "************************* epoch  96  **************************\n",
            "##########################################################\n",
            "w1 [-2.68908938  1.03922911  1.29269733]\n",
            "w2 [-1.38136685 -1.16485514 -0.494553  ]\n",
            "w3 [ 0.20218855 -2.09925873]\n",
            "b1 9.986108719181978\n",
            "b2 16.374314927865864\n",
            "7.739262375006049\n",
            "8.478664787379126\n",
            "0.536533214521683\n",
            "current loss is :-  0.6348300767257073\n",
            "************************* epoch  97  **************************\n",
            "##########################################################\n",
            "w1 [-2.68922617  1.03902755  1.29269733]\n",
            "w2 [-1.38126827 -1.16386655 -0.494553  ]\n",
            "w3 [ 0.20226593 -2.09967192]\n",
            "b1 9.986220802785013\n",
            "b2 16.378202253406794\n",
            "7.739207263416803\n",
            "8.479072602199636\n",
            "0.5365620260591041\n",
            "current loss is :-  0.6348334248717854\n",
            "************************* epoch  98  **************************\n",
            "##########################################################\n",
            "w1 [-2.6893634   1.03882457  1.29269733]\n",
            "w2 [-1.38116519 -1.16286321 -0.494553  ]\n",
            "w3 [ 0.20233928 -2.10007732]\n",
            "b1 9.9863327151344\n",
            "b2 16.38207272635689\n",
            "7.7391512889874035\n",
            "8.479487424804859\n",
            "0.536591556381616\n",
            "current loss is :-  0.634836838648678\n",
            "************************* epoch  99  **************************\n",
            "##########################################################\n",
            "w1 [-2.68950102  1.03862028  1.29269733]\n",
            "w2 [-1.38105792 -1.16184619 -0.494553  ]\n",
            "w3 [ 0.20240883 -2.10047539]\n",
            "b1 9.986444458595702\n",
            "b2 16.38592739101325\n",
            "7.739094501233392\n",
            "8.479908767619602\n",
            "0.5366217610202015\n",
            "current loss is :-  0.6348403139174615\n"
          ]
        }
      ],
      "source": [
        "ann_object.fit(X_train,y_train)"
      ]
    },
    {
      "cell_type": "code",
      "execution_count": 17,
      "metadata": {
        "colab": {
          "base_uri": "https://localhost:8080/",
          "height": 279
        },
        "id": "nz_XYi9wB5IW",
        "outputId": "98959f0b-e939-4a9e-ee27-8a24dd3fecc0"
      },
      "outputs": [
        {
          "output_type": "display_data",
          "data": {
            "image/png": "[encoded data removed]",
            "text/plain": [
              "<Figure size 432x288 with 1 Axes>"
            ]
          },
          "metadata": {
            "needs_background": "light"
          }
        }
      ],
      "source": [
        "ann_object.train_loss_plot()"
      ]
    },
    {
      "cell_type": "code",
      "execution_count": 18,
      "metadata": {
        "id": "WLD_wYvVB5IW"
      },
      "outputs": [],
      "source": [
        "predictions=[]\n",
        "predictions_sigmoid = ann_object.predict(X_test)\n",
        "for i in predictions_sigmoid:\n",
        "  if i>0.5:\n",
        "    predictions.append(1)\n",
        "  else:\n",
        "    predictions.append(0)"
      ]
    },
    {
      "cell_type": "code",
      "execution_count": 19,
      "metadata": {
        "colab": {
          "base_uri": "https://localhost:8080/",
          "height": 435
        },
        "id": "9rBAnj5MB5IX",
        "outputId": "fe3b5653-79d5-4049-a525-5e775dda5f77"
      },
      "outputs": [
        {
          "output_type": "stream",
          "name": "stdout",
          "text": [
            "              precision    recall  f1-score   support\n",
            "\n",
            "           0       0.63      0.66      0.65      6026\n",
            "           1       0.64      0.61      0.63      5974\n",
            "\n",
            "    accuracy                           0.64     12000\n",
            "   macro avg       0.64      0.64      0.64     12000\n",
            "weighted avg       0.64      0.64      0.64     12000\n",
            "\n"
          ]
        },
        {
          "output_type": "display_data",
          "data": {
            "image/png": "[encoded data removed]",
            "text/plain": [
              "<Figure size 432x288 with 2 Axes>"
            ]
          },
          "metadata": {
            "needs_background": "light"
          }
        }
      ],
      "source": [
        "ann_object.test_report(y_test,predictions)"
      ]
    },
    {
      "cell_type": "code",
      "execution_count": 20,
      "metadata": {
        "colab": {
          "base_uri": "https://localhost:8080/"
        },
        "id": "We9uBsbAB5IX",
        "outputId": "ef61fef0-384d-43d3-9581-858d4c9a4efe"
      },
      "outputs": [
        {
          "output_type": "execute_result",
          "data": {
            "text/plain": [
              "0    6303\n",
              "1    5697\n",
              "dtype: int64"
            ]
          },
          "metadata": {},
          "execution_count": 20
        }
      ],
      "source": [
        "pd.Series(predictions).value_counts()"
      ]
    },
    {
      "cell_type": "code",
      "source": [
        "data={\n",
        "    \"w1\":ann_object.w1,\n",
        "    \"w2\":ann_object.w2,\n",
        "    \"w3\":ann_object.w3,\n",
        "    \"b1\":ann_object.b1,\n",
        "    \"b2\":ann_object.b2\n",
        "}"
      ],
      "metadata": {
        "id": "EO6jLupZTilq"
      },
      "execution_count": 21,
      "outputs": []
    },
    {
      "cell_type": "code",
      "source": [
        "data"
      ],
      "metadata": {
        "colab": {
          "base_uri": "https://localhost:8080/"
        },
        "id": "5qPCgHh8TjUq",
        "outputId": "b8b3e4ed-c6a1-434f-c3a6-f93cbb106d2a"
      },
      "execution_count": 22,
      "outputs": [
        {
          "output_type": "execute_result",
          "data": {
            "text/plain": [
              "{'b1': 9.986444458595702,\n",
              " 'b2': 16.38592739101325,\n",
              " 'w1': array([-2.68950102,  1.03862028,  1.29269733]),\n",
              " 'w2': array([-1.38105792, -1.16184619, -0.494553  ]),\n",
              " 'w3': array([ 0.20240883, -2.10047539])}"
            ]
          },
          "metadata": {},
          "execution_count": 22
        }
      ]
    },
    {
      "cell_type": "markdown",
      "metadata": {
        "id": "jLyC1qgjDBmP"
      },
      "source": [
        "<h1> Bias collector </h1>"
      ]
    },
    {
      "cell_type": "code",
      "execution_count": 23,
      "metadata": {
        "id": "B4rtQwFxG8qT"
      },
      "outputs": [],
      "source": [
        "# #AUC\n",
        "# from sklearn.metrics import roc_curve\n",
        "# fpr, tpr, thresholds=roc_curve(y_test,predictions)"
      ]
    },
    {
      "cell_type": "code",
      "execution_count": 24,
      "metadata": {
        "id": "zWt-oQhwG8_o"
      },
      "outputs": [],
      "source": [
        "# loss3=ann_object.loss_history"
      ]
    },
    {
      "cell_type": "code",
      "execution_count": 25,
      "metadata": {
        "id": "emVImoGbFZ0A"
      },
      "outputs": [],
      "source": [
        "# loss1=ann_object.loss_history"
      ]
    },
    {
      "cell_type": "code",
      "execution_count": 26,
      "metadata": {
        "id": "NB4K4BGJI1wH"
      },
      "outputs": [],
      "source": [
        "# loss2=ann_object.loss_history"
      ]
    },
    {
      "cell_type": "code",
      "execution_count": 27,
      "metadata": {
        "id": "_fw0wEtNDA7I"
      },
      "outputs": [],
      "source": [
        "# bias_values={}"
      ]
    },
    {
      "cell_type": "code",
      "execution_count": 28,
      "metadata": {
        "id": "Kv4Fnx4ZGPgp"
      },
      "outputs": [],
      "source": [
        "# bias_values[(\"b1=1,b2=1\")]=loss1"
      ]
    },
    {
      "cell_type": "code",
      "execution_count": 29,
      "metadata": {
        "id": "kVU8JNpvI8Mf"
      },
      "outputs": [],
      "source": [
        "# bias_values[(\"b1=10,b2=15\")]=loss2"
      ]
    },
    {
      "cell_type": "code",
      "execution_count": 30,
      "metadata": {
        "id": "X7KQj6jFM_1O"
      },
      "outputs": [],
      "source": [
        "# bias_values[(\"b1=3,b2=4.5\")]=loss3"
      ]
    },
    {
      "cell_type": "code",
      "execution_count": 31,
      "metadata": {
        "id": "U_pXvirGPmWy"
      },
      "outputs": [],
      "source": [
        "# df_graph= pd.DataFrame(bias_values)"
      ]
    },
    {
      "cell_type": "code",
      "execution_count": 32,
      "metadata": {
        "id": "WQbPvr78PqIR"
      },
      "outputs": [],
      "source": [
        "# df_graph['b1=1,b2=1']"
      ]
    },
    {
      "cell_type": "code",
      "execution_count": 33,
      "metadata": {
        "id": "LFCciKY7VwR5"
      },
      "outputs": [],
      "source": [
        "# plt.plot(df_graph['b1=1,b2=1'],'p')\n",
        "# plt.plot(df_graph['b1=3,b2=4.5'],\"*\")\n",
        "# plt.plot(df_graph['b1=10,b2=15'],\"^\",markersize=4)\n",
        "# plt.legend(['b1=1,b2=1',\"b1=3,b2=4.5\",'b1=10,b2=15'])\n",
        "# plt.xlabel(\"Epoch number\")\n",
        "# plt.ylabel(\"Loss value\")\n",
        "# plt.show()"
      ]
    },
    {
      "cell_type": "markdown",
      "metadata": {
        "id": "jtarMeIVSkgm"
      },
      "source": [
        "<h1> Using keras </h1>"
      ]
    },
    {
      "cell_type": "code",
      "source": [
        "import tensorflow as tf\n",
        "from tensorflow import keras"
      ],
      "metadata": {
        "id": "My5FpkG6Cqxk"
      },
      "execution_count": 34,
      "outputs": []
    },
    {
      "cell_type": "code",
      "source": [
        "model=keras.Sequential()\n",
        "model.add(keras.layers.Dense(2,input_dim=3,activation=\"leaky_relu\"))\n",
        "model.add(keras.layers.Dense(1,activation=\"sigmoid\"))"
      ],
      "metadata": {
        "id": "S-7AJ5o_Cq2s"
      },
      "execution_count": 35,
      "outputs": []
    },
    {
      "cell_type": "code",
      "source": [
        "model.summary()"
      ],
      "metadata": {
        "colab": {
          "base_uri": "https://localhost:8080/"
        },
        "id": "mSfuhRMeDUzk",
        "outputId": "b5a40fbf-639f-4dc9-ebd3-9bd65f0f8033"
      },
      "execution_count": 36,
      "outputs": [
        {
          "output_type": "stream",
          "name": "stdout",
          "text": [
            "Model: \"sequential\"\n",
            "_________________________________________________________________\n",
            " Layer (type)                Output Shape              Param #   \n",
            "=================================================================\n",
            " dense (Dense)               (None, 2)                 8         \n",
            "                                                                 \n",
            " dense_1 (Dense)             (None, 1)                 3         \n",
            "                                                                 \n",
            "=================================================================\n",
            "Total params: 11\n",
            "Trainable params: 11\n",
            "Non-trainable params: 0\n",
            "_________________________________________________________________\n"
          ]
        }
      ]
    },
    {
      "cell_type": "code",
      "source": [
        "model.compile(optimizer=\"adam\",loss=\"binary_crossentropy\",metrics=\"accuracy\")"
      ],
      "metadata": {
        "id": "zJ-jFKWLDV9c"
      },
      "execution_count": 37,
      "outputs": []
    },
    {
      "cell_type": "code",
      "source": [
        "model_history=model.fit(X_train,y_train,epochs=100)"
      ],
      "metadata": {
        "colab": {
          "base_uri": "https://localhost:8080/"
        },
        "id": "6-ZjgQMUEpTD",
        "outputId": "ae96cc5b-48c1-49d8-96b9-28d7be19db5e"
      },
      "execution_count": 38,
      "outputs": [
        {
          "output_type": "stream",
          "name": "stdout",
          "text": [
            "Epoch 1/100\n",
            "563/563 [==============================] - 2s 2ms/step - loss: 0.6904 - accuracy: 0.5239\n",
            "Epoch 2/100\n",
            "563/563 [==============================] - 1s 2ms/step - loss: 0.6767 - accuracy: 0.5598\n",
            "Epoch 3/100\n",
            "563/563 [==============================] - 1s 2ms/step - loss: 0.6697 - accuracy: 0.5938\n",
            "Epoch 4/100\n",
            "563/563 [==============================] - 1s 2ms/step - loss: 0.6654 - accuracy: 0.5941\n",
            "Epoch 5/100\n",
            "563/563 [==============================] - 1s 2ms/step - loss: 0.6619 - accuracy: 0.5942\n",
            "Epoch 6/100\n",
            "563/563 [==============================] - 1s 2ms/step - loss: 0.6588 - accuracy: 0.5945\n",
            "Epoch 7/100\n",
            "563/563 [==============================] - 1s 2ms/step - loss: 0.6562 - accuracy: 0.5962\n",
            "Epoch 8/100\n",
            "563/563 [==============================] - 1s 2ms/step - loss: 0.6536 - accuracy: 0.6006\n",
            "Epoch 9/100\n",
            "563/563 [==============================] - 1s 2ms/step - loss: 0.6512 - accuracy: 0.6063\n",
            "Epoch 10/100\n",
            "563/563 [==============================] - 1s 2ms/step - loss: 0.6489 - accuracy: 0.6132\n",
            "Epoch 11/100\n",
            "563/563 [==============================] - 1s 2ms/step - loss: 0.6467 - accuracy: 0.6227\n",
            "Epoch 12/100\n",
            "563/563 [==============================] - 1s 2ms/step - loss: 0.6447 - accuracy: 0.6257\n",
            "Epoch 13/100\n",
            "563/563 [==============================] - 1s 2ms/step - loss: 0.6424 - accuracy: 0.6296\n",
            "Epoch 14/100\n",
            "563/563 [==============================] - 1s 2ms/step - loss: 0.6398 - accuracy: 0.6305\n",
            "Epoch 15/100\n",
            "563/563 [==============================] - 1s 2ms/step - loss: 0.6373 - accuracy: 0.6338\n",
            "Epoch 16/100\n",
            "563/563 [==============================] - 1s 2ms/step - loss: 0.6356 - accuracy: 0.6355\n",
            "Epoch 17/100\n",
            "563/563 [==============================] - 1s 2ms/step - loss: 0.6344 - accuracy: 0.6386\n",
            "Epoch 18/100\n",
            "563/563 [==============================] - 1s 2ms/step - loss: 0.6340 - accuracy: 0.6377\n",
            "Epoch 19/100\n",
            "563/563 [==============================] - 1s 2ms/step - loss: 0.6334 - accuracy: 0.6390\n",
            "Epoch 20/100\n",
            "563/563 [==============================] - 1s 2ms/step - loss: 0.6331 - accuracy: 0.6384\n",
            "Epoch 21/100\n",
            "563/563 [==============================] - 1s 2ms/step - loss: 0.6329 - accuracy: 0.6383\n",
            "Epoch 22/100\n",
            "563/563 [==============================] - 1s 2ms/step - loss: 0.6327 - accuracy: 0.6381\n",
            "Epoch 23/100\n",
            "563/563 [==============================] - 1s 2ms/step - loss: 0.6327 - accuracy: 0.6380\n",
            "Epoch 24/100\n",
            "563/563 [==============================] - 1s 2ms/step - loss: 0.6326 - accuracy: 0.6387\n",
            "Epoch 25/100\n",
            "563/563 [==============================] - 1s 2ms/step - loss: 0.6325 - accuracy: 0.6383\n",
            "Epoch 26/100\n",
            "563/563 [==============================] - 1s 2ms/step - loss: 0.6325 - accuracy: 0.6393\n",
            "Epoch 27/100\n",
            "563/563 [==============================] - 1s 2ms/step - loss: 0.6326 - accuracy: 0.6394\n",
            "Epoch 28/100\n",
            "563/563 [==============================] - 1s 2ms/step - loss: 0.6325 - accuracy: 0.6386\n",
            "Epoch 29/100\n",
            "563/563 [==============================] - 1s 2ms/step - loss: 0.6323 - accuracy: 0.6403\n",
            "Epoch 30/100\n",
            "563/563 [==============================] - 1s 2ms/step - loss: 0.6325 - accuracy: 0.6407\n",
            "Epoch 31/100\n",
            "563/563 [==============================] - 1s 2ms/step - loss: 0.6323 - accuracy: 0.6400\n",
            "Epoch 32/100\n",
            "563/563 [==============================] - 1s 2ms/step - loss: 0.6324 - accuracy: 0.6402\n",
            "Epoch 33/100\n",
            "563/563 [==============================] - 1s 2ms/step - loss: 0.6325 - accuracy: 0.6376\n",
            "Epoch 34/100\n",
            "563/563 [==============================] - 1s 2ms/step - loss: 0.6323 - accuracy: 0.6402\n",
            "Epoch 35/100\n",
            "563/563 [==============================] - 1s 2ms/step - loss: 0.6325 - accuracy: 0.6382\n",
            "Epoch 36/100\n",
            "563/563 [==============================] - 1s 2ms/step - loss: 0.6324 - accuracy: 0.6403\n",
            "Epoch 37/100\n",
            "563/563 [==============================] - 1s 2ms/step - loss: 0.6324 - accuracy: 0.6397\n",
            "Epoch 38/100\n",
            "563/563 [==============================] - 1s 2ms/step - loss: 0.6325 - accuracy: 0.6396\n",
            "Epoch 39/100\n",
            "563/563 [==============================] - 1s 2ms/step - loss: 0.6324 - accuracy: 0.6383\n",
            "Epoch 40/100\n",
            "563/563 [==============================] - 1s 2ms/step - loss: 0.6324 - accuracy: 0.6398\n",
            "Epoch 41/100\n",
            "563/563 [==============================] - 1s 2ms/step - loss: 0.6324 - accuracy: 0.6397\n",
            "Epoch 42/100\n",
            "563/563 [==============================] - 1s 2ms/step - loss: 0.6323 - accuracy: 0.6396\n",
            "Epoch 43/100\n",
            "563/563 [==============================] - 1s 2ms/step - loss: 0.6322 - accuracy: 0.6396\n",
            "Epoch 44/100\n",
            "563/563 [==============================] - 1s 2ms/step - loss: 0.6324 - accuracy: 0.6388\n",
            "Epoch 45/100\n",
            "563/563 [==============================] - 1s 2ms/step - loss: 0.6324 - accuracy: 0.6390\n",
            "Epoch 46/100\n",
            "563/563 [==============================] - 1s 2ms/step - loss: 0.6324 - accuracy: 0.6371\n",
            "Epoch 47/100\n",
            "563/563 [==============================] - 1s 2ms/step - loss: 0.6324 - accuracy: 0.6384\n",
            "Epoch 48/100\n",
            "563/563 [==============================] - 1s 2ms/step - loss: 0.6324 - accuracy: 0.6393\n",
            "Epoch 49/100\n",
            "563/563 [==============================] - 1s 2ms/step - loss: 0.6324 - accuracy: 0.6396\n",
            "Epoch 50/100\n",
            "563/563 [==============================] - 1s 2ms/step - loss: 0.6324 - accuracy: 0.6380\n",
            "Epoch 51/100\n",
            "563/563 [==============================] - 1s 2ms/step - loss: 0.6323 - accuracy: 0.6397\n",
            "Epoch 52/100\n",
            "563/563 [==============================] - 1s 2ms/step - loss: 0.6323 - accuracy: 0.6396\n",
            "Epoch 53/100\n",
            "563/563 [==============================] - 1s 2ms/step - loss: 0.6324 - accuracy: 0.6392\n",
            "Epoch 54/100\n",
            "563/563 [==============================] - 1s 2ms/step - loss: 0.6324 - accuracy: 0.6394\n",
            "Epoch 55/100\n",
            "563/563 [==============================] - 1s 2ms/step - loss: 0.6323 - accuracy: 0.6370\n",
            "Epoch 56/100\n",
            "563/563 [==============================] - 1s 2ms/step - loss: 0.6323 - accuracy: 0.6384\n",
            "Epoch 57/100\n",
            "563/563 [==============================] - 1s 2ms/step - loss: 0.6323 - accuracy: 0.6397\n",
            "Epoch 58/100\n",
            "563/563 [==============================] - 1s 2ms/step - loss: 0.6325 - accuracy: 0.6369\n",
            "Epoch 59/100\n",
            "563/563 [==============================] - 1s 2ms/step - loss: 0.6323 - accuracy: 0.6383\n",
            "Epoch 60/100\n",
            "563/563 [==============================] - 1s 2ms/step - loss: 0.6323 - accuracy: 0.6391\n",
            "Epoch 61/100\n",
            "563/563 [==============================] - 1s 2ms/step - loss: 0.6324 - accuracy: 0.6376\n",
            "Epoch 62/100\n",
            "563/563 [==============================] - 1s 2ms/step - loss: 0.6323 - accuracy: 0.6376\n",
            "Epoch 63/100\n",
            "563/563 [==============================] - 1s 2ms/step - loss: 0.6322 - accuracy: 0.6392\n",
            "Epoch 64/100\n",
            "563/563 [==============================] - 1s 2ms/step - loss: 0.6323 - accuracy: 0.6377\n",
            "Epoch 65/100\n",
            "563/563 [==============================] - 1s 2ms/step - loss: 0.6323 - accuracy: 0.6388\n",
            "Epoch 66/100\n",
            "563/563 [==============================] - 1s 2ms/step - loss: 0.6322 - accuracy: 0.6381\n",
            "Epoch 67/100\n",
            "563/563 [==============================] - 1s 2ms/step - loss: 0.6322 - accuracy: 0.6377\n",
            "Epoch 68/100\n",
            "563/563 [==============================] - 1s 2ms/step - loss: 0.6321 - accuracy: 0.6383\n",
            "Epoch 69/100\n",
            "563/563 [==============================] - 1s 2ms/step - loss: 0.6322 - accuracy: 0.6394\n",
            "Epoch 70/100\n",
            "563/563 [==============================] - 1s 2ms/step - loss: 0.6321 - accuracy: 0.6380\n",
            "Epoch 71/100\n",
            "563/563 [==============================] - 1s 2ms/step - loss: 0.6322 - accuracy: 0.6382\n",
            "Epoch 72/100\n",
            "563/563 [==============================] - 1s 2ms/step - loss: 0.6321 - accuracy: 0.6373\n",
            "Epoch 73/100\n",
            "563/563 [==============================] - 1s 2ms/step - loss: 0.6322 - accuracy: 0.6380\n",
            "Epoch 74/100\n",
            "563/563 [==============================] - 1s 2ms/step - loss: 0.6322 - accuracy: 0.6390\n",
            "Epoch 75/100\n",
            "563/563 [==============================] - 1s 2ms/step - loss: 0.6322 - accuracy: 0.6376\n",
            "Epoch 76/100\n",
            "563/563 [==============================] - 1s 2ms/step - loss: 0.6322 - accuracy: 0.6376\n",
            "Epoch 77/100\n",
            "563/563 [==============================] - 1s 2ms/step - loss: 0.6321 - accuracy: 0.6382\n",
            "Epoch 78/100\n",
            "563/563 [==============================] - 1s 2ms/step - loss: 0.6322 - accuracy: 0.6382\n",
            "Epoch 79/100\n",
            "563/563 [==============================] - 1s 2ms/step - loss: 0.6320 - accuracy: 0.6378\n",
            "Epoch 80/100\n",
            "563/563 [==============================] - 1s 2ms/step - loss: 0.6321 - accuracy: 0.6389\n",
            "Epoch 81/100\n",
            "563/563 [==============================] - 1s 2ms/step - loss: 0.6319 - accuracy: 0.6385\n",
            "Epoch 82/100\n",
            "563/563 [==============================] - 1s 2ms/step - loss: 0.6319 - accuracy: 0.6381\n",
            "Epoch 83/100\n",
            "563/563 [==============================] - 1s 2ms/step - loss: 0.6321 - accuracy: 0.6383\n",
            "Epoch 84/100\n",
            "563/563 [==============================] - 1s 2ms/step - loss: 0.6321 - accuracy: 0.6388\n",
            "Epoch 85/100\n",
            "563/563 [==============================] - 1s 2ms/step - loss: 0.6320 - accuracy: 0.6398\n",
            "Epoch 86/100\n",
            "563/563 [==============================] - 1s 2ms/step - loss: 0.6321 - accuracy: 0.6383\n",
            "Epoch 87/100\n",
            "563/563 [==============================] - 1s 2ms/step - loss: 0.6321 - accuracy: 0.6385\n",
            "Epoch 88/100\n",
            "563/563 [==============================] - 1s 2ms/step - loss: 0.6320 - accuracy: 0.6383\n",
            "Epoch 89/100\n",
            "563/563 [==============================] - 1s 2ms/step - loss: 0.6320 - accuracy: 0.6379\n",
            "Epoch 90/100\n",
            "563/563 [==============================] - 1s 2ms/step - loss: 0.6319 - accuracy: 0.6378\n",
            "Epoch 91/100\n",
            "563/563 [==============================] - 1s 2ms/step - loss: 0.6320 - accuracy: 0.6381\n",
            "Epoch 92/100\n",
            "563/563 [==============================] - 1s 2ms/step - loss: 0.6319 - accuracy: 0.6387\n",
            "Epoch 93/100\n",
            "563/563 [==============================] - 1s 2ms/step - loss: 0.6319 - accuracy: 0.6387\n",
            "Epoch 94/100\n",
            "563/563 [==============================] - 1s 2ms/step - loss: 0.6320 - accuracy: 0.6384\n",
            "Epoch 95/100\n",
            "563/563 [==============================] - 1s 2ms/step - loss: 0.6320 - accuracy: 0.6386\n",
            "Epoch 96/100\n",
            "563/563 [==============================] - 1s 2ms/step - loss: 0.6319 - accuracy: 0.6383\n",
            "Epoch 97/100\n",
            "563/563 [==============================] - 1s 2ms/step - loss: 0.6320 - accuracy: 0.6387\n",
            "Epoch 98/100\n",
            "563/563 [==============================] - 1s 2ms/step - loss: 0.6320 - accuracy: 0.6378\n",
            "Epoch 99/100\n",
            "563/563 [==============================] - 1s 2ms/step - loss: 0.6320 - accuracy: 0.6383\n",
            "Epoch 100/100\n",
            "563/563 [==============================] - 1s 2ms/step - loss: 0.6320 - accuracy: 0.6385\n"
          ]
        }
      ]
    },
    {
      "cell_type": "code",
      "source": [
        "predictionsKeras=[]\n",
        "predictions_sigmoid_keras = model.predict(X_test)\n",
        "for i in predictions_sigmoid_keras:\n",
        "  if i>0.5:\n",
        "    predictionsKeras.append(1)\n",
        "  else:\n",
        "    predictionsKeras.append(0)"
      ],
      "metadata": {
        "id": "OnyGE5eEEwci"
      },
      "execution_count": 39,
      "outputs": []
    },
    {
      "cell_type": "code",
      "source": [
        "conf_matrix = confusion_matrix(y_test,predictionsKeras)\n",
        "sns.heatmap(data=conf_matrix,annot=True,fmt='d')\n",
        "plt.xlabel(\"Predicted\")\n",
        "plt.ylabel(\"Actual\")\n",
        "print(classification_report(y_test,predictionsKeras))"
      ],
      "metadata": {
        "colab": {
          "base_uri": "https://localhost:8080/",
          "height": 435
        },
        "id": "o0fJsKTaFdp0",
        "outputId": "544df6d5-0f50-4bc7-ac3f-624e697d23db"
      },
      "execution_count": 40,
      "outputs": [
        {
          "output_type": "stream",
          "name": "stdout",
          "text": [
            "              precision    recall  f1-score   support\n",
            "\n",
            "           0       0.64      0.65      0.64      6026\n",
            "           1       0.64      0.63      0.64      5974\n",
            "\n",
            "    accuracy                           0.64     12000\n",
            "   macro avg       0.64      0.64      0.64     12000\n",
            "weighted avg       0.64      0.64      0.64     12000\n",
            "\n"
          ]
        },
        {
          "output_type": "display_data",
          "data": {
            "image/png": "[encoded data removed]",
            "text/plain": [
              "<Figure size 432x288 with 2 Axes>"
            ]
          },
          "metadata": {
            "needs_background": "light"
          }
        }
      ]
    },
    {
      "cell_type": "markdown",
      "source": [
        "<h1> Loss visualization </h1>"
      ],
      "metadata": {
        "id": "68ulTEse6KDe"
      }
    },
    {
      "cell_type": "code",
      "source": [
        "plt.figure(figsize=(6,5))\n",
        "plt.plot(model_history.history['loss'])\n",
        "plt.xlabel(\"Epoch number\")\n",
        "plt.ylabel(\"loss\")\n",
        "plt.show()"
      ],
      "metadata": {
        "id": "2Qdal2FiU2xV",
        "colab": {
          "base_uri": "https://localhost:8080/",
          "height": 334
        },
        "outputId": "00b2ce99-f291-46ce-aabe-bf052e6318a1"
      },
      "execution_count": 41,
      "outputs": [
        {
          "output_type": "display_data",
          "data": {
            "image/png": "[encoded data removed]",
            "text/plain": [
              "<Figure size 432x360 with 1 Axes>"
            ]
          },
          "metadata": {
            "needs_background": "light"
          }
        }
      ]
    },
    {
      "cell_type": "code",
      "execution_count": 42,
      "metadata": {
        "id": "CeU9CRYhTJdC",
        "colab": {
          "base_uri": "https://localhost:8080/",
          "height": 334
        },
        "outputId": "f87ebd36-d34f-498e-bc24-032d2a1309bd"
      },
      "outputs": [
        {
          "output_type": "display_data",
          "data": {
            "image/png": "[encoded data removed]",
            "text/plain": [
              "<Figure size 432x360 with 1 Axes>"
            ]
          },
          "metadata": {
            "needs_background": "light"
          }
        }
      ],
      "source": [
        "plt.figure(figsize=(6,5))\n",
        "plt.plot(model_history.history['loss'])\n",
        "plt.plot(ann_object.loss_history)\n",
        "plt.xlabel(\"Epoch number\")\n",
        "plt.ylabel(\"loss\")\n",
        "plt.legend(['Keras model','Custom model'])\n",
        "plt.show()"
      ]
    },
    {
      "cell_type": "code",
      "source": [
        "model.save_weights(\"kerasModelBio.h5\")"
      ],
      "metadata": {
        "id": "ZYcqUq0XTt7p"
      },
      "execution_count": 43,
      "outputs": []
    },
    {
      "cell_type": "markdown",
      "source": [
        "<h1> Precision Recall Curve </h1>"
      ],
      "metadata": {
        "id": "1_r4fogtPHvG"
      }
    },
    {
      "cell_type": "code",
      "source": [
        "#predictions_sigmoid\n",
        "def PR_cal(custom_thresolds,y_test,predictions_sigmoid):\n",
        "  precisionData = []\n",
        "  recallData = []\n",
        "  for i in custom_thresolds:\n",
        "    predictions=[]\n",
        "    for values in predictions_sigmoid:\n",
        "      if values>i:\n",
        "        predictions.append(1)\n",
        "      else:\n",
        "        predictions.append(0)\n",
        "    tn, fp, fn, tp=confusion_matrix(y_test,predictions).ravel()\n",
        "    precision=tp/(tp+fp)\n",
        "    recall = tp/(tp+fn)\n",
        "    # print(f\"{i}  {precision}\")\n",
        "    # print(f\"{i}  {recall}\")\n",
        "    precisionData.append(precision)\n",
        "    recallData.append(recall)\n",
        "  return precisionData,recallData"
      ],
      "metadata": {
        "id": "G_HaDIJYPHD3"
      },
      "execution_count": 44,
      "outputs": []
    },
    {
      "cell_type": "code",
      "source": [
        "#custom_thresolds=[0.2,0.3,0.5,0.6,0.7,0.8,0.9]\n",
        "custom_thresolds=np.linspace(0,0.98,100)"
      ],
      "metadata": {
        "id": "KiW9KiOdPfuO"
      },
      "execution_count": 45,
      "outputs": []
    },
    {
      "cell_type": "code",
      "source": [
        "precisionData,recallData=PR_cal(custom_thresolds,y_test,predictions_sigmoid)"
      ],
      "metadata": {
        "id": "xDkr-6S-PTs8",
        "colab": {
          "base_uri": "https://localhost:8080/"
        },
        "outputId": "99528c63-071e-4e5e-bdfb-bd1edb4df9b5"
      },
      "execution_count": 46,
      "outputs": [
        {
          "output_type": "stream",
          "name": "stderr",
          "text": [
            "/usr/local/lib/python3.7/dist-packages/ipykernel_launcher.py:13: RuntimeWarning: invalid value encountered in long_scalars\n",
            "  del sys.path[0]\n",
            "/usr/local/lib/python3.7/dist-packages/ipykernel_launcher.py:13: RuntimeWarning: invalid value encountered in long_scalars\n",
            "  del sys.path[0]\n",
            "/usr/local/lib/python3.7/dist-packages/ipykernel_launcher.py:13: RuntimeWarning: invalid value encountered in long_scalars\n",
            "  del sys.path[0]\n",
            "/usr/local/lib/python3.7/dist-packages/ipykernel_launcher.py:13: RuntimeWarning: invalid value encountered in long_scalars\n",
            "  del sys.path[0]\n",
            "/usr/local/lib/python3.7/dist-packages/ipykernel_launcher.py:13: RuntimeWarning: invalid value encountered in long_scalars\n",
            "  del sys.path[0]\n"
          ]
        }
      ]
    },
    {
      "cell_type": "code",
      "source": [
        "precisionDataKeras,recallDataKeras=PR_cal(custom_thresolds,y_test,predictions_sigmoid_keras)"
      ],
      "metadata": {
        "colab": {
          "base_uri": "https://localhost:8080/"
        },
        "id": "skfFXrsIpyQx",
        "outputId": "f4beca74-90e6-4721-e9a4-1743ae1f32e2"
      },
      "execution_count": 47,
      "outputs": [
        {
          "output_type": "stream",
          "name": "stderr",
          "text": [
            "/usr/local/lib/python3.7/dist-packages/ipykernel_launcher.py:13: RuntimeWarning: invalid value encountered in long_scalars\n",
            "  del sys.path[0]\n",
            "/usr/local/lib/python3.7/dist-packages/ipykernel_launcher.py:13: RuntimeWarning: invalid value encountered in long_scalars\n",
            "  del sys.path[0]\n",
            "/usr/local/lib/python3.7/dist-packages/ipykernel_launcher.py:13: RuntimeWarning: invalid value encountered in long_scalars\n",
            "  del sys.path[0]\n",
            "/usr/local/lib/python3.7/dist-packages/ipykernel_launcher.py:13: RuntimeWarning: invalid value encountered in long_scalars\n",
            "  del sys.path[0]\n",
            "/usr/local/lib/python3.7/dist-packages/ipykernel_launcher.py:13: RuntimeWarning: invalid value encountered in long_scalars\n",
            "  del sys.path[0]\n",
            "/usr/local/lib/python3.7/dist-packages/ipykernel_launcher.py:13: RuntimeWarning: invalid value encountered in long_scalars\n",
            "  del sys.path[0]\n",
            "/usr/local/lib/python3.7/dist-packages/ipykernel_launcher.py:13: RuntimeWarning: invalid value encountered in long_scalars\n",
            "  del sys.path[0]\n"
          ]
        }
      ]
    },
    {
      "cell_type": "code",
      "source": [
        "plt.figure(figsize=(8,6))\n",
        "plt.plot(recallDataKeras,precisionDataKeras,\"-k\")\n",
        "plt.plot(recallData,precisionData,\"^r:\")\n",
        "plt.xlabel(\"Recall\")\n",
        "plt.ylabel(\"Precision\")\n",
        "plt.legend(['Keras model',\"Custom model\"])\n",
        "plt.title(\"Precision Recall Curve\")\n",
        "\n",
        "plt.show()"
      ],
      "metadata": {
        "id": "PJiEFQkDaACK",
        "colab": {
          "base_uri": "https://localhost:8080/",
          "height": 404
        },
        "outputId": "c73fe132-1f8a-4795-e5fd-1ba8128bc992"
      },
      "execution_count": 48,
      "outputs": [
        {
          "output_type": "display_data",
          "data": {
            "image/png": "[encoded data removed]",
            "text/plain": [
              "<Figure size 576x432 with 1 Axes>"
            ]
          },
          "metadata": {
            "needs_background": "light"
          }
        }
      ]
    },
    {
      "cell_type": "code",
      "source": [
        ""
      ],
      "metadata": {
        "id": "b1wGFsx1TseB"
      },
      "execution_count": 48,
      "outputs": []
    },
    {
      "cell_type": "markdown",
      "source": [
        "<h1> ROC </h1>"
      ],
      "metadata": {
        "id": "7b4TKGHCPny-"
      }
    },
    {
      "cell_type": "code",
      "source": [
        "from sklearn.metrics import roc_curve\n",
        "fpr1, tpr1, thresholds2=roc_curve(y_test,predictions)\n",
        "fpr2, tpr2, thresholds1=roc_curve(y_test,predictionsKeras)\n",
        "plt.figure(figsize=(7,7))\n",
        "plt.plot([0, 1], [0, 1], '--',color='red',label='Thresold')\n",
        "plt.plot(fpr2, tpr2,color='black',label='Keras based model',marker=\"s\")\n",
        "plt.plot(fpr1, tpr1,color='green',label='Custom model',marker=\"*\")\n",
        "plt.ylabel('True positive rate(Recall)')\n",
        "plt.xlabel('False positive rate')\n",
        "plt.title('ROC')\n",
        "plt.grid()\n",
        "plt.legend()\n",
        "plt.show()"
      ],
      "metadata": {
        "id": "6JQW49w-3H6p",
        "colab": {
          "base_uri": "https://localhost:8080/",
          "height": 458
        },
        "outputId": "efb049d0-dc07-46dc-953a-994ff9f18753"
      },
      "execution_count": 49,
      "outputs": [
        {
          "output_type": "display_data",
          "data": {
            "image/png": "[encoded data removed]",
            "text/plain": [
              "<Figure size 504x504 with 1 Axes>"
            ]
          },
          "metadata": {
            "needs_background": "light"
          }
        }
      ]
    },
    {
      "cell_type": "markdown",
      "source": [
        "<h1> ROC AUC </h1>"
      ],
      "metadata": {
        "id": "WLDctCA2RboD"
      }
    },
    {
      "cell_type": "code",
      "source": [
        "rocAucCustom = roc_auc_score(y_test,predictions)\n",
        "rocAucCustom"
      ],
      "metadata": {
        "colab": {
          "base_uri": "https://localhost:8080/"
        },
        "id": "0VVdNVQTPsg1",
        "outputId": "a348d9fc-0504-488a-f56b-82c303933698"
      },
      "execution_count": 50,
      "outputs": [
        {
          "output_type": "execute_result",
          "data": {
            "text/plain": [
              "0.6373098283734439"
            ]
          },
          "metadata": {},
          "execution_count": 50
        }
      ]
    },
    {
      "cell_type": "code",
      "source": [
        "rocAucKeras = roc_auc_score(y_test,predictionsKeras)\n",
        "rocAucKeras"
      ],
      "metadata": {
        "colab": {
          "base_uri": "https://localhost:8080/"
        },
        "id": "05lPwuOTRnm3",
        "outputId": "691bb578-4cb3-44e7-f19f-bb040e8e2248"
      },
      "execution_count": 51,
      "outputs": [
        {
          "output_type": "execute_result",
          "data": {
            "text/plain": [
              "0.6398849878403272"
            ]
          },
          "metadata": {},
          "execution_count": 51
        }
      ]
    },
    {
      "cell_type": "markdown",
      "metadata": {
        "id": "e6Kyj3-HX1Yh"
      },
      "source": [
        "<h1> Bias Tuner </h1>"
      ]
    },
    {
      "cell_type": "code",
      "execution_count": 52,
      "metadata": {
        "id": "AxuQOUCqX000"
      },
      "outputs": [],
      "source": [
        "# class ANNTuner():\n",
        "#   def __init__(self,model,lower_thresold,upper_thresold):\n",
        "#     self.model=model\n",
        "#     self.lower_thresold=lower_thresold\n",
        "#     self.upper_thresold = upper_thresold\n",
        "#     self.epochs=100\n",
        "#     self.learning_rate=0.0001\n",
        "#     self.finalResult={}\n",
        "#     self.temp=[]\n",
        "#   def tune(self,X_train,y_train,X_test,y_true):\n",
        "#     for i in range(0,len(self.lower_thresold)):\n",
        "#       modelObj = self.model(self.epochs,self.learning_rate,self.lower_thresold[i],self.upper_thresold[i]) \n",
        "#       modelObj.fit(X_train,y_train)\n",
        "#       predictions=[]\n",
        "#       predictions_sigmoid = modelObj.predict(X_test)\n",
        "#       for j in predictions_sigmoid:\n",
        "#         if j>0.5:\n",
        "#           predictions.append(1)\n",
        "#         else:\n",
        "#           predictions.append(0)\n",
        "#       print(f\"{i}   {predictions_sigmoid}\")\n",
        "#       print(f\"{i}   {predictions}\")\n",
        "#       self.temp.append(f1_score(y_true,predictions))\n",
        "#       self.finalResult[(self.lower_thresold[i],self.upper_thresold[i])]=self.temp[i]\n",
        "#     return self.finalResult"
      ]
    },
    {
      "cell_type": "code",
      "execution_count": 53,
      "metadata": {
        "id": "kQkPRZsrX5Lq"
      },
      "outputs": [],
      "source": [
        "# ANNTuner_obj = ANNTuner(ANN,[1.5,2,10,12],[3.9,4.5,15,17])\n",
        "# baises_withF1Score = ANNTuner_obj.tune(X_train,y,X_test,y_test)"
      ]
    },
    {
      "cell_type": "code",
      "execution_count": 54,
      "metadata": {
        "id": "gaHAextqX8wU"
      },
      "outputs": [],
      "source": [
        "# print(baises_withF1Score)"
      ]
    },
    {
      "cell_type": "code",
      "source": [
        ""
      ],
      "metadata": {
        "id": "3eWeasrR7mJl"
      },
      "execution_count": 54,
      "outputs": []
    }
  ],
  "metadata": {
    "colab": {
      "collapsed_sections": [],
      "name": "Smple_ANN_classification_implementation_biodata.ipynb",
      "provenance": []
    },
    "kernelspec": {
      "display_name": "Python 3",
      "language": "python",
      "name": "python3"
    },
    "language_info": {
      "codemirror_mode": {
        "name": "ipython",
        "version": 3
      },
      "file_extension": ".py",
      "mimetype": "text/x-python",
      "name": "python",
      "nbconvert_exporter": "python",
      "pygments_lexer": "ipython3",
      "version": "3.8.10"
    }
  },
  "nbformat": 4,
  "nbformat_minor": 0
}