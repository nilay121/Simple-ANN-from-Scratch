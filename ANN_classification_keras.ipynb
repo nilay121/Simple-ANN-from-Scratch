{
  "cells": [
    {
      "cell_type": "code",
      "execution_count": 1,
      "metadata": {
        "id": "s8mI9RYeCLmn"
      },
      "outputs": [],
      "source": [
        "#Real one"
      ]
    },
    {
      "cell_type": "code",
      "execution_count": 1,
      "metadata": {
        "id": "cn9WtVxwx-oa"
      },
      "outputs": [],
      "source": [
        "import pandas as pd\n",
        "import numpy as np\n",
        "from sklearn.preprocessing import MinMaxScaler\n",
        "import seaborn as sns\n",
        "import matplotlib.pyplot as plt\n",
        "from sklearn.ensemble import RandomForestClassifier\n",
        "from sklearn.model_selection import train_test_split\n",
        "from sklearn.metrics import confusion_matrix\n",
        "from sklearn.metrics import classification_report"
      ]
    },
    {
      "cell_type": "code",
      "execution_count": 2,
      "metadata": {
        "colab": {
          "base_uri": "https://localhost:8080/"
        },
        "id": "k8McddfECfL6",
        "outputId": "2efaf73c-0812-430f-fdb1-596c6111df22"
      },
      "outputs": [
        {
          "output_type": "stream",
          "name": "stdout",
          "text": [
            "Mounted at /content/drive\n"
          ]
        }
      ],
      "source": [
        "from google.colab import drive\n",
        "drive.mount('/content/drive')"
      ]
    },
    {
      "cell_type": "markdown",
      "metadata": {
        "id": "PFwdz2C1z_SC"
      },
      "source": [
        "# Data Preparation"
      ]
    },
    {
      "cell_type": "code",
      "execution_count": 3,
      "metadata": {
        "id": "1QWpACAoz_Va"
      },
      "outputs": [],
      "source": [
        "df=pd.read_csv(\"/content/drive/MyDrive/Colab Notebooks/mixed.csv.txt\",sep=\",\")"
      ]
    },
    {
      "cell_type": "code",
      "execution_count": 4,
      "metadata": {
        "colab": {
          "base_uri": "https://localhost:8080/",
          "height": 207
        },
        "id": "0_-C2G8YB5IL",
        "outputId": "50725cb5-b969-423a-84d4-82db5e950de2"
      },
      "outputs": [
        {
          "output_type": "execute_result",
          "data": {
            "text/html": [
              "\n",
              "  <div id=\"df-0975f73d-62b4-41cc-8129-d78ee6c4d07b\">\n",
              "    <div class=\"colab-df-container\">\n",
              "      <div>\n",
              "<style scoped>\n",
              "    .dataframe tbody tr th:only-of-type {\n",
              "        vertical-align: middle;\n",
              "    }\n",
              "\n",
              "    .dataframe tbody tr th {\n",
              "        vertical-align: top;\n",
              "    }\n",
              "\n",
              "    .dataframe thead th {\n",
              "        text-align: right;\n",
              "    }\n",
              "</style>\n",
              "<table border=\"1\" class=\"dataframe\">\n",
              "  <thead>\n",
              "    <tr style=\"text-align: right;\">\n",
              "      <th></th>\n",
              "      <th>EvNo</th>\n",
              "      <th>trumu</th>\n",
              "      <th>chargesg</th>\n",
              "      <th>px</th>\n",
              "      <th>py</th>\n",
              "      <th>pz</th>\n",
              "      <th>E</th>\n",
              "      <th>muchhits</th>\n",
              "      <th>stshits</th>\n",
              "      <th>trdhits</th>\n",
              "      <th>tofhits</th>\n",
              "      <th>chisqmuch</th>\n",
              "      <th>chisqsts</th>\n",
              "      <th>chisqtrd</th>\n",
              "      <th>chisqvertex</th>\n",
              "      <th>tofmass</th>\n",
              "    </tr>\n",
              "  </thead>\n",
              "  <tbody>\n",
              "    <tr>\n",
              "      <th>0</th>\n",
              "      <td>1</td>\n",
              "      <td>1</td>\n",
              "      <td>-1</td>\n",
              "      <td>0.853275</td>\n",
              "      <td>-0.847333</td>\n",
              "      <td>7.35208</td>\n",
              "      <td>7.45053</td>\n",
              "      <td>11</td>\n",
              "      <td>8</td>\n",
              "      <td>3</td>\n",
              "      <td>1</td>\n",
              "      <td>1.97966</td>\n",
              "      <td>3.15940</td>\n",
              "      <td>9.20906</td>\n",
              "      <td>2.96263</td>\n",
              "      <td>0.031319</td>\n",
              "    </tr>\n",
              "    <tr>\n",
              "      <th>1</th>\n",
              "      <td>2</td>\n",
              "      <td>0</td>\n",
              "      <td>1</td>\n",
              "      <td>-0.431410</td>\n",
              "      <td>-0.554361</td>\n",
              "      <td>4.25411</td>\n",
              "      <td>4.31301</td>\n",
              "      <td>9</td>\n",
              "      <td>8</td>\n",
              "      <td>3</td>\n",
              "      <td>0</td>\n",
              "      <td>3.89112</td>\n",
              "      <td>1.51397</td>\n",
              "      <td>22.56260</td>\n",
              "      <td>1.23243</td>\n",
              "      <td>-1000.000000</td>\n",
              "    </tr>\n",
              "    <tr>\n",
              "      <th>2</th>\n",
              "      <td>2</td>\n",
              "      <td>1</td>\n",
              "      <td>-1</td>\n",
              "      <td>0.217476</td>\n",
              "      <td>0.837259</td>\n",
              "      <td>5.95573</td>\n",
              "      <td>6.01915</td>\n",
              "      <td>11</td>\n",
              "      <td>7</td>\n",
              "      <td>4</td>\n",
              "      <td>1</td>\n",
              "      <td>1.61583</td>\n",
              "      <td>2.68982</td>\n",
              "      <td>1.63692</td>\n",
              "      <td>2.96849</td>\n",
              "      <td>-0.057862</td>\n",
              "    </tr>\n",
              "  </tbody>\n",
              "</table>\n",
              "</div>\n",
              "      <button class=\"colab-df-convert\" onclick=\"convertToInteractive('df-0975f73d-62b4-41cc-8129-d78ee6c4d07b')\"\n",
              "              title=\"Convert this dataframe to an interactive table.\"\n",
              "              style=\"display:none;\">\n",
              "        \n",
              "  <svg xmlns=\"http://www.w3.org/2000/svg\" height=\"24px\"viewBox=\"0 0 24 24\"\n",
              "       width=\"24px\">\n",
              "    <path d=\"M0 0h24v24H0V0z\" fill=\"none\"/>\n",
              "    <path d=\"M18.56 5.44l.94 2.06.94-2.06 2.06-.94-2.06-.94-.94-2.06-.94 2.06-2.06.94zm-11 1L8.5 8.5l.94-2.06 2.06-.94-2.06-.94L8.5 2.5l-.94 2.06-2.06.94zm10 10l.94 2.06.94-2.06 2.06-.94-2.06-.94-.94-2.06-.94 2.06-2.06.94z\"/><path d=\"M17.41 7.96l-1.37-1.37c-.4-.4-.92-.59-1.43-.59-.52 0-1.04.2-1.43.59L10.3 9.45l-7.72 7.72c-.78.78-.78 2.05 0 2.83L4 21.41c.39.39.9.59 1.41.59.51 0 1.02-.2 1.41-.59l7.78-7.78 2.81-2.81c.8-.78.8-2.07 0-2.86zM5.41 20L4 18.59l7.72-7.72 1.47 1.35L5.41 20z\"/>\n",
              "  </svg>\n",
              "      </button>\n",
              "      \n",
              "  <style>\n",
              "    .colab-df-container {\n",
              "      display:flex;\n",
              "      flex-wrap:wrap;\n",
              "      gap: 12px;\n",
              "    }\n",
              "\n",
              "    .colab-df-convert {\n",
              "      background-color: #E8F0FE;\n",
              "      border: none;\n",
              "      border-radius: 50%;\n",
              "      cursor: pointer;\n",
              "      display: none;\n",
              "      fill: #1967D2;\n",
              "      height: 32px;\n",
              "      padding: 0 0 0 0;\n",
              "      width: 32px;\n",
              "    }\n",
              "\n",
              "    .colab-df-convert:hover {\n",
              "      background-color: #E2EBFA;\n",
              "      box-shadow: 0px 1px 2px rgba(60, 64, 67, 0.3), 0px 1px 3px 1px rgba(60, 64, 67, 0.15);\n",
              "      fill: #174EA6;\n",
              "    }\n",
              "\n",
              "    [theme=dark] .colab-df-convert {\n",
              "      background-color: #3B4455;\n",
              "      fill: #D2E3FC;\n",
              "    }\n",
              "\n",
              "    [theme=dark] .colab-df-convert:hover {\n",
              "      background-color: #434B5C;\n",
              "      box-shadow: 0px 1px 3px 1px rgba(0, 0, 0, 0.15);\n",
              "      filter: drop-shadow(0px 1px 2px rgba(0, 0, 0, 0.3));\n",
              "      fill: #FFFFFF;\n",
              "    }\n",
              "  </style>\n",
              "\n",
              "      <script>\n",
              "        const buttonEl =\n",
              "          document.querySelector('#df-0975f73d-62b4-41cc-8129-d78ee6c4d07b button.colab-df-convert');\n",
              "        buttonEl.style.display =\n",
              "          google.colab.kernel.accessAllowed ? 'block' : 'none';\n",
              "\n",
              "        async function convertToInteractive(key) {\n",
              "          const element = document.querySelector('#df-0975f73d-62b4-41cc-8129-d78ee6c4d07b');\n",
              "          const dataTable =\n",
              "            await google.colab.kernel.invokeFunction('convertToInteractive',\n",
              "                                                     [key], {});\n",
              "          if (!dataTable) return;\n",
              "\n",
              "          const docLinkHtml = 'Like what you see? Visit the ' +\n",
              "            '<a target=\"_blank\" href=https://colab.research.google.com/notebooks/data_table.ipynb>data table notebook</a>'\n",
              "            + ' to learn more about interactive tables.';\n",
              "          element.innerHTML = '';\n",
              "          dataTable['output_type'] = 'display_data';\n",
              "          await google.colab.output.renderOutput(dataTable, element);\n",
              "          const docLink = document.createElement('div');\n",
              "          docLink.innerHTML = docLinkHtml;\n",
              "          element.appendChild(docLink);\n",
              "        }\n",
              "      </script>\n",
              "    </div>\n",
              "  </div>\n",
              "  "
            ],
            "text/plain": [
              "   EvNo  trumu  chargesg  ...  chisqtrd  chisqvertex      tofmass\n",
              "0     1      1        -1  ...   9.20906      2.96263     0.031319\n",
              "1     2      0         1  ...  22.56260      1.23243 -1000.000000\n",
              "2     2      1        -1  ...   1.63692      2.96849    -0.057862\n",
              "\n",
              "[3 rows x 16 columns]"
            ]
          },
          "metadata": {},
          "execution_count": 4
        }
      ],
      "source": [
        "df.head(3)"
      ]
    },
    {
      "cell_type": "code",
      "execution_count": 5,
      "metadata": {
        "id": "1Gb2oGsZz_YC"
      },
      "outputs": [],
      "source": [
        "X=df[[\"muchhits\",\"trdhits\",\"chisqmuch\"]]\n",
        "y=df['trumu']"
      ]
    },
    {
      "cell_type": "code",
      "execution_count": 6,
      "metadata": {
        "id": "XFUZMoK-B5IM"
      },
      "outputs": [],
      "source": [
        "X=X[0:30000]\n",
        "y=y[0:30000]\n",
        "scaling = MinMaxScaler()\n",
        "X_scaled=scaling.fit_transform(X)"
      ]
    },
    {
      "cell_type": "code",
      "execution_count": 7,
      "metadata": {
        "id": "Y2gt2VSHz_as"
      },
      "outputs": [],
      "source": [
        "X_train,X_test,y_train,y_test = train_test_split(X_scaled,y,test_size=0.50,random_state=32)"
      ]
    },
    {
      "cell_type": "code",
      "execution_count": 8,
      "metadata": {
        "colab": {
          "base_uri": "https://localhost:8080/"
        },
        "id": "XrMFTCssz_dd",
        "outputId": "f619b0e0-f735-46de-aa15-bb3538f80d1b"
      },
      "outputs": [
        {
          "output_type": "execute_result",
          "data": {
            "text/plain": [
              "(15000, 3)"
            ]
          },
          "metadata": {},
          "execution_count": 8
        }
      ],
      "source": [
        "X_train.shape"
      ]
    },
    {
      "cell_type": "code",
      "execution_count": 9,
      "metadata": {
        "colab": {
          "base_uri": "https://localhost:8080/"
        },
        "id": "MiOTeXCQB5IQ",
        "outputId": "45d3a123-d7bb-437d-a905-f1c0ad49654b"
      },
      "outputs": [
        {
          "output_type": "execute_result",
          "data": {
            "text/plain": [
              "0    8704\n",
              "1    6296\n",
              "Name: trumu, dtype: int64"
            ]
          },
          "metadata": {},
          "execution_count": 9
        }
      ],
      "source": [
        "y_train.value_counts()"
      ]
    },
    {
      "cell_type": "code",
      "source": [
        "y_test.value_counts()"
      ],
      "metadata": {
        "colab": {
          "base_uri": "https://localhost:8080/"
        },
        "id": "g8GG-nowBaUX",
        "outputId": "b8662886-f2b0-40a6-a04b-e22a03cfe2aa"
      },
      "execution_count": 10,
      "outputs": [
        {
          "output_type": "execute_result",
          "data": {
            "text/plain": [
              "0    8597\n",
              "1    6403\n",
              "Name: trumu, dtype: int64"
            ]
          },
          "metadata": {},
          "execution_count": 10
        }
      ]
    },
    {
      "cell_type": "markdown",
      "source": [
        "# Using framework"
      ],
      "metadata": {
        "id": "OgW1JbBcDKlT"
      }
    },
    {
      "cell_type": "code",
      "execution_count": 11,
      "metadata": {
        "id": "LFCciKY7VwR5"
      },
      "outputs": [],
      "source": [
        "import tensorflow as tf\n",
        "from tensorflow import keras"
      ]
    },
    {
      "cell_type": "code",
      "source": [
        "model = keras.Sequential()\n",
        "\n",
        "model.add(keras.layers.Dense(units=2,activation=\"relu\",input_dim=3))\n",
        "model.add(keras.layers.Dense(units=1,activation=\"sigmoid\"))\n",
        "\n",
        "model.summary()"
      ],
      "metadata": {
        "colab": {
          "base_uri": "https://localhost:8080/"
        },
        "id": "VfO_mmzIDUNx",
        "outputId": "774b76f8-c3f4-4b39-cb7c-14505e1b4b9a"
      },
      "execution_count": 12,
      "outputs": [
        {
          "output_type": "stream",
          "name": "stdout",
          "text": [
            "Model: \"sequential\"\n",
            "_________________________________________________________________\n",
            " Layer (type)                Output Shape              Param #   \n",
            "=================================================================\n",
            " dense (Dense)               (None, 2)                 8         \n",
            "                                                                 \n",
            " dense_1 (Dense)             (None, 1)                 3         \n",
            "                                                                 \n",
            "=================================================================\n",
            "Total params: 11\n",
            "Trainable params: 11\n",
            "Non-trainable params: 0\n",
            "_________________________________________________________________\n"
          ]
        }
      ]
    },
    {
      "cell_type": "code",
      "source": [
        "model.compile(optimizer=\"adam\",loss=\"binary_crossentropy\",metrics=\"accuracy\")"
      ],
      "metadata": {
        "id": "yDvZUSX9Dz4r"
      },
      "execution_count": 13,
      "outputs": []
    },
    {
      "cell_type": "code",
      "source": [
        "model_history=model.fit(X_train,y_train,epochs=100,validation_data=(X_test,y_test))"
      ],
      "metadata": {
        "colab": {
          "base_uri": "https://localhost:8080/"
        },
        "id": "prwIry89EMk0",
        "outputId": "54b221b5-aa54-47ac-c064-939789d6fe2b"
      },
      "execution_count": 14,
      "outputs": [
        {
          "output_type": "stream",
          "name": "stdout",
          "text": [
            "Epoch 1/100\n",
            "469/469 [==============================] - 5s 6ms/step - loss: 0.6191 - accuracy: 0.5835 - val_loss: 0.5799 - val_accuracy: 0.7780\n",
            "Epoch 2/100\n",
            "469/469 [==============================] - 2s 5ms/step - loss: 0.5252 - accuracy: 0.8079 - val_loss: 0.4844 - val_accuracy: 0.8310\n",
            "Epoch 3/100\n",
            "469/469 [==============================] - 3s 6ms/step - loss: 0.4384 - accuracy: 0.8704 - val_loss: 0.4113 - val_accuracy: 0.8817\n",
            "Epoch 4/100\n",
            "469/469 [==============================] - 3s 6ms/step - loss: 0.3813 - accuracy: 0.8843 - val_loss: 0.3681 - val_accuracy: 0.8817\n",
            "Epoch 5/100\n",
            "469/469 [==============================] - 3s 6ms/step - loss: 0.3464 - accuracy: 0.8842 - val_loss: 0.3395 - val_accuracy: 0.8817\n",
            "Epoch 6/100\n",
            "469/469 [==============================] - 3s 6ms/step - loss: 0.3248 - accuracy: 0.8842 - val_loss: 0.3225 - val_accuracy: 0.8819\n",
            "Epoch 7/100\n",
            "469/469 [==============================] - 3s 6ms/step - loss: 0.3120 - accuracy: 0.8881 - val_loss: 0.3121 - val_accuracy: 0.8872\n",
            "Epoch 8/100\n",
            "469/469 [==============================] - 3s 6ms/step - loss: 0.3043 - accuracy: 0.8888 - val_loss: 0.3060 - val_accuracy: 0.8872\n",
            "Epoch 9/100\n",
            "469/469 [==============================] - 2s 5ms/step - loss: 0.2987 - accuracy: 0.8968 - val_loss: 0.2989 - val_accuracy: 0.8982\n",
            "Epoch 10/100\n",
            "469/469 [==============================] - 3s 6ms/step - loss: 0.2928 - accuracy: 0.8989 - val_loss: 0.2933 - val_accuracy: 0.8982\n",
            "Epoch 11/100\n",
            "469/469 [==============================] - 3s 6ms/step - loss: 0.2879 - accuracy: 0.8989 - val_loss: 0.2889 - val_accuracy: 0.8983\n",
            "Epoch 12/100\n",
            "469/469 [==============================] - 3s 6ms/step - loss: 0.2850 - accuracy: 0.8989 - val_loss: 0.2865 - val_accuracy: 0.8996\n",
            "Epoch 13/100\n",
            "469/469 [==============================] - 2s 5ms/step - loss: 0.2832 - accuracy: 0.8995 - val_loss: 0.2851 - val_accuracy: 0.8931\n",
            "Epoch 14/100\n",
            "469/469 [==============================] - 3s 6ms/step - loss: 0.2821 - accuracy: 0.8987 - val_loss: 0.2842 - val_accuracy: 0.9018\n",
            "Epoch 15/100\n",
            "469/469 [==============================] - 3s 6ms/step - loss: 0.2813 - accuracy: 0.9003 - val_loss: 0.2836 - val_accuracy: 0.8995\n",
            "Epoch 16/100\n",
            "469/469 [==============================] - 3s 6ms/step - loss: 0.2810 - accuracy: 0.9002 - val_loss: 0.2833 - val_accuracy: 0.8979\n",
            "Epoch 17/100\n",
            "469/469 [==============================] - 2s 5ms/step - loss: 0.2808 - accuracy: 0.8993 - val_loss: 0.2831 - val_accuracy: 0.8979\n",
            "Epoch 18/100\n",
            "469/469 [==============================] - 3s 6ms/step - loss: 0.2806 - accuracy: 0.8979 - val_loss: 0.2834 - val_accuracy: 0.8977\n",
            "Epoch 19/100\n",
            "469/469 [==============================] - 3s 6ms/step - loss: 0.2805 - accuracy: 0.9007 - val_loss: 0.2829 - val_accuracy: 0.9019\n",
            "Epoch 20/100\n",
            "469/469 [==============================] - 3s 5ms/step - loss: 0.2804 - accuracy: 0.8974 - val_loss: 0.2832 - val_accuracy: 0.8989\n",
            "Epoch 21/100\n",
            "469/469 [==============================] - 3s 5ms/step - loss: 0.2803 - accuracy: 0.9014 - val_loss: 0.2828 - val_accuracy: 0.8957\n",
            "Epoch 22/100\n",
            "469/469 [==============================] - 2s 5ms/step - loss: 0.2803 - accuracy: 0.8979 - val_loss: 0.2828 - val_accuracy: 0.8957\n",
            "Epoch 23/100\n",
            "469/469 [==============================] - 3s 6ms/step - loss: 0.2803 - accuracy: 0.8972 - val_loss: 0.2827 - val_accuracy: 0.8963\n",
            "Epoch 24/100\n",
            "469/469 [==============================] - 3s 6ms/step - loss: 0.2803 - accuracy: 0.8962 - val_loss: 0.2827 - val_accuracy: 0.8999\n",
            "Epoch 25/100\n",
            "469/469 [==============================] - 3s 5ms/step - loss: 0.2802 - accuracy: 0.8967 - val_loss: 0.2827 - val_accuracy: 0.8978\n",
            "Epoch 26/100\n",
            "469/469 [==============================] - 3s 6ms/step - loss: 0.2801 - accuracy: 0.8967 - val_loss: 0.2827 - val_accuracy: 0.8997\n",
            "Epoch 27/100\n",
            "469/469 [==============================] - 3s 6ms/step - loss: 0.2801 - accuracy: 0.8969 - val_loss: 0.2827 - val_accuracy: 0.8957\n",
            "Epoch 28/100\n",
            "469/469 [==============================] - 2s 5ms/step - loss: 0.2801 - accuracy: 0.8979 - val_loss: 0.2827 - val_accuracy: 0.8957\n",
            "Epoch 29/100\n",
            "469/469 [==============================] - 3s 6ms/step - loss: 0.2801 - accuracy: 0.8957 - val_loss: 0.2827 - val_accuracy: 0.8998\n",
            "Epoch 30/100\n",
            "469/469 [==============================] - 3s 5ms/step - loss: 0.2802 - accuracy: 0.8974 - val_loss: 0.2827 - val_accuracy: 0.8986\n",
            "Epoch 31/100\n",
            "469/469 [==============================] - 3s 6ms/step - loss: 0.2800 - accuracy: 0.8971 - val_loss: 0.2826 - val_accuracy: 0.8957\n",
            "Epoch 32/100\n",
            "469/469 [==============================] - 3s 6ms/step - loss: 0.2801 - accuracy: 0.8961 - val_loss: 0.2828 - val_accuracy: 0.8995\n",
            "Epoch 33/100\n",
            "469/469 [==============================] - 2s 5ms/step - loss: 0.2801 - accuracy: 0.8985 - val_loss: 0.2826 - val_accuracy: 0.8957\n",
            "Epoch 34/100\n",
            "469/469 [==============================] - 3s 6ms/step - loss: 0.2801 - accuracy: 0.8969 - val_loss: 0.2826 - val_accuracy: 0.8957\n",
            "Epoch 35/100\n",
            "469/469 [==============================] - 3s 5ms/step - loss: 0.2801 - accuracy: 0.8974 - val_loss: 0.2825 - val_accuracy: 0.8957\n",
            "Epoch 36/100\n",
            "469/469 [==============================] - 3s 5ms/step - loss: 0.2799 - accuracy: 0.8979 - val_loss: 0.2829 - val_accuracy: 0.8957\n",
            "Epoch 37/100\n",
            "469/469 [==============================] - 2s 5ms/step - loss: 0.2801 - accuracy: 0.8974 - val_loss: 0.2825 - val_accuracy: 0.8955\n",
            "Epoch 38/100\n",
            "469/469 [==============================] - 2s 5ms/step - loss: 0.2800 - accuracy: 0.8972 - val_loss: 0.2825 - val_accuracy: 0.8979\n",
            "Epoch 39/100\n",
            "469/469 [==============================] - 3s 6ms/step - loss: 0.2800 - accuracy: 0.8968 - val_loss: 0.2825 - val_accuracy: 0.8957\n",
            "Epoch 40/100\n",
            "469/469 [==============================] - 3s 5ms/step - loss: 0.2800 - accuracy: 0.8974 - val_loss: 0.2825 - val_accuracy: 0.8957\n",
            "Epoch 41/100\n",
            "469/469 [==============================] - 3s 5ms/step - loss: 0.2800 - accuracy: 0.8965 - val_loss: 0.2825 - val_accuracy: 0.9000\n",
            "Epoch 42/100\n",
            "469/469 [==============================] - 2s 5ms/step - loss: 0.2800 - accuracy: 0.8979 - val_loss: 0.2825 - val_accuracy: 0.8957\n",
            "Epoch 43/100\n",
            "469/469 [==============================] - 2s 5ms/step - loss: 0.2799 - accuracy: 0.8972 - val_loss: 0.2825 - val_accuracy: 0.9016\n",
            "Epoch 44/100\n",
            "469/469 [==============================] - 3s 6ms/step - loss: 0.2798 - accuracy: 0.8989 - val_loss: 0.2827 - val_accuracy: 0.9009\n",
            "Epoch 45/100\n",
            "469/469 [==============================] - 3s 6ms/step - loss: 0.2799 - accuracy: 0.8973 - val_loss: 0.2828 - val_accuracy: 0.9003\n",
            "Epoch 46/100\n",
            "469/469 [==============================] - 2s 5ms/step - loss: 0.2800 - accuracy: 0.8983 - val_loss: 0.2825 - val_accuracy: 0.9026\n",
            "Epoch 47/100\n",
            "469/469 [==============================] - 3s 5ms/step - loss: 0.2798 - accuracy: 0.8988 - val_loss: 0.2826 - val_accuracy: 0.9016\n",
            "Epoch 48/100\n",
            "469/469 [==============================] - 3s 6ms/step - loss: 0.2798 - accuracy: 0.8997 - val_loss: 0.2824 - val_accuracy: 0.8957\n",
            "Epoch 49/100\n",
            "469/469 [==============================] - 3s 6ms/step - loss: 0.2798 - accuracy: 0.8979 - val_loss: 0.2827 - val_accuracy: 0.9006\n",
            "Epoch 50/100\n",
            "469/469 [==============================] - 3s 5ms/step - loss: 0.2798 - accuracy: 0.8970 - val_loss: 0.2824 - val_accuracy: 0.9007\n",
            "Epoch 51/100\n",
            "469/469 [==============================] - 3s 6ms/step - loss: 0.2798 - accuracy: 0.8972 - val_loss: 0.2823 - val_accuracy: 0.8957\n",
            "Epoch 52/100\n",
            "469/469 [==============================] - 3s 5ms/step - loss: 0.2798 - accuracy: 0.8977 - val_loss: 0.2823 - val_accuracy: 0.8957\n",
            "Epoch 53/100\n",
            "469/469 [==============================] - 2s 5ms/step - loss: 0.2798 - accuracy: 0.8972 - val_loss: 0.2823 - val_accuracy: 0.9013\n",
            "Epoch 54/100\n",
            "469/469 [==============================] - 3s 6ms/step - loss: 0.2798 - accuracy: 0.8996 - val_loss: 0.2823 - val_accuracy: 0.8976\n",
            "Epoch 55/100\n",
            "469/469 [==============================] - 3s 6ms/step - loss: 0.2798 - accuracy: 0.8980 - val_loss: 0.2822 - val_accuracy: 0.8961\n",
            "Epoch 56/100\n",
            "469/469 [==============================] - 3s 6ms/step - loss: 0.2798 - accuracy: 0.8965 - val_loss: 0.2823 - val_accuracy: 0.9009\n",
            "Epoch 57/100\n",
            "469/469 [==============================] - 3s 6ms/step - loss: 0.2798 - accuracy: 0.9006 - val_loss: 0.2822 - val_accuracy: 0.8957\n",
            "Epoch 58/100\n",
            "469/469 [==============================] - 3s 6ms/step - loss: 0.2797 - accuracy: 0.8973 - val_loss: 0.2823 - val_accuracy: 0.8957\n",
            "Epoch 59/100\n",
            "469/469 [==============================] - 3s 5ms/step - loss: 0.2797 - accuracy: 0.8963 - val_loss: 0.2822 - val_accuracy: 0.8975\n",
            "Epoch 60/100\n",
            "469/469 [==============================] - 3s 5ms/step - loss: 0.2798 - accuracy: 0.8989 - val_loss: 0.2822 - val_accuracy: 0.8964\n",
            "Epoch 61/100\n",
            "469/469 [==============================] - 3s 5ms/step - loss: 0.2796 - accuracy: 0.8966 - val_loss: 0.2823 - val_accuracy: 0.9017\n",
            "Epoch 62/100\n",
            "469/469 [==============================] - 3s 5ms/step - loss: 0.2797 - accuracy: 0.8993 - val_loss: 0.2822 - val_accuracy: 0.8955\n",
            "Epoch 63/100\n",
            "469/469 [==============================] - 3s 6ms/step - loss: 0.2797 - accuracy: 0.8975 - val_loss: 0.2822 - val_accuracy: 0.9017\n",
            "Epoch 64/100\n",
            "469/469 [==============================] - 3s 6ms/step - loss: 0.2797 - accuracy: 0.8970 - val_loss: 0.2821 - val_accuracy: 0.8965\n",
            "Epoch 65/100\n",
            "469/469 [==============================] - 3s 5ms/step - loss: 0.2797 - accuracy: 0.8975 - val_loss: 0.2821 - val_accuracy: 0.8979\n",
            "Epoch 66/100\n",
            "469/469 [==============================] - 3s 5ms/step - loss: 0.2796 - accuracy: 0.8990 - val_loss: 0.2821 - val_accuracy: 0.8961\n",
            "Epoch 67/100\n",
            "469/469 [==============================] - 3s 6ms/step - loss: 0.2796 - accuracy: 0.8967 - val_loss: 0.2821 - val_accuracy: 0.9007\n",
            "Epoch 68/100\n",
            "469/469 [==============================] - 3s 6ms/step - loss: 0.2796 - accuracy: 0.8972 - val_loss: 0.2821 - val_accuracy: 0.9006\n",
            "Epoch 69/100\n",
            "469/469 [==============================] - 3s 5ms/step - loss: 0.2795 - accuracy: 0.8982 - val_loss: 0.2820 - val_accuracy: 0.8977\n",
            "Epoch 70/100\n",
            "469/469 [==============================] - 3s 6ms/step - loss: 0.2795 - accuracy: 0.8997 - val_loss: 0.2820 - val_accuracy: 0.8955\n",
            "Epoch 71/100\n",
            "469/469 [==============================] - 3s 5ms/step - loss: 0.2796 - accuracy: 0.8979 - val_loss: 0.2821 - val_accuracy: 0.8956\n",
            "Epoch 72/100\n",
            "469/469 [==============================] - 3s 6ms/step - loss: 0.2796 - accuracy: 0.8963 - val_loss: 0.2821 - val_accuracy: 0.9017\n",
            "Epoch 73/100\n",
            "469/469 [==============================] - 3s 5ms/step - loss: 0.2795 - accuracy: 0.8992 - val_loss: 0.2820 - val_accuracy: 0.8970\n",
            "Epoch 74/100\n",
            "469/469 [==============================] - 3s 6ms/step - loss: 0.2796 - accuracy: 0.8969 - val_loss: 0.2820 - val_accuracy: 0.8961\n",
            "Epoch 75/100\n",
            "469/469 [==============================] - 3s 5ms/step - loss: 0.2795 - accuracy: 0.8985 - val_loss: 0.2820 - val_accuracy: 0.8956\n",
            "Epoch 76/100\n",
            "469/469 [==============================] - 2s 5ms/step - loss: 0.2795 - accuracy: 0.8990 - val_loss: 0.2821 - val_accuracy: 0.8956\n",
            "Epoch 77/100\n",
            "469/469 [==============================] - 2s 5ms/step - loss: 0.2795 - accuracy: 0.8969 - val_loss: 0.2820 - val_accuracy: 0.9011\n",
            "Epoch 78/100\n",
            "469/469 [==============================] - 3s 6ms/step - loss: 0.2794 - accuracy: 0.8993 - val_loss: 0.2821 - val_accuracy: 0.8956\n",
            "Epoch 79/100\n",
            "469/469 [==============================] - 3s 6ms/step - loss: 0.2794 - accuracy: 0.8987 - val_loss: 0.2819 - val_accuracy: 0.9006\n",
            "Epoch 80/100\n",
            "469/469 [==============================] - 3s 5ms/step - loss: 0.2793 - accuracy: 0.9003 - val_loss: 0.2822 - val_accuracy: 0.8956\n",
            "Epoch 81/100\n",
            "469/469 [==============================] - 3s 6ms/step - loss: 0.2795 - accuracy: 0.8969 - val_loss: 0.2819 - val_accuracy: 0.8956\n",
            "Epoch 82/100\n",
            "469/469 [==============================] - 3s 6ms/step - loss: 0.2795 - accuracy: 0.8998 - val_loss: 0.2819 - val_accuracy: 0.8968\n",
            "Epoch 83/100\n",
            "469/469 [==============================] - 3s 5ms/step - loss: 0.2794 - accuracy: 0.8985 - val_loss: 0.2818 - val_accuracy: 0.8957\n",
            "Epoch 84/100\n",
            "469/469 [==============================] - 3s 5ms/step - loss: 0.2794 - accuracy: 0.8960 - val_loss: 0.2819 - val_accuracy: 0.9015\n",
            "Epoch 85/100\n",
            "469/469 [==============================] - 3s 6ms/step - loss: 0.2794 - accuracy: 0.9014 - val_loss: 0.2819 - val_accuracy: 0.8956\n",
            "Epoch 86/100\n",
            "469/469 [==============================] - 3s 6ms/step - loss: 0.2794 - accuracy: 0.8979 - val_loss: 0.2818 - val_accuracy: 0.9011\n",
            "Epoch 87/100\n",
            "469/469 [==============================] - 3s 6ms/step - loss: 0.2794 - accuracy: 0.8993 - val_loss: 0.2818 - val_accuracy: 0.8955\n",
            "Epoch 88/100\n",
            "469/469 [==============================] - 3s 6ms/step - loss: 0.2793 - accuracy: 0.8989 - val_loss: 0.2818 - val_accuracy: 0.9015\n",
            "Epoch 89/100\n",
            "469/469 [==============================] - 3s 6ms/step - loss: 0.2793 - accuracy: 0.8981 - val_loss: 0.2818 - val_accuracy: 0.8964\n",
            "Epoch 90/100\n",
            "469/469 [==============================] - 3s 6ms/step - loss: 0.2793 - accuracy: 0.9001 - val_loss: 0.2818 - val_accuracy: 0.8956\n",
            "Epoch 91/100\n",
            "469/469 [==============================] - 3s 6ms/step - loss: 0.2793 - accuracy: 0.8974 - val_loss: 0.2818 - val_accuracy: 0.9025\n",
            "Epoch 92/100\n",
            "469/469 [==============================] - 3s 5ms/step - loss: 0.2793 - accuracy: 0.8991 - val_loss: 0.2817 - val_accuracy: 0.8968\n",
            "Epoch 93/100\n",
            "469/469 [==============================] - 3s 6ms/step - loss: 0.2793 - accuracy: 0.9005 - val_loss: 0.2817 - val_accuracy: 0.8960\n",
            "Epoch 94/100\n",
            "469/469 [==============================] - 3s 6ms/step - loss: 0.2792 - accuracy: 0.8987 - val_loss: 0.2818 - val_accuracy: 0.8956\n",
            "Epoch 95/100\n",
            "469/469 [==============================] - 3s 6ms/step - loss: 0.2792 - accuracy: 0.8995 - val_loss: 0.2817 - val_accuracy: 0.8972\n",
            "Epoch 96/100\n",
            "469/469 [==============================] - 3s 5ms/step - loss: 0.2791 - accuracy: 0.8987 - val_loss: 0.2817 - val_accuracy: 0.9014\n",
            "Epoch 97/100\n",
            "469/469 [==============================] - 3s 6ms/step - loss: 0.2792 - accuracy: 0.9000 - val_loss: 0.2817 - val_accuracy: 0.8957\n",
            "Epoch 98/100\n",
            "469/469 [==============================] - 2s 5ms/step - loss: 0.2791 - accuracy: 0.8999 - val_loss: 0.2819 - val_accuracy: 0.8956\n",
            "Epoch 99/100\n",
            "469/469 [==============================] - 2s 5ms/step - loss: 0.2792 - accuracy: 0.8987 - val_loss: 0.2817 - val_accuracy: 0.8956\n",
            "Epoch 100/100\n",
            "469/469 [==============================] - 3s 6ms/step - loss: 0.2793 - accuracy: 0.8983 - val_loss: 0.2816 - val_accuracy: 0.8961\n"
          ]
        }
      ]
    },
    {
      "cell_type": "code",
      "source": [
        "loss=model_history.history['loss']\n",
        "index=np.arange(100)\n",
        "sns.lineplot(x=index,y=loss)\n",
        "plt.ylabel('loss')\n",
        "plt.xlabel('Epoch number')"
      ],
      "metadata": {
        "colab": {
          "base_uri": "https://localhost:8080/",
          "height": 296
        },
        "id": "xdOpdqsr-OyI",
        "outputId": "fac5e50d-16a3-4c74-921f-abf807c2df27"
      },
      "execution_count": 15,
      "outputs": [
        {
          "output_type": "execute_result",
          "data": {
            "text/plain": [
              "Text(0.5, 0, 'Epoch number')"
            ]
          },
          "metadata": {},
          "execution_count": 15
        },
        {
          "output_type": "display_data",
          "data": {
            "image/png": "[encoded data removed]",
            "text/plain": [
              "<Figure size 432x288 with 1 Axes>"
            ]
          },
          "metadata": {
            "needs_background": "light"
          }
        }
      ]
    },
    {
      "cell_type": "code",
      "source": [
        "predictions=model.predict(X_test)"
      ],
      "metadata": {
        "id": "78K32k3GHHjg"
      },
      "execution_count": 16,
      "outputs": []
    },
    {
      "cell_type": "code",
      "source": [
        "predictions=[]\n",
        "predictions_sigmoid = model.predict(X_test)\n",
        "for i in predictions_sigmoid:\n",
        "  if i>0.5:\n",
        "    predictions.append(1)\n",
        "  else:\n",
        "    predictions.append(0)"
      ],
      "metadata": {
        "id": "lhFiVvI4OwXj"
      },
      "execution_count": 17,
      "outputs": []
    },
    {
      "cell_type": "code",
      "source": [
        "cf=confusion_matrix(y_test,predictions)"
      ],
      "metadata": {
        "id": "8RaGRlOVO0Ld"
      },
      "execution_count": 18,
      "outputs": []
    },
    {
      "cell_type": "code",
      "source": [
        "sns.heatmap(data=cf,annot=True,fmt='d')\n",
        "plt.xlabel(\"Predicted\")\n",
        "plt.ylabel(\"Actual\")"
      ],
      "metadata": {
        "colab": {
          "base_uri": "https://localhost:8080/",
          "height": 296
        },
        "id": "jahGiWJipJid",
        "outputId": "6d4e4c49-ffc3-4701-89d7-fd0447caba8d"
      },
      "execution_count": 19,
      "outputs": [
        {
          "output_type": "execute_result",
          "data": {
            "text/plain": [
              "Text(33.0, 0.5, 'Actual')"
            ]
          },
          "metadata": {},
          "execution_count": 19
        },
        {
          "output_type": "display_data",
          "data": {
            "image/png": "[encoded data removed]",
            "text/plain": [
              "<Figure size 432x288 with 2 Axes>"
            ]
          },
          "metadata": {
            "needs_background": "light"
          }
        }
      ]
    },
    {
      "cell_type": "code",
      "source": [
        "print(classification_report(y_test,predictions))"
      ],
      "metadata": {
        "colab": {
          "base_uri": "https://localhost:8080/"
        },
        "id": "BRYQc_ELPAnR",
        "outputId": "5ce8209b-7f93-47d2-d261-cb1ab5922ffb"
      },
      "execution_count": 20,
      "outputs": [
        {
          "output_type": "stream",
          "name": "stdout",
          "text": [
            "              precision    recall  f1-score   support\n",
            "\n",
            "           0       0.91      0.91      0.91      8597\n",
            "           1       0.88      0.88      0.88      6403\n",
            "\n",
            "    accuracy                           0.90     15000\n",
            "   macro avg       0.89      0.89      0.89     15000\n",
            "weighted avg       0.90      0.90      0.90     15000\n",
            "\n"
          ]
        }
      ]
    },
    {
      "cell_type": "code",
      "source": [
        "from sklearn.metrics import roc_curve\n",
        "fpr2, tpr2, thresholds2=roc_curve(y_test,predictions)\n",
        "fpr=[0.,0.09259044,1.] # custom ANN results\n",
        "tpr =[0.,0.87990005,1.] \n",
        "plt.figure(figsize=(7,7))\n",
        "plt.plot([0, 1], [0, 1], '--',color='red',label='Thresold')\n",
        "plt.plot(fpr2, tpr2,color='blue',label='Keras based model',marker=\"*\")\n",
        "plt.plot(fpr, tpr,color='green',label='Custom model')\n",
        "plt.ylabel('True positive rate(Recall)')\n",
        "plt.xlabel('False positive rate')\n",
        "plt.title('ROC')\n",
        "plt.grid()\n",
        "plt.legend()\n",
        "plt.show()"
      ],
      "metadata": {
        "colab": {
          "base_uri": "https://localhost:8080/",
          "height": 458
        },
        "id": "KLsSsYRZTo-h",
        "outputId": "ce18c556-73c8-4230-ad2b-7188ed4f4e62"
      },
      "execution_count": 28,
      "outputs": [
        {
          "output_type": "display_data",
          "data": {
            "image/png": "[encoded data removed]",
            "text/plain": [
              "<Figure size 504x504 with 1 Axes>"
            ]
          },
          "metadata": {
            "needs_background": "light"
          }
        }
      ]
    }
  ],
  "metadata": {
    "accelerator": "GPU",
    "colab": {
      "collapsed_sections": [],
      "name": "Smple_ANN_classification_keras.ipynb",
      "provenance": []
    },
    "kernelspec": {
      "display_name": "Python 3",
      "language": "python",
      "name": "python3"
    },
    "language_info": {
      "codemirror_mode": {
        "name": "ipython",
        "version": 3
      },
      "file_extension": ".py",
      "mimetype": "text/x-python",
      "name": "python",
      "nbconvert_exporter": "python",
      "pygments_lexer": "ipython3",
      "version": "3.8.10"
    }
  },
  "nbformat": 4,
  "nbformat_minor": 0
}